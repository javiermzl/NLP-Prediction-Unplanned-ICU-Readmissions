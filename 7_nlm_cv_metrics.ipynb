{
 "cells": [
  {
   "cell_type": "code",
   "execution_count": 1,
   "metadata": {},
   "outputs": [],
   "source": [
    "import pandas as pd\n",
    "import numpy as np\n",
    "import re\n",
    "import datetime\n",
    "import seaborn as sns\n",
    "import matplotlib.pyplot as plt"
   ]
  },
  {
   "cell_type": "code",
   "execution_count": 2,
   "metadata": {},
   "outputs": [],
   "source": [
    "DIR = \"D:/Workspace/MIMIC DATA/mimic-iii-clinical-database-1.4/\""
   ]
  },
  {
   "cell_type": "code",
   "execution_count": 3,
   "metadata": {},
   "outputs": [],
   "source": [
    "adm_notes = pd.read_csv(DIR + \"readmission.csv\", low_memory=False)"
   ]
  },
  {
   "cell_type": "markdown",
   "metadata": {},
   "source": [
    "# Natural Language"
   ]
  },
  {
   "cell_type": "code",
   "execution_count": 4,
   "metadata": {},
   "outputs": [],
   "source": [
    "import string\n",
    "import nltk\n",
    "from nltk import word_tokenize\n",
    "from nltk.stem.porter import PorterStemmer\n",
    "from nltk.corpus import stopwords"
   ]
  },
  {
   "cell_type": "code",
   "execution_count": 5,
   "metadata": {},
   "outputs": [],
   "source": [
    "def clean_text(texts):\n",
    "    texts = texts.fillna(' ')\n",
    "    texts = texts.str.replace('\\n',' ')\n",
    "    texts = texts.str.replace('\\r',' ')\n",
    "\n",
    "    table = str.maketrans('', '', string.punctuation + '0123456789')\n",
    "    texts = [text.lower().translate(table) for text in texts]\n",
    "\n",
    "    return texts"
   ]
  },
  {
   "cell_type": "code",
   "execution_count": 6,
   "metadata": {},
   "outputs": [],
   "source": [
    "adm_notes['TEXT'] = clean_text(adm_notes['TEXT'])"
   ]
  },
  {
   "cell_type": "code",
   "execution_count": 7,
   "metadata": {},
   "outputs": [],
   "source": [
    "stop_words = stopwords.words('english')\n",
    "stop_words = stop_words + ['patient', 'date', 'admission', 'discharge', 'lastname', 'firstname', 'sex']"
   ]
  },
  {
   "cell_type": "code",
   "execution_count": 8,
   "metadata": {},
   "outputs": [],
   "source": [
    "porter = PorterStemmer()"
   ]
  },
  {
   "cell_type": "code",
   "execution_count": 9,
   "metadata": {},
   "outputs": [],
   "source": [
    "def tokenize_stem(text):\n",
    "    words = word_tokenize(text)\n",
    "    words = [word for word in words if word not in stop_words]\n",
    "    words = [porter.stem(word) for word in words]\n",
    "    return words"
   ]
  },
  {
   "cell_type": "markdown",
   "metadata": {},
   "source": [
    "# Model\n",
    "## Words, Train and Test"
   ]
  },
  {
   "cell_type": "code",
   "execution_count": 10,
   "metadata": {},
   "outputs": [],
   "source": [
    "from sklearn import metrics\n",
    "from sklearn.feature_extraction.text import CountVectorizer\n",
    "from sklearn.linear_model import LogisticRegression, Ridge, Lasso, ElasticNet\n",
    "from sklearn.svm import SVC\n",
    "from sklearn.naive_bayes import MultinomialNB\n",
    "from sklearn.ensemble import RandomForestClassifier\n",
    "from sklearn.neural_network import MLPClassifier\n",
    "from sklearn.model_selection import GridSearchCV, train_test_split, cross_val_score, cross_validate\n",
    "from xgboost import XGBClassifier"
   ]
  },
  {
   "cell_type": "markdown",
   "metadata": {},
   "source": [
    "Repartition data"
   ]
  },
  {
   "cell_type": "code",
   "execution_count": 11,
   "metadata": {},
   "outputs": [],
   "source": [
    "df_train, df_test = train_test_split(adm_notes, test_size=0.2)"
   ]
  },
  {
   "cell_type": "markdown",
   "metadata": {},
   "source": [
    "Subsample non-readmitted patients to match size of readmitted ones"
   ]
  },
  {
   "cell_type": "code",
   "execution_count": 12,
   "metadata": {},
   "outputs": [],
   "source": [
    "rows_pos = df_train['READM_WITHIN_30'] == 1\n",
    "df_train_pos = df_train.loc[rows_pos]\n",
    "df_train_neg = df_train.loc[~rows_pos]\n",
    "\n",
    "df_train = pd.concat([df_train_pos, df_train_neg.sample(n = len(df_train_pos))], axis = 0)\n",
    "df_train = df_train.sample(n = len(df_train)).reset_index(drop = True)"
   ]
  },
  {
   "cell_type": "code",
   "execution_count": 13,
   "metadata": {},
   "outputs": [],
   "source": [
    "rows_pos = df_test['READM_WITHIN_30'] == 1\n",
    "df_test_pos = df_test.loc[rows_pos]\n",
    "df_test_neg = df_test.loc[~rows_pos]\n",
    "\n",
    "df_test = pd.concat([df_test_pos, df_test_neg.sample(n = len(df_test_pos))], axis = 0)\n",
    "df_test = df_test.sample(n = len(df_test)).reset_index(drop = True)"
   ]
  },
  {
   "cell_type": "code",
   "execution_count": 14,
   "metadata": {},
   "outputs": [
    {
     "output_type": "stream",
     "name": "stdout",
     "text": "(5068, 10)\n(1174, 10)\n"
    }
   ],
   "source": [
    "print(df_train.shape)\n",
    "print(df_test.shape)"
   ]
  },
  {
   "cell_type": "markdown",
   "metadata": {},
   "source": [
    "Sparse Matrix with word count"
   ]
  },
  {
   "cell_type": "code",
   "execution_count": 15,
   "metadata": {},
   "outputs": [],
   "source": [
    "vect = CountVectorizer(lowercase = True, max_features = 3000, tokenizer = tokenize_stem)\n",
    "vect.fit(df_train['TEXT'].values)\n",
    "\n",
    "X_train_tf = vect.transform(df_train['TEXT'].values)\n",
    "X_test_tf = vect.transform(df_test['TEXT'].values)\n",
    "\n",
    "y_train = df_train['READM_WITHIN_30']\n",
    "y_test = df_test['READM_WITHIN_30']"
   ]
  },
  {
   "cell_type": "code",
   "execution_count": 16,
   "metadata": {},
   "outputs": [],
   "source": [
    "metrics = ['roc_auc', 'accuracy', 'precision', 'recall']"
   ]
  },
  {
   "cell_type": "markdown",
   "metadata": {},
   "source": [
    "## Support Vector Machine"
   ]
  },
  {
   "cell_type": "code",
   "execution_count": 17,
   "metadata": {},
   "outputs": [
    {
     "output_type": "execute_result",
     "data": {
      "text/plain": "GridSearchCV(cv=None, error_score=nan,\n             estimator=SVC(C=1.0, break_ties=False, cache_size=200,\n                           class_weight=None, coef0=0.0,\n                           decision_function_shape='ovr', degree=3,\n                           gamma='scale', kernel='rbf', max_iter=-1,\n                           probability=False, random_state=None, shrinking=True,\n                           tol=0.001, verbose=False),\n             iid='deprecated', n_jobs=None,\n             param_grid={'C': [0.1, 1, 2], 'kernel': ['linear', 'poly', 'rbf']},\n             pre_dispatch='2*n_jobs', refit=True, return_train_score=False,\n             scoring=None, verbose=0)"
     },
     "metadata": {},
     "execution_count": 17
    }
   ],
   "source": [
    "grid = {\n",
    "    'kernel': ['linear', 'poly', 'rbf'],\n",
    "    'C': [0.1, 1, 2]\n",
    "}\n",
    "\n",
    "model_svm = GridSearchCV(SVC(), param_grid=grid)\n",
    "model_svm.fit(X_test_tf, y_test)"
   ]
  },
  {
   "cell_type": "code",
   "execution_count": 18,
   "metadata": {},
   "outputs": [
    {
     "output_type": "execute_result",
     "data": {
      "text/plain": "{'C': 2, 'kernel': 'rbf'}"
     },
     "metadata": {},
     "execution_count": 18
    }
   ],
   "source": [
    "model_svm.best_params_"
   ]
  },
  {
   "cell_type": "code",
   "execution_count": 19,
   "metadata": {},
   "outputs": [],
   "source": [
    "model_svm = SVC(C=1, kernel='rbf')\n",
    "scores_svm = cross_validate(model_svm, X_train_tf, y_train, cv=5, scoring=metrics, return_train_score=True)"
   ]
  },
  {
   "cell_type": "code",
   "execution_count": 20,
   "metadata": {},
   "outputs": [
    {
     "output_type": "stream",
     "name": "stdout",
     "text": "Set\t\t Train\t\t \t Sd Train\nAUC\t\t 0.8632660420404807 \t 0.004986481194719112\nAccuracy\t 0.7913378514590634 \t 0.0017314191907619578\nPrecission\t 0.852648441838733 \t 0.0018856600132221612\nRecall\t\t 0.852648441838733 \t 0.0018856600132221612\n"
    }
   ],
   "source": [
    "print('Set\\t\\t', 'Train\\t\\t', '\\t Sd Train')\n",
    "print('AUC\\t\\t', np.mean(scores_svm['train_roc_auc']), '\\t', np.std(scores_svm['train_roc_auc']))\n",
    "print('Accuracy\\t', np.mean(scores_svm['train_accuracy']), '\\t', np.std(scores_svm['train_accuracy']))\n",
    "print('Precission\\t', np.mean(scores_svm['train_precision']), '\\t', np.std(scores_svm['train_precision']))\n",
    "print('Recall\\t\\t', np.mean(scores_svm['train_precision']), '\\t', np.std(scores_svm['train_precision']))"
   ]
  },
  {
   "cell_type": "code",
   "execution_count": 21,
   "metadata": {},
   "outputs": [
    {
     "output_type": "stream",
     "name": "stdout",
     "text": "Set\t\t Test\t\t \t Sd Test\nAUC\t\t 0.6799194189410096 \t 0.006507489176104674\nAccuracy\t 0.629243697806231 \t 0.006008071663082114\nPrecission\t 0.6471547401149698 \t 0.0060891957785869175\nRecall\t\t 0.5690717309446407 \t 0.029542624178309763\n"
    }
   ],
   "source": [
    "print('Set\\t\\t', 'Test\\t\\t', '\\t Sd Test')\n",
    "print('AUC\\t\\t', np.mean(scores_svm['test_roc_auc']), '\\t', np.std(scores_svm['test_roc_auc']))\n",
    "print('Accuracy\\t', np.mean(scores_svm['test_accuracy']), '\\t', np.std(scores_svm['test_accuracy']))\n",
    "print('Precission\\t', np.mean(scores_svm['test_precision']), '\\t', np.std(scores_svm['test_precision']))\n",
    "print('Recall\\t\\t', np.mean(scores_svm['test_recall']), '\\t', np.std(scores_svm['test_recall']))"
   ]
  },
  {
   "cell_type": "markdown",
   "metadata": {},
   "source": [
    "## Multi-layer Perceptron"
   ]
  },
  {
   "cell_type": "code",
   "execution_count": 22,
   "metadata": {},
   "outputs": [
    {
     "output_type": "execute_result",
     "data": {
      "text/plain": "GridSearchCV(cv=None, error_score=nan,\n             estimator=MLPClassifier(activation='relu', alpha=0.0001,\n                                     batch_size='auto', beta_1=0.9,\n                                     beta_2=0.999, early_stopping=False,\n                                     epsilon=1e-08, hidden_layer_sizes=(10, 2),\n                                     learning_rate='constant',\n                                     learning_rate_init=0.001, max_fun=15000,\n                                     max_iter=200, momentum=0.9,\n                                     n_iter_no_change=10,\n                                     nesterovs_momentum=True, power_t=0.5,\n                                     random_state=None, shuffle=True,\n                                     solver='adam', tol=0.0001,\n                                     validation_fraction=0.1, verbose=False,\n                                     warm_start=False),\n             iid='deprecated', n_jobs=None,\n             param_grid={'alpha': [0.1, 0.01, 0.001, 0.0001, 1e-05],\n                         'learning_rate_init': [0.01, 0.001, 0.0001],\n                         'solver': ['adam', 'sgd', 'lbfgs']},\n             pre_dispatch='2*n_jobs', refit=True, return_train_score=False,\n             scoring=None, verbose=0)"
     },
     "metadata": {},
     "execution_count": 22
    }
   ],
   "source": [
    "grid = {\n",
    "    'alpha': [1e-1, 1e-2, 1e-3, 1e-4, 1e-5],\n",
    "    'solver': ['adam', 'sgd', 'lbfgs'],\n",
    "    'learning_rate_init': [0.01,0.001,0.0001]\n",
    "}\n",
    "\n",
    "model_mlp = GridSearchCV(MLPClassifier(hidden_layer_sizes=(10, 2)), param_grid=grid)\n",
    "model_mlp.fit(X_test_tf, y_test)"
   ]
  },
  {
   "cell_type": "code",
   "execution_count": 23,
   "metadata": {},
   "outputs": [
    {
     "output_type": "execute_result",
     "data": {
      "text/plain": "{'alpha': 1e-05, 'learning_rate_init': 0.001, 'solver': 'adam'}"
     },
     "metadata": {},
     "execution_count": 23
    }
   ],
   "source": [
    "model_mlp.best_params_"
   ]
  },
  {
   "cell_type": "code",
   "execution_count": 24,
   "metadata": {},
   "outputs": [],
   "source": [
    "model_mlp = MLPClassifier(hidden_layer_sizes=(10,2), alpha=1e-05, learning_rate_init=0.001, solver='adam')\n",
    "scores_mlp = cross_validate(model_mlp, X_train_tf, y_train, cv=5, scoring=metrics, return_train_score=True)"
   ]
  },
  {
   "cell_type": "code",
   "execution_count": 25,
   "metadata": {},
   "outputs": [
    {
     "output_type": "stream",
     "name": "stdout",
     "text": "Set\t\t Train\t\t \t Sd Train\nAUC\t\t 0.9508956053213081 \t 0.05794534834095564\nAccuracy\t 0.9431752597638416 \t 0.05203754365711709\nPrecission\t 0.970551114850652 \t 0.058897770298695834\nRecall\t\t 0.970551114850652 \t 0.058897770298695834\n"
    }
   ],
   "source": [
    "print('Set\\t\\t', 'Train\\t\\t', '\\t Sd Train')\n",
    "print('AUC\\t\\t', np.mean(scores_mlp['train_roc_auc']), '\\t', np.std(scores_mlp['train_roc_auc']))\n",
    "print('Accuracy\\t', np.mean(scores_mlp['train_accuracy']), '\\t', np.std(scores_mlp['train_accuracy']))\n",
    "print('Precission\\t', np.mean(scores_mlp['train_precision']), '\\t', np.std(scores_mlp['train_precision']))\n",
    "print('Recall\\t\\t', np.mean(scores_mlp['train_precision']), '\\t', np.std(scores_mlp['train_precision']))"
   ]
  },
  {
   "cell_type": "code",
   "execution_count": 26,
   "metadata": {},
   "outputs": [
    {
     "output_type": "stream",
     "name": "stdout",
     "text": "Set\t\t Test\t\t \t Sd Test\nAUC\t\t 0.6210032900480349 \t 0.01415120926816873\nAccuracy\t 0.5913555728196171 \t 0.01733559743474923\nPrecission\t 0.5922297767228827 \t 0.020006706166102454\nRecall\t\t 0.5939518675304629 \t 0.07523969916347847\n"
    }
   ],
   "source": [
    "print('Set\\t\\t', 'Test\\t\\t', '\\t Sd Test')\n",
    "print('AUC\\t\\t', np.mean(scores_mlp['test_roc_auc']), '\\t', np.std(scores_mlp['test_roc_auc']))\n",
    "print('Accuracy\\t', np.mean(scores_mlp['test_accuracy']), '\\t', np.std(scores_mlp['test_accuracy']))\n",
    "print('Precission\\t', np.mean(scores_mlp['test_precision']), '\\t', np.std(scores_mlp['test_precision']))\n",
    "print('Recall\\t\\t', np.mean(scores_mlp['test_recall']), '\\t', np.std(scores_mlp['test_recall']))"
   ]
  },
  {
   "cell_type": "markdown",
   "metadata": {},
   "source": [
    "## Random Forest"
   ]
  },
  {
   "cell_type": "code",
   "execution_count": 27,
   "metadata": {},
   "outputs": [
    {
     "output_type": "execute_result",
     "data": {
      "text/plain": "GridSearchCV(cv=None, error_score=nan,\n             estimator=RandomForestClassifier(bootstrap=False, ccp_alpha=0.0,\n                                              class_weight=None,\n                                              criterion='gini', max_depth=None,\n                                              max_features='auto',\n                                              max_leaf_nodes=None,\n                                              max_samples=None,\n                                              min_impurity_decrease=0.0,\n                                              min_impurity_split=None,\n                                              min_samples_leaf=1,\n                                              min_samples_split=2,\n                                              min_weight_fraction_leaf=0.0,\n                                              n_estimators=100, n_jobs=None,\n                                              oob_score=False,\n                                              random_state=None, verbose=0,\n                                              warm_start=False),\n             iid='deprecated', n_jobs=None,\n             param_grid={'max_depth': [10, 20, 30, 40],\n                         'max_features': ['auto', 'sqrt'],\n                         'min_samples_leaf': [1, 2],\n                         'min_samples_split': [2, 5],\n                         'n_estimators': [100, 200, 300]},\n             pre_dispatch='2*n_jobs', refit=True, return_train_score=False,\n             scoring=None, verbose=0)"
     },
     "metadata": {},
     "execution_count": 27
    }
   ],
   "source": [
    "grid = {\n",
    "    'max_depth': [10, 20, 30, 40],\n",
    "    'max_features': ['auto', 'sqrt'],\n",
    "    'min_samples_leaf': [1, 2],\n",
    "    'min_samples_split': [2, 5],\n",
    "    'n_estimators': [100, 200, 300]\n",
    "}\n",
    "model_rf = GridSearchCV(RandomForestClassifier(bootstrap=False), param_grid=grid)\n",
    "model_rf.fit(X_test_tf, y_test)"
   ]
  },
  {
   "cell_type": "code",
   "execution_count": 28,
   "metadata": {},
   "outputs": [
    {
     "output_type": "execute_result",
     "data": {
      "text/plain": "{'max_depth': 10,\n 'max_features': 'auto',\n 'min_samples_leaf': 2,\n 'min_samples_split': 2,\n 'n_estimators': 100}"
     },
     "metadata": {},
     "execution_count": 28
    }
   ],
   "source": [
    "model_rf.best_params_"
   ]
  },
  {
   "cell_type": "code",
   "execution_count": 29,
   "metadata": {},
   "outputs": [],
   "source": [
    "model_rf = RandomForestClassifier(\n",
    "    bootstrap=False, max_depth=20, max_features='auto', min_samples_leaf=2, min_samples_split=2, n_estimators=100\n",
    ")\n",
    "scores_rf = cross_validate(model_rf, X_train_tf, y_train, cv=5, scoring=metrics, return_train_score=True)"
   ]
  },
  {
   "cell_type": "code",
   "execution_count": 30,
   "metadata": {},
   "outputs": [
    {
     "output_type": "stream",
     "name": "stdout",
     "text": "Set\t\t Train\t\t \t Sd Train\nAUC\t\t 0.998641436612884 \t 0.0001963476486064476\nAccuracy\t 0.9761244408865032 \t 0.0027372607445500037\nPrecission\t 0.9963324220509492 \t 0.0037667293652973123\nRecall\t\t 0.9963324220509492 \t 0.0037667293652973123\n"
    }
   ],
   "source": [
    "print('Set\\t\\t', 'Train\\t\\t', '\\t Sd Train')\n",
    "print('AUC\\t\\t', np.mean(scores_rf['train_roc_auc']), '\\t', np.std(scores_rf['train_roc_auc']))\n",
    "print('Accuracy\\t', np.mean(scores_rf['train_accuracy']), '\\t', np.std(scores_rf['train_accuracy']))\n",
    "print('Precission\\t', np.mean(scores_rf['train_precision']), '\\t', np.std(scores_rf['train_precision']))\n",
    "print('Recall\\t\\t', np.mean(scores_rf['train_precision']), '\\t', np.std(scores_rf['train_precision']))"
   ]
  },
  {
   "cell_type": "code",
   "execution_count": 31,
   "metadata": {},
   "outputs": [
    {
     "output_type": "stream",
     "name": "stdout",
     "text": "Set\t\t Test\t\t \t Sd Test\nAUC\t\t 0.680742707473823 \t 0.00975732833577272\nAccuracy\t 0.6274683551697752 \t 0.005915017189688171\nPrecission\t 0.6256722980406854 \t 0.008305525186672153\nRecall\t\t 0.6357571079979107 \t 0.02535155229279958\n"
    }
   ],
   "source": [
    "print('Set\\t\\t', 'Test\\t\\t', '\\t Sd Test')\n",
    "print('AUC\\t\\t', np.mean(scores_rf['test_roc_auc']), '\\t', np.std(scores_rf['test_roc_auc']))\n",
    "print('Accuracy\\t', np.mean(scores_rf['test_accuracy']), '\\t', np.std(scores_rf['test_accuracy']))\n",
    "print('Precission\\t', np.mean(scores_rf['test_precision']), '\\t', np.std(scores_rf['test_precision']))\n",
    "print('Recall\\t\\t', np.mean(scores_rf['test_recall']), '\\t', np.std(scores_rf['test_recall']))"
   ]
  },
  {
   "cell_type": "markdown",
   "metadata": {},
   "source": [
    "## Naive Bayes"
   ]
  },
  {
   "cell_type": "code",
   "execution_count": 32,
   "metadata": {},
   "outputs": [
    {
     "output_type": "execute_result",
     "data": {
      "text/plain": "GridSearchCV(cv=None, error_score=nan,\n             estimator=MultinomialNB(alpha=1.0, class_prior=None,\n                                     fit_prior=True),\n             iid='deprecated', n_jobs=None,\n             param_grid={'alpha': [10, 1, 0, 0.1, 0.01, 0.001]},\n             pre_dispatch='2*n_jobs', refit=True, return_train_score=False,\n             scoring=None, verbose=0)"
     },
     "metadata": {},
     "execution_count": 32
    }
   ],
   "source": [
    "grid = {'alpha': [10, 1, 0, 0.1, 0.01, 0.001]}\n",
    "\n",
    "model_nb = GridSearchCV(MultinomialNB(), param_grid=grid)\n",
    "model_nb.fit(X_test_tf, y_test)"
   ]
  },
  {
   "cell_type": "code",
   "execution_count": 33,
   "metadata": {},
   "outputs": [
    {
     "output_type": "execute_result",
     "data": {
      "text/plain": "{'alpha': 0}"
     },
     "metadata": {},
     "execution_count": 33
    }
   ],
   "source": [
    "model_nb.best_params_"
   ]
  },
  {
   "cell_type": "code",
   "execution_count": 34,
   "metadata": {},
   "outputs": [],
   "source": [
    "model_nb = MultinomialNB(alpha=0)\n",
    "scores_nb = cross_validate(model_nb, X_train_tf, y_train, cv=5, scoring=metrics, return_train_score=True)"
   ]
  },
  {
   "cell_type": "code",
   "execution_count": 35,
   "metadata": {},
   "outputs": [
    {
     "output_type": "stream",
     "name": "stdout",
     "text": "Set\t\t Train\t\t \t Sd Train\nAUC\t\t 0.69218452127824 \t 0.0022113893959022747\nAccuracy\t 0.6444357766940386 \t 0.004042200310114369\nPrecission\t 0.6632772624655777 \t 0.007331143228882922\nRecall\t\t 0.6632772624655777 \t 0.007331143228882922\n"
    }
   ],
   "source": [
    "print('Set\\t\\t', 'Train\\t\\t', '\\t Sd Train')\n",
    "print('AUC\\t\\t', np.mean(scores_nb['train_roc_auc']), '\\t', np.std(scores_nb['train_roc_auc']))\n",
    "print('Accuracy\\t', np.mean(scores_nb['train_accuracy']), '\\t', np.std(scores_nb['train_accuracy']))\n",
    "print('Precission\\t', np.mean(scores_nb['train_precision']), '\\t', np.std(scores_nb['train_precision']))\n",
    "print('Recall\\t\\t', np.mean(scores_nb['train_precision']), '\\t', np.std(scores_nb['train_precision']))"
   ]
  },
  {
   "cell_type": "code",
   "execution_count": 36,
   "metadata": {},
   "outputs": [
    {
     "output_type": "stream",
     "name": "stdout",
     "text": "Set\t\t Test\t\t \t Sd Test\nAUC\t\t 0.6572858257734869 \t 0.009643894332157312\nAccuracy\t 0.6219423626971656 \t 0.002980712106059144\nPrecission\t 0.6366197187924656 \t 0.004389079888898405\nRecall\t\t 0.5686733556298773 \t 0.019751579133129315\n"
    }
   ],
   "source": [
    "print('Set\\t\\t', 'Test\\t\\t', '\\t Sd Test')\n",
    "print('AUC\\t\\t', np.mean(scores_nb['test_roc_auc']), '\\t', np.std(scores_nb['test_roc_auc']))\n",
    "print('Accuracy\\t', np.mean(scores_nb['test_accuracy']), '\\t', np.std(scores_nb['test_accuracy']))\n",
    "print('Precission\\t', np.mean(scores_nb['test_precision']), '\\t', np.std(scores_nb['test_precision']))\n",
    "print('Recall\\t\\t', np.mean(scores_nb['test_recall']), '\\t', np.std(scores_nb['test_recall']))"
   ]
  },
  {
   "cell_type": "markdown",
   "metadata": {},
   "source": [
    "There is no improvement when using the whole Dataset with ComplementNB, same scores on test"
   ]
  },
  {
   "cell_type": "markdown",
   "metadata": {},
   "source": [
    "## XGBoost"
   ]
  },
  {
   "cell_type": "code",
   "execution_count": 37,
   "metadata": {},
   "outputs": [
    {
     "output_type": "execute_result",
     "data": {
      "text/plain": "GridSearchCV(cv=None, error_score=nan,\n             estimator=XGBClassifier(base_score=None, booster=None,\n                                     colsample_bylevel=None,\n                                     colsample_bynode=None,\n                                     colsample_bytree=None, gamma=None,\n                                     gpu_id=None, importance_type='gain',\n                                     interaction_constraints=None,\n                                     learning_rate=None, max_delta_step=None,\n                                     max_depth=None, min_child_weight=None,\n                                     missing=nan, monotone_constraints=None,\n                                     n_es...\n                                     random_state=None, reg_alpha=None,\n                                     reg_lambda=None, scale_pos_weight=None,\n                                     subsample=None, tree_method=None,\n                                     validate_parameters=False,\n                                     verbosity=None),\n             iid='deprecated', n_jobs=None,\n             param_grid={'eta': [0.1, 0.01, 0.001], 'gamma': [0.5, 1, 1.5],\n                         'max_depth': [3, 5], 'min_child_weight': [1, 5]},\n             pre_dispatch='2*n_jobs', refit=True, return_train_score=False,\n             scoring=None, verbose=0)"
     },
     "metadata": {},
     "execution_count": 37
    }
   ],
   "source": [
    "grid = {\n",
    "    'min_child_weight': [1, 5],\n",
    "    'gamma': [0.5, 1, 1.5],\n",
    "    'max_depth': [3, 5],\n",
    "    'eta': [0.1,0.01,0.001]\n",
    "}\n",
    "\n",
    "model_xgb = GridSearchCV(XGBClassifier(), param_grid=grid)\n",
    "model_xgb.fit(X_test_tf, y_test)"
   ]
  },
  {
   "cell_type": "code",
   "execution_count": 38,
   "metadata": {},
   "outputs": [
    {
     "output_type": "execute_result",
     "data": {
      "text/plain": "{'eta': 0.01, 'gamma': 1.5, 'max_depth': 5, 'min_child_weight': 1}"
     },
     "metadata": {},
     "execution_count": 38
    }
   ],
   "source": [
    "model_xgb.best_params_"
   ]
  },
  {
   "cell_type": "code",
   "execution_count": 42,
   "metadata": {},
   "outputs": [],
   "source": [
    "model_xgb = XGBClassifier(\n",
    "    min_child_weight=1, gamma=1.5, max_depth=5, eta=0.01\n",
    ")\n",
    "scores_xgb = cross_validate(model_xgb, X_train_tf, y_train, cv=5, scoring=metrics, return_train_score=True)"
   ]
  },
  {
   "cell_type": "code",
   "execution_count": 43,
   "metadata": {},
   "outputs": [
    {
     "output_type": "stream",
     "name": "stdout",
     "text": "Set\t\t Train\t\t \t Sd Train\nAUC\t\t 0.8534756050665276 \t 0.004636668297109635\nAccuracy\t 0.7695833984732621 \t 0.0031830893233050373\nPrecission\t 0.8083870675352307 \t 0.015385041592389124\nRecall\t\t 0.8083870675352307 \t 0.015385041592389124\n"
    }
   ],
   "source": [
    "print('Set\\t\\t', 'Train\\t\\t', '\\t Sd Train')\n",
    "print('AUC\\t\\t', np.mean(scores_xgb['train_roc_auc']), '\\t', np.std(scores_xgb['train_roc_auc']))\n",
    "print('Accuracy\\t', np.mean(scores_xgb['train_accuracy']), '\\t', np.std(scores_xgb['train_accuracy']))\n",
    "print('Precission\\t', np.mean(scores_xgb['train_precision']), '\\t', np.std(scores_xgb['train_precision']))\n",
    "print('Recall\\t\\t', np.mean(scores_xgb['train_precision']), '\\t', np.std(scores_xgb['train_precision']))"
   ]
  },
  {
   "cell_type": "code",
   "execution_count": 44,
   "metadata": {},
   "outputs": [
    {
     "output_type": "stream",
     "name": "stdout",
     "text": "Set\t\t Test\t\t \t Sd Test\nAUC\t\t 0.6637300262817273 \t 0.009254643796937403\nAccuracy\t 0.6223356717699493 \t 0.005005507261220585\nPrecission\t 0.6324251428083065 \t 0.009856906144324181\nRecall\t\t 0.5864185981242838 \t 0.03645122148202842\n"
    }
   ],
   "source": [
    "print('Set\\t\\t', 'Test\\t\\t', '\\t Sd Test')\n",
    "print('AUC\\t\\t', np.mean(scores_xgb['test_roc_auc']), '\\t', np.std(scores_xgb['test_roc_auc']))\n",
    "print('Accuracy\\t', np.mean(scores_xgb['test_accuracy']), '\\t', np.std(scores_xgb['test_accuracy']))\n",
    "print('Precission\\t', np.mean(scores_xgb['test_precision']), '\\t', np.std(scores_xgb['test_precision']))\n",
    "print('Recall\\t\\t', np.mean(scores_xgb['test_recall']), '\\t', np.std(scores_xgb['test_recall']))"
   ]
  }
 ],
 "metadata": {
  "language_info": {
   "name": "python",
   "codemirror_mode": {
    "name": "ipython",
    "version": 3
   },
   "version": "3.7.4-final"
  },
  "orig_nbformat": 2,
  "file_extension": ".py",
  "mimetype": "text/x-python",
  "name": "python",
  "npconvert_exporter": "python",
  "pygments_lexer": "ipython3",
  "version": 3,
  "kernelspec": {
   "name": "python37464bita07fc30724e44bf79f33747589a05ca4",
   "display_name": "Python 3.7.4 64-bit"
  }
 },
 "nbformat": 4,
 "nbformat_minor": 2
}