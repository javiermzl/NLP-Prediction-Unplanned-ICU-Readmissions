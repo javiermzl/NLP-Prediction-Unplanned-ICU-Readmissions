{
  "nbformat": 4,
  "nbformat_minor": 0,
  "metadata": {
    "language_info": {
      "name": "python",
      "codemirror_mode": {
        "name": "ipython",
        "version": 3
      },
      "version": "3.7.4-final"
    },
    "orig_nbformat": 2,
    "file_extension": ".py",
    "mimetype": "text/x-python",
    "name": "python",
    "npconvert_exporter": "python",
    "pygments_lexer": "ipython3",
    "version": 3,
    "kernelspec": {
      "name": "python37464bita07fc30724e44bf79f33747589a05ca4",
      "display_name": "Python 3.7.4 64-bit"
    },
    "colab": {
      "name": "GRU-CNN.ipynb",
      "provenance": [],
      "collapsed_sections": []
    },
    "accelerator": "GPU"
  },
  "cells": [
    {
      "cell_type": "code",
      "metadata": {
        "id": "7OgnAuJpjEPQ",
        "colab_type": "code",
        "colab": {}
      },
      "source": [
        "import pandas as pd\n",
        "import numpy as np\n",
        "import re\n",
        "import datetime\n",
        "import seaborn as sns\n",
        "from matplotlib import pyplot as plt\n",
        "from google.colab import drive "
      ],
      "execution_count": null,
      "outputs": []
    },
    {
      "cell_type": "code",
      "metadata": {
        "id": "kua5IBPcjEPY",
        "colab_type": "code",
        "colab": {}
      },
      "source": [
        "drive.mount('/content/drive')\n",
        "DIR = \"drive/My Drive/Notebooks/Thesis/Readmissions/\""
      ],
      "execution_count": null,
      "outputs": []
    },
    {
      "cell_type": "code",
      "metadata": {
        "id": "mUya8neejEPe",
        "colab_type": "code",
        "colab": {}
      },
      "source": [
        "adm_notes = pd.read_csv(DIR + \"readmission.csv\", low_memory=False)"
      ],
      "execution_count": null,
      "outputs": []
    },
    {
      "cell_type": "code",
      "metadata": {
        "id": "anxk1El4uu_i",
        "colab_type": "code",
        "colab": {
          "base_uri": "https://localhost:8080/",
          "height": 357
        },
        "outputId": "f37727a8-3c9e-4694-f24f-af0b3912df41"
      },
      "source": [
        "!nvidia-smi"
      ],
      "execution_count": null,
      "outputs": [
        {
          "output_type": "stream",
          "text": [
            "Mon Jun 29 17:19:43 2020       \n",
            "+-----------------------------------------------------------------------------+\n",
            "| NVIDIA-SMI 450.36.06    Driver Version: 418.67       CUDA Version: 10.1     |\n",
            "|-------------------------------+----------------------+----------------------+\n",
            "| GPU  Name        Persistence-M| Bus-Id        Disp.A | Volatile Uncorr. ECC |\n",
            "| Fan  Temp  Perf  Pwr:Usage/Cap|         Memory-Usage | GPU-Util  Compute M. |\n",
            "|                               |                      |               MIG M. |\n",
            "|===============================+======================+======================|\n",
            "|   0  Tesla P100-PCIE...  Off  | 00000000:00:04.0 Off |                    0 |\n",
            "| N/A   38C    P0    26W / 250W |      0MiB / 16280MiB |      0%      Default |\n",
            "|                               |                      |                 ERR! |\n",
            "+-------------------------------+----------------------+----------------------+\n",
            "                                                                               \n",
            "+-----------------------------------------------------------------------------+\n",
            "| Processes:                                                                  |\n",
            "|  GPU   GI   CI        PID   Type   Process name                  GPU Memory |\n",
            "|        ID   ID                                                   Usage      |\n",
            "|=============================================================================|\n",
            "|  No running processes found                                                 |\n",
            "+-----------------------------------------------------------------------------+\n"
          ],
          "name": "stdout"
        }
      ]
    },
    {
      "cell_type": "markdown",
      "metadata": {
        "id": "wVGx2JTOjEPi",
        "colab_type": "text"
      },
      "source": [
        "# Natural Language"
      ]
    },
    {
      "cell_type": "code",
      "metadata": {
        "id": "-eSp2rKYjEPj",
        "colab_type": "code",
        "colab": {}
      },
      "source": [
        "import string\n",
        "import nltk\n",
        "from nltk import word_tokenize\n",
        "from nltk.stem.porter import PorterStemmer\n",
        "from nltk.corpus import stopwords"
      ],
      "execution_count": null,
      "outputs": []
    },
    {
      "cell_type": "code",
      "metadata": {
        "id": "5rxvNB8QjEPo",
        "colab_type": "code",
        "colab": {}
      },
      "source": [
        "def clean_text(texts):\n",
        "    texts = texts.fillna(' ')\n",
        "    texts = texts.str.replace('\\n',' ')\n",
        "    texts = texts.str.replace('\\r',' ')\n",
        "\n",
        "    table = str.maketrans('', '', string.punctuation + '0123456789')\n",
        "    texts = [text.lower().translate(table) for text in texts]\n",
        "\n",
        "    return texts"
      ],
      "execution_count": null,
      "outputs": []
    },
    {
      "cell_type": "code",
      "metadata": {
        "id": "21E4eXpFjEPt",
        "colab_type": "code",
        "colab": {}
      },
      "source": [
        "adm_notes['TEXT'] = clean_text(adm_notes['TEXT'])"
      ],
      "execution_count": null,
      "outputs": []
    },
    {
      "cell_type": "code",
      "metadata": {
        "id": "VWRV-T4ewLvK",
        "colab_type": "code",
        "colab": {
          "base_uri": "https://localhost:8080/",
          "height": 102
        },
        "outputId": "946a3885-6cfe-4f75-e232-ac9b650c4f55"
      },
      "source": [
        "nltk.download('punkt')\n",
        "nltk.download('stopwords')"
      ],
      "execution_count": null,
      "outputs": [
        {
          "output_type": "stream",
          "text": [
            "[nltk_data] Downloading package punkt to /root/nltk_data...\n",
            "[nltk_data]   Unzipping tokenizers/punkt.zip.\n",
            "[nltk_data] Downloading package stopwords to /root/nltk_data...\n",
            "[nltk_data]   Unzipping corpora/stopwords.zip.\n"
          ],
          "name": "stdout"
        },
        {
          "output_type": "execute_result",
          "data": {
            "text/plain": [
              "True"
            ]
          },
          "metadata": {
            "tags": []
          },
          "execution_count": 8
        }
      ]
    },
    {
      "cell_type": "code",
      "metadata": {
        "id": "G3JaQ3fJjEPx",
        "colab_type": "code",
        "colab": {}
      },
      "source": [
        "stop_words = stopwords.words('english')\n",
        "stop_words = stop_words + ['patient', 'date', 'admission', 'discharge', 'lastname', 'firstname', 'sex']"
      ],
      "execution_count": null,
      "outputs": []
    },
    {
      "cell_type": "code",
      "metadata": {
        "id": "A12dNl0djEP2",
        "colab_type": "code",
        "colab": {}
      },
      "source": [
        "porter = PorterStemmer()"
      ],
      "execution_count": null,
      "outputs": []
    },
    {
      "cell_type": "code",
      "metadata": {
        "id": "ngzwTfGejEP6",
        "colab_type": "code",
        "colab": {}
      },
      "source": [
        "def tokenize_stem(text):\n",
        "    words = word_tokenize(text)\n",
        "    words = [word for word in words if word not in stop_words]\n",
        "    words = [porter.stem(word) for word in words]\n",
        "    return words"
      ],
      "execution_count": null,
      "outputs": []
    },
    {
      "cell_type": "code",
      "metadata": {
        "id": "gt9quJSrB3zn",
        "colab_type": "code",
        "colab": {}
      },
      "source": [
        "for i, text in enumerate(adm_notes['TEXT']):\n",
        "   adm_notes.loc[i, 'TEXT'] = (' ').join(tokenize_stem(adm_notes['TEXT'][i]))"
      ],
      "execution_count": null,
      "outputs": []
    },
    {
      "cell_type": "markdown",
      "metadata": {
        "id": "UCpZCmD0jEP-",
        "colab_type": "text"
      },
      "source": [
        "# Model\n",
        "## Words, Train and Test"
      ]
    },
    {
      "cell_type": "code",
      "metadata": {
        "id": "ehkOkbR-jEP_",
        "colab_type": "code",
        "colab": {}
      },
      "source": [
        "from sklearn.feature_extraction.text import CountVectorizer\n",
        "from sklearn.model_selection import train_test_split"
      ],
      "execution_count": null,
      "outputs": []
    },
    {
      "cell_type": "markdown",
      "metadata": {
        "id": "EKUfyfFLjEQD",
        "colab_type": "text"
      },
      "source": [
        "Repartition data"
      ]
    },
    {
      "cell_type": "code",
      "metadata": {
        "id": "LGDUXsUcjEQE",
        "colab_type": "code",
        "colab": {}
      },
      "source": [
        "df_train, df_test = train_test_split(adm_notes, test_size=0.2, random_state=42)"
      ],
      "execution_count": null,
      "outputs": []
    },
    {
      "cell_type": "markdown",
      "metadata": {
        "id": "ADSXuj_wjEQI",
        "colab_type": "text"
      },
      "source": [
        "Subsample non-readmitted patients to match size of readmitted ones"
      ]
    },
    {
      "cell_type": "code",
      "metadata": {
        "id": "90ZfPmgcjEQJ",
        "colab_type": "code",
        "colab": {}
      },
      "source": [
        "rows_pos = df_train['READM_WITHIN_30'] == 1\n",
        "df_train_pos = df_train.loc[rows_pos]\n",
        "df_train_neg = df_train.loc[~rows_pos]\n",
        "\n",
        "df_train = pd.concat([df_train_pos, df_train_neg.sample(n = len(df_train_pos))], axis = 0)\n",
        "df_train = df_train.sample(n = len(df_train)).reset_index(drop = True)"
      ],
      "execution_count": null,
      "outputs": []
    },
    {
      "cell_type": "code",
      "metadata": {
        "id": "xKRSSvW6jEQN",
        "colab_type": "code",
        "colab": {}
      },
      "source": [
        "rows_pos = df_test['READM_WITHIN_30'] == 1\n",
        "df_test_pos = df_test.loc[rows_pos]\n",
        "df_test_neg = df_test.loc[~rows_pos]\n",
        "\n",
        "df_test = pd.concat([df_test_pos, df_test_neg.sample(n = len(df_test_pos))], axis = 0)\n",
        "df_test = df_test.sample(n = len(df_test)).reset_index(drop = True)"
      ],
      "execution_count": null,
      "outputs": []
    },
    {
      "cell_type": "code",
      "metadata": {
        "id": "UT6P7kmvjEQR",
        "colab_type": "code",
        "colab": {
          "base_uri": "https://localhost:8080/",
          "height": 51
        },
        "outputId": "06c65184-fa2c-4bea-c569-2a3ac819a00c"
      },
      "source": [
        "print(df_train.shape)\n",
        "print(df_test.shape)"
      ],
      "execution_count": null,
      "outputs": [
        {
          "output_type": "stream",
          "text": [
            "(4900, 10)\n",
            "(1342, 10)\n"
          ],
          "name": "stdout"
        }
      ]
    },
    {
      "cell_type": "markdown",
      "metadata": {
        "id": "hs4rAD9djEQW",
        "colab_type": "text"
      },
      "source": [
        "Sparse Matrix with word count"
      ]
    },
    {
      "cell_type": "markdown",
      "metadata": {
        "id": "kr1gCKmGjEQa",
        "colab_type": "text"
      },
      "source": [
        "# Recurrent Neural Network"
      ]
    },
    {
      "cell_type": "code",
      "metadata": {
        "id": "qCin9gZFjEQb",
        "colab_type": "code",
        "colab": {
          "base_uri": "https://localhost:8080/",
          "height": 34
        },
        "outputId": "263ade4f-3cc5-47d0-d620-12b11938ab90"
      },
      "source": [
        "from keras.models import Sequential, load_model\n",
        "from keras.layers import LSTM, Dense, Dropout, Embedding, GRU, Conv1D, MaxPooling1D\n",
        "from keras.optimizers import RMSprop, Adam\n",
        "from keras.utils import to_categorical\n",
        "from keras.callbacks import ModelCheckpoint\n",
        "from keras.preprocessing.text import Tokenizer\n",
        "from keras.preprocessing.sequence import pad_sequences\n",
        "\n",
        "import tensorflow as tf"
      ],
      "execution_count": null,
      "outputs": [
        {
          "output_type": "stream",
          "text": [
            "Using TensorFlow backend.\n"
          ],
          "name": "stderr"
        }
      ]
    },
    {
      "cell_type": "code",
      "metadata": {
        "id": "az3bfsS_-FOr",
        "colab_type": "code",
        "colab": {}
      },
      "source": [
        "NUMBER_WORDS = 5000\n",
        "\n",
        "tokenizer = Tokenizer(num_words=NUMBER_WORDS)\n",
        "tokenizer.fit_on_texts(df_train['TEXT'])\n",
        "sequences_train = tokenizer.texts_to_sequences(df_train['TEXT'])\n",
        "sequences_test = tokenizer.texts_to_sequences(df_test['TEXT'])\n",
        "\n",
        "X_train = pad_sequences(sequences_train, maxlen=NUMBER_WORDS)\n",
        "X_test = pad_sequences(sequences_test, maxlen=NUMBER_WORDS)"
      ],
      "execution_count": null,
      "outputs": []
    },
    {
      "cell_type": "code",
      "metadata": {
        "id": "AZo6vNQAN5mQ",
        "colab_type": "code",
        "colab": {}
      },
      "source": [
        "y_train = to_categorical(df_train['READM_WITHIN_30'])\n",
        "y_test = to_categorical(df_test['READM_WITHIN_30'])"
      ],
      "execution_count": null,
      "outputs": []
    },
    {
      "cell_type": "code",
      "metadata": {
        "id": "ewiT3ZwjNNft",
        "colab_type": "code",
        "colab": {}
      },
      "source": [
        "adam = Adam(learning_rate=0.00001)"
      ],
      "execution_count": null,
      "outputs": []
    },
    {
      "cell_type": "code",
      "metadata": {
        "id": "EEbedM5MjEQg",
        "colab_type": "code",
        "colab": {
          "base_uri": "https://localhost:8080/",
          "height": 323
        },
        "outputId": "ec152f64-ce2e-414f-f8d0-b990ee6c7da6"
      },
      "source": [
        "model = Sequential()\n",
        "model.add(Embedding(X_train.shape[1], 128, input_length=X_train.shape[1] ))\n",
        "model.add(Conv1D(128, 5, padding='valid', activation='relu', strides=1))\n",
        "model.add(MaxPooling1D(pool_size=4))\n",
        "model.add(GRU(128, dropout=0.2))\n",
        "model.add(Dense(2, activation='sigmoid'))\n",
        "model.compile(loss='categorical_crossentropy', optimizer=adam, metrics=['accuracy'])\n",
        "\n",
        "model.summary()"
      ],
      "execution_count": null,
      "outputs": [
        {
          "output_type": "stream",
          "text": [
            "Model: \"sequential_1\"\n",
            "_________________________________________________________________\n",
            "Layer (type)                 Output Shape              Param #   \n",
            "=================================================================\n",
            "embedding_1 (Embedding)      (None, 5000, 128)         640000    \n",
            "_________________________________________________________________\n",
            "conv1d_1 (Conv1D)            (None, 4996, 128)         82048     \n",
            "_________________________________________________________________\n",
            "max_pooling1d_1 (MaxPooling1 (None, 1249, 128)         0         \n",
            "_________________________________________________________________\n",
            "gru_1 (GRU)                  (None, 128)               98688     \n",
            "_________________________________________________________________\n",
            "dense_1 (Dense)              (None, 2)                 258       \n",
            "=================================================================\n",
            "Total params: 820,994\n",
            "Trainable params: 820,994\n",
            "Non-trainable params: 0\n",
            "_________________________________________________________________\n"
          ],
          "name": "stdout"
        }
      ]
    },
    {
      "cell_type": "code",
      "metadata": {
        "id": "-KvABDaEdOav",
        "colab_type": "code",
        "colab": {
          "base_uri": "https://localhost:8080/",
          "height": 644
        },
        "outputId": "dfc793f4-da69-40ec-fe68-a64a1e20e4ff"
      },
      "source": [
        "from keras.utils.vis_utils import plot_model\n",
        "\n",
        "plot_model(model, show_shapes=True, show_layer_names=False)"
      ],
      "execution_count": null,
      "outputs": [
        {
          "output_type": "execute_result",
          "data": {
            "image/png": "[encoded data removed]",
            "text/plain": [
              "<IPython.core.display.Image object>"
            ]
          },
          "metadata": {
            "tags": []
          },
          "execution_count": 23
        }
      ]
    },
    {
      "cell_type": "code",
      "metadata": {
        "id": "4gbF3pyHjEQk",
        "colab_type": "code",
        "colab": {
          "base_uri": "https://localhost:8080/",
          "height": 1000
        },
        "outputId": "dd45fb52-cef7-410e-e93a-874f5a991c98"
      },
      "source": [
        "history = model.fit(X_train, y_train, epochs = 80, batch_size = 64, validation_split=0.2)"
      ],
      "execution_count": null,
      "outputs": [
        {
          "output_type": "stream",
          "text": [
            "/usr/local/lib/python3.6/dist-packages/tensorflow/python/framework/indexed_slices.py:434: UserWarning: Converting sparse IndexedSlices to a dense Tensor of unknown shape. This may consume a large amount of memory.\n",
            "  \"Converting sparse IndexedSlices to a dense Tensor of unknown shape. \"\n"
          ],
          "name": "stderr"
        },
        {
          "output_type": "stream",
          "text": [
            "Train on 3920 samples, validate on 980 samples\n",
            "Epoch 1/80\n",
            "3920/3920 [==============================] - 182s 46ms/step - loss: 0.6930 - accuracy: 0.5013 - val_loss: 0.6927 - val_accuracy: 0.5378\n",
            "Epoch 2/80\n",
            "3920/3920 [==============================] - 175s 45ms/step - loss: 0.6926 - accuracy: 0.5230 - val_loss: 0.6926 - val_accuracy: 0.5378\n",
            "Epoch 3/80\n",
            "3920/3920 [==============================] - 176s 45ms/step - loss: 0.6921 - accuracy: 0.5485 - val_loss: 0.6925 - val_accuracy: 0.5378\n",
            "Epoch 4/80\n",
            "3920/3920 [==============================] - 177s 45ms/step - loss: 0.6920 - accuracy: 0.5497 - val_loss: 0.6925 - val_accuracy: 0.5316\n",
            "Epoch 5/80\n",
            "3920/3920 [==============================] - 177s 45ms/step - loss: 0.6917 - accuracy: 0.5561 - val_loss: 0.6924 - val_accuracy: 0.5347\n",
            "Epoch 6/80\n",
            "3920/3920 [==============================] - 176s 45ms/step - loss: 0.6913 - accuracy: 0.5538 - val_loss: 0.6923 - val_accuracy: 0.5337\n",
            "Epoch 7/80\n",
            "3920/3920 [==============================] - 174s 44ms/step - loss: 0.6911 - accuracy: 0.5559 - val_loss: 0.6923 - val_accuracy: 0.5194\n",
            "Epoch 8/80\n",
            "3920/3920 [==============================] - 176s 45ms/step - loss: 0.6907 - accuracy: 0.5640 - val_loss: 0.6922 - val_accuracy: 0.5235\n",
            "Epoch 9/80\n",
            "3920/3920 [==============================] - 177s 45ms/step - loss: 0.6906 - accuracy: 0.5656 - val_loss: 0.6921 - val_accuracy: 0.5224\n",
            "Epoch 10/80\n",
            "3920/3920 [==============================] - 172s 44ms/step - loss: 0.6902 - accuracy: 0.5719 - val_loss: 0.6920 - val_accuracy: 0.5214\n",
            "Epoch 11/80\n",
            "3920/3920 [==============================] - 171s 44ms/step - loss: 0.6897 - accuracy: 0.5753 - val_loss: 0.6919 - val_accuracy: 0.5173\n",
            "Epoch 12/80\n",
            "3920/3920 [==============================] - 172s 44ms/step - loss: 0.6895 - accuracy: 0.5816 - val_loss: 0.6917 - val_accuracy: 0.5245\n",
            "Epoch 13/80\n",
            "3920/3920 [==============================] - 172s 44ms/step - loss: 0.6890 - accuracy: 0.5809 - val_loss: 0.6917 - val_accuracy: 0.5245\n",
            "Epoch 14/80\n",
            "3920/3920 [==============================] - 173s 44ms/step - loss: 0.6890 - accuracy: 0.5821 - val_loss: 0.6915 - val_accuracy: 0.5224\n",
            "Epoch 15/80\n",
            "3920/3920 [==============================] - 173s 44ms/step - loss: 0.6883 - accuracy: 0.5844 - val_loss: 0.6914 - val_accuracy: 0.5286\n",
            "Epoch 16/80\n",
            "3920/3920 [==============================] - 171s 44ms/step - loss: 0.6881 - accuracy: 0.5847 - val_loss: 0.6912 - val_accuracy: 0.5296\n",
            "Epoch 17/80\n",
            "3920/3920 [==============================] - 173s 44ms/step - loss: 0.6875 - accuracy: 0.5855 - val_loss: 0.6912 - val_accuracy: 0.5306\n",
            "Epoch 18/80\n",
            "3920/3920 [==============================] - 171s 44ms/step - loss: 0.6872 - accuracy: 0.5837 - val_loss: 0.6910 - val_accuracy: 0.5296\n",
            "Epoch 19/80\n",
            "3920/3920 [==============================] - 172s 44ms/step - loss: 0.6864 - accuracy: 0.5913 - val_loss: 0.6909 - val_accuracy: 0.5286\n",
            "Epoch 20/80\n",
            "3920/3920 [==============================] - 169s 43ms/step - loss: 0.6860 - accuracy: 0.5895 - val_loss: 0.6907 - val_accuracy: 0.5316\n",
            "Epoch 21/80\n",
            "3920/3920 [==============================] - 170s 43ms/step - loss: 0.6858 - accuracy: 0.5898 - val_loss: 0.6906 - val_accuracy: 0.5296\n",
            "Epoch 22/80\n",
            "3920/3920 [==============================] - 170s 43ms/step - loss: 0.6854 - accuracy: 0.5888 - val_loss: 0.6905 - val_accuracy: 0.5296\n",
            "Epoch 23/80\n",
            "3920/3920 [==============================] - 170s 43ms/step - loss: 0.6847 - accuracy: 0.5872 - val_loss: 0.6903 - val_accuracy: 0.5347\n",
            "Epoch 24/80\n",
            "3920/3920 [==============================] - 171s 44ms/step - loss: 0.6840 - accuracy: 0.5901 - val_loss: 0.6901 - val_accuracy: 0.5367\n",
            "Epoch 25/80\n",
            "3920/3920 [==============================] - 171s 44ms/step - loss: 0.6832 - accuracy: 0.5967 - val_loss: 0.6899 - val_accuracy: 0.5398\n",
            "Epoch 26/80\n",
            "3920/3920 [==============================] - 172s 44ms/step - loss: 0.6828 - accuracy: 0.5852 - val_loss: 0.6898 - val_accuracy: 0.5378\n",
            "Epoch 27/80\n",
            "3920/3920 [==============================] - 171s 44ms/step - loss: 0.6820 - accuracy: 0.5954 - val_loss: 0.6897 - val_accuracy: 0.5378\n",
            "Epoch 28/80\n",
            "3920/3920 [==============================] - 171s 44ms/step - loss: 0.6812 - accuracy: 0.5918 - val_loss: 0.6896 - val_accuracy: 0.5388\n",
            "Epoch 29/80\n",
            "3920/3920 [==============================] - 172s 44ms/step - loss: 0.6809 - accuracy: 0.5890 - val_loss: 0.6894 - val_accuracy: 0.5378\n",
            "Epoch 30/80\n",
            "3920/3920 [==============================] - 172s 44ms/step - loss: 0.6803 - accuracy: 0.5890 - val_loss: 0.6895 - val_accuracy: 0.5378\n",
            "Epoch 31/80\n",
            "3920/3920 [==============================] - 171s 44ms/step - loss: 0.6798 - accuracy: 0.5918 - val_loss: 0.6892 - val_accuracy: 0.5378\n",
            "Epoch 32/80\n",
            "3920/3920 [==============================] - 172s 44ms/step - loss: 0.6787 - accuracy: 0.5860 - val_loss: 0.6891 - val_accuracy: 0.5367\n",
            "Epoch 33/80\n",
            "3920/3920 [==============================] - 171s 44ms/step - loss: 0.6779 - accuracy: 0.5908 - val_loss: 0.6890 - val_accuracy: 0.5398\n",
            "Epoch 34/80\n",
            "3920/3920 [==============================] - 172s 44ms/step - loss: 0.6764 - accuracy: 0.5867 - val_loss: 0.6890 - val_accuracy: 0.5388\n",
            "Epoch 35/80\n",
            "3920/3920 [==============================] - 173s 44ms/step - loss: 0.6762 - accuracy: 0.5916 - val_loss: 0.6888 - val_accuracy: 0.5367\n",
            "Epoch 36/80\n",
            "3920/3920 [==============================] - 172s 44ms/step - loss: 0.6754 - accuracy: 0.5913 - val_loss: 0.6889 - val_accuracy: 0.5378\n",
            "Epoch 37/80\n",
            "3920/3920 [==============================] - 171s 44ms/step - loss: 0.6745 - accuracy: 0.5903 - val_loss: 0.6889 - val_accuracy: 0.5357\n",
            "Epoch 38/80\n",
            "3920/3920 [==============================] - 173s 44ms/step - loss: 0.6738 - accuracy: 0.5936 - val_loss: 0.6888 - val_accuracy: 0.5347\n",
            "Epoch 39/80\n",
            "3920/3920 [==============================] - 174s 44ms/step - loss: 0.6736 - accuracy: 0.5934 - val_loss: 0.6889 - val_accuracy: 0.5388\n",
            "Epoch 40/80\n",
            "3920/3920 [==============================] - 175s 45ms/step - loss: 0.6715 - accuracy: 0.5977 - val_loss: 0.6888 - val_accuracy: 0.5408\n",
            "Epoch 41/80\n",
            "3920/3920 [==============================] - 174s 44ms/step - loss: 0.6707 - accuracy: 0.5974 - val_loss: 0.6887 - val_accuracy: 0.5408\n",
            "Epoch 42/80\n",
            "3920/3920 [==============================] - 175s 45ms/step - loss: 0.6696 - accuracy: 0.5954 - val_loss: 0.6887 - val_accuracy: 0.5398\n",
            "Epoch 43/80\n",
            "3920/3920 [==============================] - 175s 45ms/step - loss: 0.6684 - accuracy: 0.6000 - val_loss: 0.6888 - val_accuracy: 0.5378\n",
            "Epoch 44/80\n",
            "3920/3920 [==============================] - 173s 44ms/step - loss: 0.6680 - accuracy: 0.5967 - val_loss: 0.6888 - val_accuracy: 0.5378\n",
            "Epoch 45/80\n",
            "3920/3920 [==============================] - 175s 45ms/step - loss: 0.6659 - accuracy: 0.5982 - val_loss: 0.6886 - val_accuracy: 0.5439\n",
            "Epoch 46/80\n",
            "3920/3920 [==============================] - 176s 45ms/step - loss: 0.6633 - accuracy: 0.6112 - val_loss: 0.6888 - val_accuracy: 0.5469\n",
            "Epoch 47/80\n",
            "3920/3920 [==============================] - 173s 44ms/step - loss: 0.6619 - accuracy: 0.6048 - val_loss: 0.6888 - val_accuracy: 0.5551\n",
            "Epoch 48/80\n",
            "3920/3920 [==============================] - 174s 45ms/step - loss: 0.6605 - accuracy: 0.6054 - val_loss: 0.6890 - val_accuracy: 0.5571\n",
            "Epoch 49/80\n",
            "3920/3920 [==============================] - 173s 44ms/step - loss: 0.6589 - accuracy: 0.6031 - val_loss: 0.6897 - val_accuracy: 0.5561\n",
            "Epoch 50/80\n",
            "3920/3920 [==============================] - 174s 44ms/step - loss: 0.6555 - accuracy: 0.6166 - val_loss: 0.6899 - val_accuracy: 0.5571\n",
            "Epoch 51/80\n",
            "3920/3920 [==============================] - 173s 44ms/step - loss: 0.6546 - accuracy: 0.6148 - val_loss: 0.6903 - val_accuracy: 0.5612\n",
            "Epoch 52/80\n",
            "3920/3920 [==============================] - 172s 44ms/step - loss: 0.6514 - accuracy: 0.6181 - val_loss: 0.6898 - val_accuracy: 0.5612\n",
            "Epoch 53/80\n",
            "3920/3920 [==============================] - 174s 44ms/step - loss: 0.6489 - accuracy: 0.6204 - val_loss: 0.6887 - val_accuracy: 0.5622\n",
            "Epoch 54/80\n",
            "3920/3920 [==============================] - 172s 44ms/step - loss: 0.6438 - accuracy: 0.6291 - val_loss: 0.6889 - val_accuracy: 0.5684\n",
            "Epoch 55/80\n",
            "3920/3920 [==============================] - 173s 44ms/step - loss: 0.6451 - accuracy: 0.6314 - val_loss: 0.6886 - val_accuracy: 0.5622\n",
            "Epoch 56/80\n",
            "3920/3920 [==============================] - 174s 44ms/step - loss: 0.6395 - accuracy: 0.6406 - val_loss: 0.6864 - val_accuracy: 0.5704\n",
            "Epoch 57/80\n",
            "3920/3920 [==============================] - 175s 45ms/step - loss: 0.6367 - accuracy: 0.6513 - val_loss: 0.6857 - val_accuracy: 0.5724\n",
            "Epoch 58/80\n",
            "3920/3920 [==============================] - 174s 44ms/step - loss: 0.6323 - accuracy: 0.6541 - val_loss: 0.6841 - val_accuracy: 0.5694\n",
            "Epoch 59/80\n",
            "3920/3920 [==============================] - 175s 45ms/step - loss: 0.6284 - accuracy: 0.6587 - val_loss: 0.6823 - val_accuracy: 0.5724\n",
            "Epoch 60/80\n",
            "3920/3920 [==============================] - 176s 45ms/step - loss: 0.6257 - accuracy: 0.6643 - val_loss: 0.6813 - val_accuracy: 0.5735\n",
            "Epoch 61/80\n",
            "3920/3920 [==============================] - 175s 45ms/step - loss: 0.6275 - accuracy: 0.6564 - val_loss: 0.6783 - val_accuracy: 0.5786\n",
            "Epoch 62/80\n",
            "3920/3920 [==============================] - 175s 45ms/step - loss: 0.6171 - accuracy: 0.6633 - val_loss: 0.6769 - val_accuracy: 0.5776\n",
            "Epoch 63/80\n",
            "3920/3920 [==============================] - 174s 44ms/step - loss: 0.6213 - accuracy: 0.6589 - val_loss: 0.6762 - val_accuracy: 0.5837\n",
            "Epoch 64/80\n",
            "3920/3920 [==============================] - 176s 45ms/step - loss: 0.6116 - accuracy: 0.6643 - val_loss: 0.6737 - val_accuracy: 0.5847\n",
            "Epoch 65/80\n",
            "3920/3920 [==============================] - 174s 44ms/step - loss: 0.6072 - accuracy: 0.6781 - val_loss: 0.6733 - val_accuracy: 0.5816\n",
            "Epoch 66/80\n",
            "3920/3920 [==============================] - 174s 44ms/step - loss: 0.6060 - accuracy: 0.6707 - val_loss: 0.6724 - val_accuracy: 0.5806\n",
            "Epoch 67/80\n",
            "3920/3920 [==============================] - 174s 44ms/step - loss: 0.6084 - accuracy: 0.6735 - val_loss: 0.6709 - val_accuracy: 0.5867\n",
            "Epoch 68/80\n",
            "3920/3920 [==============================] - 174s 44ms/step - loss: 0.5984 - accuracy: 0.6857 - val_loss: 0.6703 - val_accuracy: 0.5929\n",
            "Epoch 69/80\n",
            "3920/3920 [==============================] - 174s 44ms/step - loss: 0.5972 - accuracy: 0.6814 - val_loss: 0.6696 - val_accuracy: 0.5888\n",
            "Epoch 70/80\n",
            "3920/3920 [==============================] - 175s 45ms/step - loss: 0.5963 - accuracy: 0.6819 - val_loss: 0.6695 - val_accuracy: 0.5908\n",
            "Epoch 71/80\n",
            "3920/3920 [==============================] - 174s 44ms/step - loss: 0.5895 - accuracy: 0.6849 - val_loss: 0.6693 - val_accuracy: 0.5908\n",
            "Epoch 72/80\n",
            "3920/3920 [==============================] - 175s 45ms/step - loss: 0.5790 - accuracy: 0.6964 - val_loss: 0.6684 - val_accuracy: 0.6061\n",
            "Epoch 73/80\n",
            "3920/3920 [==============================] - 176s 45ms/step - loss: 0.5861 - accuracy: 0.6867 - val_loss: 0.6674 - val_accuracy: 0.6071\n",
            "Epoch 74/80\n",
            "3920/3920 [==============================] - 175s 45ms/step - loss: 0.5788 - accuracy: 0.6964 - val_loss: 0.6681 - val_accuracy: 0.6020\n",
            "Epoch 75/80\n",
            "3920/3920 [==============================] - 174s 44ms/step - loss: 0.5787 - accuracy: 0.6929 - val_loss: 0.6673 - val_accuracy: 0.6051\n",
            "Epoch 76/80\n",
            "3920/3920 [==============================] - 174s 44ms/step - loss: 0.5792 - accuracy: 0.6949 - val_loss: 0.6679 - val_accuracy: 0.6041\n",
            "Epoch 77/80\n",
            "3920/3920 [==============================] - 174s 44ms/step - loss: 0.5749 - accuracy: 0.7028 - val_loss: 0.6684 - val_accuracy: 0.6020\n",
            "Epoch 78/80\n",
            "3920/3920 [==============================] - 174s 44ms/step - loss: 0.5678 - accuracy: 0.7031 - val_loss: 0.6704 - val_accuracy: 0.5949\n",
            "Epoch 79/80\n",
            "3920/3920 [==============================] - 173s 44ms/step - loss: 0.5711 - accuracy: 0.7033 - val_loss: 0.6669 - val_accuracy: 0.6041\n",
            "Epoch 80/80\n",
            "3920/3920 [==============================] - 174s 44ms/step - loss: 0.5657 - accuracy: 0.7082 - val_loss: 0.6676 - val_accuracy: 0.6061\n"
          ],
          "name": "stdout"
        }
      ]
    },
    {
      "cell_type": "code",
      "metadata": {
        "id": "A2sf4-u84RnY",
        "colab_type": "code",
        "colab": {
          "base_uri": "https://localhost:8080/",
          "height": 68
        },
        "outputId": "1050f265-daf7-4a20-da6f-4b1cf7d6a057"
      },
      "source": [
        "print(model.metrics_names)\n",
        "model.evaluate(X_test, y_test, batch_size=64)"
      ],
      "execution_count": null,
      "outputs": [
        {
          "output_type": "stream",
          "text": [
            "['loss', 'accuracy']\n",
            "1342/1342 [==============================] - 4s 3ms/step\n"
          ],
          "name": "stdout"
        },
        {
          "output_type": "execute_result",
          "data": {
            "text/plain": [
              "[0.655388966491432, 0.6162444353103638]"
            ]
          },
          "metadata": {
            "tags": []
          },
          "execution_count": 25
        }
      ]
    },
    {
      "cell_type": "code",
      "metadata": {
        "id": "Ssi-oagJuEIT",
        "colab_type": "code",
        "colab": {
          "base_uri": "https://localhost:8080/",
          "height": 204
        },
        "outputId": "e4e5246f-0030-4def-e825-d12ec259c330"
      },
      "source": [
        "from sklearn.metrics import classification_report, roc_auc_score\n",
        "\n",
        "y_pred = model.predict(X_test, batch_size=64, verbose=1)\n",
        "y_pred = np.argmax(y_pred, axis=1)\n",
        "\n",
        "y_test_raw = df_test['READM_WITHIN_30']\n",
        "\n",
        "print(classification_report(y_test_raw, y_pred, digits=3))\n",
        "print(roc_auc_score(y_test_raw, y_pred))"
      ],
      "execution_count": null,
      "outputs": [
        {
          "output_type": "stream",
          "text": [
            "1342/1342 [==============================] - 4s 3ms/step\n",
            "              precision    recall  f1-score   support\n",
            "\n",
            "           0      0.629     0.566     0.596       671\n",
            "           1      0.606     0.666     0.634       671\n",
            "\n",
            "    accuracy                          0.616      1342\n",
            "   macro avg      0.617     0.616     0.615      1342\n",
            "weighted avg      0.617     0.616     0.615      1342\n",
            "\n",
            "0.6162444113263785\n"
          ],
          "name": "stdout"
        }
      ]
    },
    {
      "cell_type": "code",
      "metadata": {
        "id": "SGWn_I8IAS_f",
        "colab_type": "code",
        "colab": {
          "base_uri": "https://localhost:8080/",
          "height": 292
        },
        "outputId": "f3f92ff1-86cb-4001-ea34-5df87508dbcc"
      },
      "source": [
        "sns.set('talk', 'whitegrid', 'dark', font_scale=0.7,\n",
        "        rc={\"lines.linewidth\": 1, 'grid.linestyle': '--'})\n",
        "\n",
        "fig, ax = plt.subplots(nrows=1, ncols=2, figsize=(9, 4))\n",
        "\n",
        "ax[0].plot(history.history['accuracy'])\n",
        "ax[0].plot(history.history['val_accuracy'])\n",
        "ax[0].set_title('Model accuracy')\n",
        "ax[0].set_ylabel('Accuracy')\n",
        "ax[0].set_xlabel('Epoch')\n",
        "ax[0].legend(['Train', 'Test'], loc='upper left')\n",
        "\n",
        "ax[1].plot(history.history['loss'])\n",
        "ax[1].plot(history.history['val_loss'])\n",
        "ax[1].set_title('Model loss')\n",
        "ax[1].set_ylabel('Loss')\n",
        "ax[1].set_xlabel('Epoch')\n",
        "ax[1].legend(['Train', 'Test'], loc='upper left')\n",
        "\n",
        "fig.tight_layout()\n",
        "plt.show()"
      ],
      "execution_count": null,
      "outputs": [
        {
          "output_type": "display_data",
          "data": {
            "image/png": "[encoded data removed]",
            "text/plain": [
              "<Figure size 648x288 with 2 Axes>"
            ]
          },
          "metadata": {
            "tags": []
          }
        }
      ]
    }
  ]
}