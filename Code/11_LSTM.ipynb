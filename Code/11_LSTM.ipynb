{
  "nbformat": 4,
  "nbformat_minor": 0,
  "metadata": {
    "language_info": {
      "name": "python",
      "codemirror_mode": {
        "name": "ipython",
        "version": 3
      },
      "version": "3.7.4-final"
    },
    "orig_nbformat": 2,
    "file_extension": ".py",
    "mimetype": "text/x-python",
    "name": "python",
    "npconvert_exporter": "python",
    "pygments_lexer": "ipython3",
    "version": 3,
    "kernelspec": {
      "name": "python37464bita07fc30724e44bf79f33747589a05ca4",
      "display_name": "Python 3.7.4 64-bit"
    },
    "colab": {
      "name": "LSTM.ipynb",
      "provenance": [],
      "collapsed_sections": []
    }
  },
  "cells": [
    {
      "cell_type": "code",
      "metadata": {
        "id": "7OgnAuJpjEPQ",
        "colab_type": "code",
        "colab": {}
      },
      "source": [
        "import pandas as pd\n",
        "import numpy as np\n",
        "import re\n",
        "import datetime\n",
        "import seaborn as sns\n",
        "from matplotlib import pyplot as plt\n",
        "from google.colab import drive "
      ],
      "execution_count": null,
      "outputs": []
    },
    {
      "cell_type": "code",
      "metadata": {
        "id": "kua5IBPcjEPY",
        "colab_type": "code",
        "colab": {}
      },
      "source": [
        "drive.mount('/content/drive')\n",
        "DIR = \"drive/My Drive/Notebooks/Thesis/Readmissions/\""
      ],
      "execution_count": null,
      "outputs": []
    },
    {
      "cell_type": "code",
      "metadata": {
        "id": "mUya8neejEPe",
        "colab_type": "code",
        "colab": {}
      },
      "source": [
        "adm_notes = pd.read_csv(DIR + \"readmission.csv\", low_memory=False)"
      ],
      "execution_count": 3,
      "outputs": []
    },
    {
      "cell_type": "code",
      "metadata": {
        "id": "rGtwqHKGpH5O",
        "colab_type": "code",
        "colab": {}
      },
      "source": [
        "!nvidia-smi"
      ],
      "execution_count": null,
      "outputs": []
    },
    {
      "cell_type": "markdown",
      "metadata": {
        "id": "wVGx2JTOjEPi",
        "colab_type": "text"
      },
      "source": [
        "# Natural Language"
      ]
    },
    {
      "cell_type": "code",
      "metadata": {
        "id": "-eSp2rKYjEPj",
        "colab_type": "code",
        "colab": {}
      },
      "source": [
        "import string\n",
        "import nltk\n",
        "from nltk import word_tokenize\n",
        "from nltk.stem.porter import PorterStemmer\n",
        "from nltk.corpus import stopwords"
      ],
      "execution_count": 5,
      "outputs": []
    },
    {
      "cell_type": "code",
      "metadata": {
        "id": "5rxvNB8QjEPo",
        "colab_type": "code",
        "colab": {}
      },
      "source": [
        "def clean_text(texts):\n",
        "    texts = texts.fillna(' ')\n",
        "    texts = texts.str.replace('\\n',' ')\n",
        "    texts = texts.str.replace('\\r',' ')\n",
        "\n",
        "    table = str.maketrans('', '', string.punctuation + '0123456789')\n",
        "    texts = [text.lower().translate(table) for text in texts]\n",
        "\n",
        "    return texts"
      ],
      "execution_count": 6,
      "outputs": []
    },
    {
      "cell_type": "code",
      "metadata": {
        "id": "21E4eXpFjEPt",
        "colab_type": "code",
        "colab": {}
      },
      "source": [
        "adm_notes['TEXT'] = clean_text(adm_notes['TEXT'])"
      ],
      "execution_count": 7,
      "outputs": []
    },
    {
      "cell_type": "code",
      "metadata": {
        "id": "VWRV-T4ewLvK",
        "colab_type": "code",
        "colab": {
          "base_uri": "https://localhost:8080/",
          "height": 102
        },
        "outputId": "fe53acf3-311f-403c-e67c-bd93726af9a4"
      },
      "source": [
        "nltk.download('punkt')\n",
        "nltk.download('stopwords')"
      ],
      "execution_count": 8,
      "outputs": [
        {
          "output_type": "stream",
          "text": [
            "[nltk_data] Downloading package punkt to /root/nltk_data...\n",
            "[nltk_data]   Unzipping tokenizers/punkt.zip.\n",
            "[nltk_data] Downloading package stopwords to /root/nltk_data...\n",
            "[nltk_data]   Unzipping corpora/stopwords.zip.\n"
          ],
          "name": "stdout"
        },
        {
          "output_type": "execute_result",
          "data": {
            "text/plain": [
              "True"
            ]
          },
          "metadata": {
            "tags": []
          },
          "execution_count": 8
        }
      ]
    },
    {
      "cell_type": "code",
      "metadata": {
        "id": "G3JaQ3fJjEPx",
        "colab_type": "code",
        "colab": {}
      },
      "source": [
        "stop_words = stopwords.words('english')\n",
        "stop_words = stop_words + ['patient', 'date', 'admission', 'discharge', 'lastname', 'firstname', 'sex']"
      ],
      "execution_count": 9,
      "outputs": []
    },
    {
      "cell_type": "code",
      "metadata": {
        "id": "A12dNl0djEP2",
        "colab_type": "code",
        "colab": {}
      },
      "source": [
        "porter = PorterStemmer()"
      ],
      "execution_count": 10,
      "outputs": []
    },
    {
      "cell_type": "code",
      "metadata": {
        "id": "ngzwTfGejEP6",
        "colab_type": "code",
        "colab": {}
      },
      "source": [
        "def tokenize_stem(text):\n",
        "    words = word_tokenize(text)\n",
        "    words = [word for word in words if word not in stop_words]\n",
        "    words = [porter.stem(word) for word in words]\n",
        "    return words"
      ],
      "execution_count": 11,
      "outputs": []
    },
    {
      "cell_type": "code",
      "metadata": {
        "id": "gt9quJSrB3zn",
        "colab_type": "code",
        "colab": {}
      },
      "source": [
        "for i, text in enumerate(adm_notes['TEXT']):\n",
        "   adm_notes.loc[i, 'TEXT'] = (' ').join(tokenize_stem(adm_notes['TEXT'][i]))"
      ],
      "execution_count": 12,
      "outputs": []
    },
    {
      "cell_type": "markdown",
      "metadata": {
        "id": "UCpZCmD0jEP-",
        "colab_type": "text"
      },
      "source": [
        "# Model\n",
        "## Words, Train and Test"
      ]
    },
    {
      "cell_type": "code",
      "metadata": {
        "id": "ehkOkbR-jEP_",
        "colab_type": "code",
        "colab": {}
      },
      "source": [
        "from sklearn.feature_extraction.text import CountVectorizer\n",
        "from sklearn.model_selection import train_test_split"
      ],
      "execution_count": 13,
      "outputs": []
    },
    {
      "cell_type": "markdown",
      "metadata": {
        "id": "EKUfyfFLjEQD",
        "colab_type": "text"
      },
      "source": [
        "Repartition data"
      ]
    },
    {
      "cell_type": "code",
      "metadata": {
        "id": "LGDUXsUcjEQE",
        "colab_type": "code",
        "colab": {}
      },
      "source": [
        "df_train, df_test = train_test_split(adm_notes, test_size=0.2, random_state=42)"
      ],
      "execution_count": 14,
      "outputs": []
    },
    {
      "cell_type": "markdown",
      "metadata": {
        "id": "ADSXuj_wjEQI",
        "colab_type": "text"
      },
      "source": [
        "Subsample non-readmitted patients to match size of readmitted ones"
      ]
    },
    {
      "cell_type": "code",
      "metadata": {
        "id": "90ZfPmgcjEQJ",
        "colab_type": "code",
        "colab": {}
      },
      "source": [
        "rows_pos = df_train['READM_WITHIN_30'] == 1\n",
        "df_train_pos = df_train.loc[rows_pos]\n",
        "df_train_neg = df_train.loc[~rows_pos]\n",
        "\n",
        "df_train = pd.concat([df_train_pos, df_train_neg.sample(n = len(df_train_pos))], axis = 0)\n",
        "df_train = df_train.sample(n = len(df_train)).reset_index(drop = True)"
      ],
      "execution_count": 15,
      "outputs": []
    },
    {
      "cell_type": "code",
      "metadata": {
        "id": "xKRSSvW6jEQN",
        "colab_type": "code",
        "colab": {}
      },
      "source": [
        "rows_pos = df_test['READM_WITHIN_30'] == 1\n",
        "df_test_pos = df_test.loc[rows_pos]\n",
        "df_test_neg = df_test.loc[~rows_pos]\n",
        "\n",
        "df_test = pd.concat([df_test_pos, df_test_neg.sample(n = len(df_test_pos))], axis = 0)\n",
        "df_test = df_test.sample(n = len(df_test)).reset_index(drop = True)"
      ],
      "execution_count": 16,
      "outputs": []
    },
    {
      "cell_type": "code",
      "metadata": {
        "id": "UT6P7kmvjEQR",
        "colab_type": "code",
        "colab": {
          "base_uri": "https://localhost:8080/",
          "height": 51
        },
        "outputId": "8ff9a609-3060-4b7c-8702-ae061de8aa05"
      },
      "source": [
        "print(df_train.shape)\n",
        "print(df_test.shape)"
      ],
      "execution_count": 17,
      "outputs": [
        {
          "output_type": "stream",
          "text": [
            "(4900, 10)\n",
            "(1342, 10)\n"
          ],
          "name": "stdout"
        }
      ]
    },
    {
      "cell_type": "markdown",
      "metadata": {
        "id": "hs4rAD9djEQW",
        "colab_type": "text"
      },
      "source": [
        "Sparse Matrix with word count"
      ]
    },
    {
      "cell_type": "markdown",
      "metadata": {
        "id": "kr1gCKmGjEQa",
        "colab_type": "text"
      },
      "source": [
        "# Recurrent Neural Network"
      ]
    },
    {
      "cell_type": "code",
      "metadata": {
        "id": "qCin9gZFjEQb",
        "colab_type": "code",
        "colab": {
          "base_uri": "https://localhost:8080/",
          "height": 34
        },
        "outputId": "32ee193b-5132-482c-87f6-9c07b56ffdda"
      },
      "source": [
        "from keras.models import Sequential, load_model\n",
        "from keras.layers import LSTM, Dense, Dropout, Embedding, Conv1D, MaxPooling1D, SpatialDropout1D\n",
        "from keras.optimizers import RMSprop, Adam\n",
        "from keras.utils import to_categorical\n",
        "from keras.callbacks import ModelCheckpoint\n",
        "from keras.preprocessing.text import Tokenizer\n",
        "from keras.preprocessing.sequence import pad_sequences\n",
        "\n",
        "import tensorflow as tf"
      ],
      "execution_count": 18,
      "outputs": [
        {
          "output_type": "stream",
          "text": [
            "Using TensorFlow backend.\n"
          ],
          "name": "stderr"
        }
      ]
    },
    {
      "cell_type": "code",
      "metadata": {
        "id": "az3bfsS_-FOr",
        "colab_type": "code",
        "colab": {}
      },
      "source": [
        "NUMBER_WORDS = 5000\n",
        "\n",
        "tokenizer = Tokenizer(num_words=NUMBER_WORDS)\n",
        "tokenizer.fit_on_texts(df_train['TEXT'])\n",
        "sequences_train = tokenizer.texts_to_sequences(df_train['TEXT'])\n",
        "sequences_test = tokenizer.texts_to_sequences(df_test['TEXT'])\n",
        "\n",
        "X_train = pad_sequences(sequences_train, maxlen=NUMBER_WORDS)\n",
        "X_test = pad_sequences(sequences_test, maxlen=NUMBER_WORDS)"
      ],
      "execution_count": 19,
      "outputs": []
    },
    {
      "cell_type": "code",
      "metadata": {
        "id": "AZo6vNQAN5mQ",
        "colab_type": "code",
        "colab": {}
      },
      "source": [
        "y_train = to_categorical(df_train['READM_WITHIN_30'])\n",
        "y_test = to_categorical(df_test['READM_WITHIN_30'])"
      ],
      "execution_count": 20,
      "outputs": []
    },
    {
      "cell_type": "code",
      "metadata": {
        "id": "ewiT3ZwjNNft",
        "colab_type": "code",
        "colab": {}
      },
      "source": [
        "adam = Adam(learning_rate=0.00001)"
      ],
      "execution_count": 21,
      "outputs": []
    },
    {
      "cell_type": "code",
      "metadata": {
        "id": "EEbedM5MjEQg",
        "colab_type": "code",
        "colab": {
          "base_uri": "https://localhost:8080/",
          "height": 289
        },
        "outputId": "daa06920-60b7-4976-c41c-6b0cd8af3717"
      },
      "source": [
        "model = Sequential()\n",
        "model.add(Embedding(X_train.shape[1], 32, input_length=X_train.shape[1] ))\n",
        "model.add(LSTM(32, dropout_W=0.2, dropout_U=0.2))\n",
        "model.add(Dense(2, activation='sigmoid'))\n",
        "model.compile(loss='categorical_crossentropy', optimizer=adam, metrics=['accuracy'])\n",
        "\n",
        "model.summary()"
      ],
      "execution_count": 22,
      "outputs": [
        {
          "output_type": "stream",
          "text": [
            "/usr/local/lib/python3.6/dist-packages/ipykernel_launcher.py:3: UserWarning: Update your `LSTM` call to the Keras 2 API: `LSTM(32, dropout=0.2, recurrent_dropout=0.2)`\n",
            "  This is separate from the ipykernel package so we can avoid doing imports until\n"
          ],
          "name": "stderr"
        },
        {
          "output_type": "stream",
          "text": [
            "Model: \"sequential_1\"\n",
            "_________________________________________________________________\n",
            "Layer (type)                 Output Shape              Param #   \n",
            "=================================================================\n",
            "embedding_1 (Embedding)      (None, 5000, 32)          160000    \n",
            "_________________________________________________________________\n",
            "lstm_1 (LSTM)                (None, 32)                8320      \n",
            "_________________________________________________________________\n",
            "dense_1 (Dense)              (None, 2)                 66        \n",
            "=================================================================\n",
            "Total params: 168,386\n",
            "Trainable params: 168,386\n",
            "Non-trainable params: 0\n",
            "_________________________________________________________________\n"
          ],
          "name": "stdout"
        }
      ]
    },
    {
      "cell_type": "code",
      "metadata": {
        "id": "Waj5T0K76K0c",
        "colab_type": "code",
        "colab": {
          "base_uri": "https://localhost:8080/",
          "height": 422
        },
        "outputId": "2db36463-16e4-46c5-9d17-72c87cdba131"
      },
      "source": [
        "from keras.utils.vis_utils import plot_model\n",
        "\n",
        "plot_model(model, show_shapes=True, show_layer_names=False)"
      ],
      "execution_count": 23,
      "outputs": [
        {
          "output_type": "execute_result",
          "data": {
            "image/png": "[encoded data removed]",
            "text/plain": [
              "<IPython.core.display.Image object>"
            ]
          },
          "metadata": {
            "tags": []
          },
          "execution_count": 23
        }
      ]
    },
    {
      "cell_type": "code",
      "metadata": {
        "id": "4gbF3pyHjEQk",
        "colab_type": "code",
        "colab": {
          "base_uri": "https://localhost:8080/",
          "height": 1000
        },
        "outputId": "eb47c0c8-dcc9-4fc7-dc8e-cba31eada344"
      },
      "source": [
        "history = model.fit(X_train, y_train, epochs = 100, batch_size = 64, validation_split=0.2)"
      ],
      "execution_count": 24,
      "outputs": [
        {
          "output_type": "stream",
          "text": [
            "/usr/local/lib/python3.6/dist-packages/tensorflow/python/framework/indexed_slices.py:434: UserWarning: Converting sparse IndexedSlices to a dense Tensor of unknown shape. This may consume a large amount of memory.\n",
            "  \"Converting sparse IndexedSlices to a dense Tensor of unknown shape. \"\n"
          ],
          "name": "stderr"
        },
        {
          "output_type": "stream",
          "text": [
            "Train on 3920 samples, validate on 980 samples\n",
            "Epoch 1/100\n",
            "3920/3920 [==============================] - 309s 79ms/step - loss: 0.6930 - accuracy: 0.5122 - val_loss: 0.6932 - val_accuracy: 0.4888\n",
            "Epoch 2/100\n",
            "3920/3920 [==============================] - 317s 81ms/step - loss: 0.6930 - accuracy: 0.5110 - val_loss: 0.6931 - val_accuracy: 0.4908\n",
            "Epoch 3/100\n",
            "3920/3920 [==============================] - 307s 78ms/step - loss: 0.6930 - accuracy: 0.5145 - val_loss: 0.6931 - val_accuracy: 0.4990\n",
            "Epoch 4/100\n",
            "3920/3920 [==============================] - 310s 79ms/step - loss: 0.6930 - accuracy: 0.5166 - val_loss: 0.6931 - val_accuracy: 0.5143\n",
            "Epoch 5/100\n",
            "3920/3920 [==============================] - 307s 78ms/step - loss: 0.6929 - accuracy: 0.5242 - val_loss: 0.6931 - val_accuracy: 0.5122\n",
            "Epoch 6/100\n",
            "3920/3920 [==============================] - 318s 81ms/step - loss: 0.6929 - accuracy: 0.5291 - val_loss: 0.6931 - val_accuracy: 0.5245\n",
            "Epoch 7/100\n",
            "3920/3920 [==============================] - 320s 82ms/step - loss: 0.6929 - accuracy: 0.5281 - val_loss: 0.6930 - val_accuracy: 0.5071\n",
            "Epoch 8/100\n",
            "3920/3920 [==============================] - 317s 81ms/step - loss: 0.6928 - accuracy: 0.5344 - val_loss: 0.6930 - val_accuracy: 0.5112\n",
            "Epoch 9/100\n",
            "3920/3920 [==============================] - 319s 81ms/step - loss: 0.6929 - accuracy: 0.5235 - val_loss: 0.6930 - val_accuracy: 0.5122\n",
            "Epoch 10/100\n",
            "3920/3920 [==============================] - 309s 79ms/step - loss: 0.6927 - accuracy: 0.5416 - val_loss: 0.6930 - val_accuracy: 0.5122\n",
            "Epoch 11/100\n",
            "3920/3920 [==============================] - 309s 79ms/step - loss: 0.6927 - accuracy: 0.5388 - val_loss: 0.6930 - val_accuracy: 0.5153\n",
            "Epoch 12/100\n",
            "3920/3920 [==============================] - 305s 78ms/step - loss: 0.6927 - accuracy: 0.5464 - val_loss: 0.6929 - val_accuracy: 0.5153\n",
            "Epoch 13/100\n",
            "3920/3920 [==============================] - 309s 79ms/step - loss: 0.6927 - accuracy: 0.5408 - val_loss: 0.6929 - val_accuracy: 0.5173\n",
            "Epoch 14/100\n",
            "3920/3920 [==============================] - 310s 79ms/step - loss: 0.6926 - accuracy: 0.5480 - val_loss: 0.6929 - val_accuracy: 0.5153\n",
            "Epoch 15/100\n",
            "3920/3920 [==============================] - 315s 80ms/step - loss: 0.6926 - accuracy: 0.5431 - val_loss: 0.6929 - val_accuracy: 0.5143\n",
            "Epoch 16/100\n",
            "3920/3920 [==============================] - 307s 78ms/step - loss: 0.6926 - accuracy: 0.5467 - val_loss: 0.6929 - val_accuracy: 0.5143\n",
            "Epoch 17/100\n",
            "3920/3920 [==============================] - 308s 79ms/step - loss: 0.6924 - accuracy: 0.5469 - val_loss: 0.6928 - val_accuracy: 0.5153\n",
            "Epoch 18/100\n",
            "3920/3920 [==============================] - 305s 78ms/step - loss: 0.6924 - accuracy: 0.5492 - val_loss: 0.6928 - val_accuracy: 0.5214\n",
            "Epoch 19/100\n",
            "3920/3920 [==============================] - 307s 78ms/step - loss: 0.6924 - accuracy: 0.5523 - val_loss: 0.6928 - val_accuracy: 0.5214\n",
            "Epoch 20/100\n",
            "3920/3920 [==============================] - 305s 78ms/step - loss: 0.6924 - accuracy: 0.5413 - val_loss: 0.6928 - val_accuracy: 0.5204\n",
            "Epoch 21/100\n",
            "3920/3920 [==============================] - 309s 79ms/step - loss: 0.6924 - accuracy: 0.5426 - val_loss: 0.6927 - val_accuracy: 0.5184\n",
            "Epoch 22/100\n",
            "3920/3920 [==============================] - 308s 78ms/step - loss: 0.6924 - accuracy: 0.5436 - val_loss: 0.6927 - val_accuracy: 0.5204\n",
            "Epoch 23/100\n",
            "3920/3920 [==============================] - 309s 79ms/step - loss: 0.6923 - accuracy: 0.5480 - val_loss: 0.6927 - val_accuracy: 0.5224\n",
            "Epoch 24/100\n",
            "3920/3920 [==============================] - 307s 78ms/step - loss: 0.6922 - accuracy: 0.5500 - val_loss: 0.6927 - val_accuracy: 0.5255\n",
            "Epoch 25/100\n",
            "3920/3920 [==============================] - 311s 79ms/step - loss: 0.6921 - accuracy: 0.5554 - val_loss: 0.6926 - val_accuracy: 0.5255\n",
            "Epoch 26/100\n",
            "3920/3920 [==============================] - 308s 79ms/step - loss: 0.6922 - accuracy: 0.5528 - val_loss: 0.6926 - val_accuracy: 0.5245\n",
            "Epoch 27/100\n",
            "3920/3920 [==============================] - 309s 79ms/step - loss: 0.6921 - accuracy: 0.5469 - val_loss: 0.6926 - val_accuracy: 0.5306\n",
            "Epoch 28/100\n",
            "3920/3920 [==============================] - 309s 79ms/step - loss: 0.6921 - accuracy: 0.5561 - val_loss: 0.6925 - val_accuracy: 0.5316\n",
            "Epoch 29/100\n",
            "3920/3920 [==============================] - 321s 82ms/step - loss: 0.6920 - accuracy: 0.5556 - val_loss: 0.6925 - val_accuracy: 0.5316\n",
            "Epoch 30/100\n",
            "3920/3920 [==============================] - 319s 81ms/step - loss: 0.6920 - accuracy: 0.5472 - val_loss: 0.6925 - val_accuracy: 0.5327\n",
            "Epoch 31/100\n",
            "3920/3920 [==============================] - 323s 82ms/step - loss: 0.6920 - accuracy: 0.5582 - val_loss: 0.6925 - val_accuracy: 0.5316\n",
            "Epoch 32/100\n",
            "3920/3920 [==============================] - 322s 82ms/step - loss: 0.6920 - accuracy: 0.5551 - val_loss: 0.6924 - val_accuracy: 0.5327\n",
            "Epoch 33/100\n",
            "3920/3920 [==============================] - 318s 81ms/step - loss: 0.6918 - accuracy: 0.5584 - val_loss: 0.6924 - val_accuracy: 0.5296\n",
            "Epoch 34/100\n",
            "3920/3920 [==============================] - 315s 80ms/step - loss: 0.6917 - accuracy: 0.5653 - val_loss: 0.6924 - val_accuracy: 0.5276\n",
            "Epoch 35/100\n",
            "3920/3920 [==============================] - 315s 80ms/step - loss: 0.6917 - accuracy: 0.5503 - val_loss: 0.6923 - val_accuracy: 0.5286\n",
            "Epoch 36/100\n",
            "3920/3920 [==============================] - 313s 80ms/step - loss: 0.6916 - accuracy: 0.5556 - val_loss: 0.6923 - val_accuracy: 0.5276\n",
            "Epoch 37/100\n",
            "3920/3920 [==============================] - 313s 80ms/step - loss: 0.6916 - accuracy: 0.5569 - val_loss: 0.6923 - val_accuracy: 0.5286\n",
            "Epoch 38/100\n",
            "3920/3920 [==============================] - 310s 79ms/step - loss: 0.6916 - accuracy: 0.5523 - val_loss: 0.6922 - val_accuracy: 0.5286\n",
            "Epoch 39/100\n",
            "3920/3920 [==============================] - 317s 81ms/step - loss: 0.6915 - accuracy: 0.5656 - val_loss: 0.6922 - val_accuracy: 0.5296\n",
            "Epoch 40/100\n",
            "3920/3920 [==============================] - 313s 80ms/step - loss: 0.6913 - accuracy: 0.5679 - val_loss: 0.6921 - val_accuracy: 0.5286\n",
            "Epoch 41/100\n",
            "3920/3920 [==============================] - 311s 79ms/step - loss: 0.6914 - accuracy: 0.5640 - val_loss: 0.6921 - val_accuracy: 0.5276\n",
            "Epoch 42/100\n",
            "3920/3920 [==============================] - 310s 79ms/step - loss: 0.6914 - accuracy: 0.5589 - val_loss: 0.6921 - val_accuracy: 0.5276\n",
            "Epoch 43/100\n",
            "3920/3920 [==============================] - 313s 80ms/step - loss: 0.6913 - accuracy: 0.5656 - val_loss: 0.6920 - val_accuracy: 0.5276\n",
            "Epoch 44/100\n",
            "3920/3920 [==============================] - 309s 79ms/step - loss: 0.6911 - accuracy: 0.5643 - val_loss: 0.6920 - val_accuracy: 0.5296\n",
            "Epoch 45/100\n",
            "3920/3920 [==============================] - 311s 79ms/step - loss: 0.6910 - accuracy: 0.5607 - val_loss: 0.6919 - val_accuracy: 0.5286\n",
            "Epoch 46/100\n",
            "3920/3920 [==============================] - 306s 78ms/step - loss: 0.6910 - accuracy: 0.5628 - val_loss: 0.6919 - val_accuracy: 0.5286\n",
            "Epoch 47/100\n",
            "3920/3920 [==============================] - 309s 79ms/step - loss: 0.6909 - accuracy: 0.5592 - val_loss: 0.6918 - val_accuracy: 0.5265\n",
            "Epoch 48/100\n",
            "3920/3920 [==============================] - 308s 79ms/step - loss: 0.6908 - accuracy: 0.5673 - val_loss: 0.6918 - val_accuracy: 0.5265\n",
            "Epoch 49/100\n",
            "3920/3920 [==============================] - 311s 79ms/step - loss: 0.6908 - accuracy: 0.5592 - val_loss: 0.6917 - val_accuracy: 0.5327\n",
            "Epoch 50/100\n",
            "3920/3920 [==============================] - 309s 79ms/step - loss: 0.6906 - accuracy: 0.5663 - val_loss: 0.6917 - val_accuracy: 0.5347\n",
            "Epoch 51/100\n",
            "3920/3920 [==============================] - 325s 83ms/step - loss: 0.6906 - accuracy: 0.5615 - val_loss: 0.6916 - val_accuracy: 0.5347\n",
            "Epoch 52/100\n",
            "3920/3920 [==============================] - 318s 81ms/step - loss: 0.6907 - accuracy: 0.5628 - val_loss: 0.6916 - val_accuracy: 0.5378\n",
            "Epoch 53/100\n",
            "3920/3920 [==============================] - 321s 82ms/step - loss: 0.6905 - accuracy: 0.5656 - val_loss: 0.6915 - val_accuracy: 0.5378\n",
            "Epoch 54/100\n",
            "3920/3920 [==============================] - 315s 80ms/step - loss: 0.6904 - accuracy: 0.5719 - val_loss: 0.6915 - val_accuracy: 0.5388\n",
            "Epoch 55/100\n",
            "3920/3920 [==============================] - 310s 79ms/step - loss: 0.6902 - accuracy: 0.5625 - val_loss: 0.6914 - val_accuracy: 0.5378\n",
            "Epoch 56/100\n",
            "3920/3920 [==============================] - 311s 79ms/step - loss: 0.6901 - accuracy: 0.5696 - val_loss: 0.6913 - val_accuracy: 0.5408\n",
            "Epoch 57/100\n",
            "3920/3920 [==============================] - 309s 79ms/step - loss: 0.6903 - accuracy: 0.5699 - val_loss: 0.6913 - val_accuracy: 0.5388\n",
            "Epoch 58/100\n",
            "3920/3920 [==============================] - 314s 80ms/step - loss: 0.6899 - accuracy: 0.5727 - val_loss: 0.6912 - val_accuracy: 0.5449\n",
            "Epoch 59/100\n",
            "3920/3920 [==============================] - 320s 82ms/step - loss: 0.6898 - accuracy: 0.5745 - val_loss: 0.6911 - val_accuracy: 0.5469\n",
            "Epoch 60/100\n",
            "3920/3920 [==============================] - 321s 82ms/step - loss: 0.6897 - accuracy: 0.5742 - val_loss: 0.6910 - val_accuracy: 0.5449\n",
            "Epoch 61/100\n",
            "3920/3920 [==============================] - 310s 79ms/step - loss: 0.6897 - accuracy: 0.5758 - val_loss: 0.6910 - val_accuracy: 0.5418\n",
            "Epoch 62/100\n",
            "3920/3920 [==============================] - 314s 80ms/step - loss: 0.6895 - accuracy: 0.5704 - val_loss: 0.6909 - val_accuracy: 0.5418\n",
            "Epoch 63/100\n",
            "3920/3920 [==============================] - 316s 81ms/step - loss: 0.6895 - accuracy: 0.5696 - val_loss: 0.6908 - val_accuracy: 0.5459\n",
            "Epoch 64/100\n",
            "3920/3920 [==============================] - 317s 81ms/step - loss: 0.6891 - accuracy: 0.5763 - val_loss: 0.6907 - val_accuracy: 0.5439\n",
            "Epoch 65/100\n",
            "3920/3920 [==============================] - 308s 79ms/step - loss: 0.6891 - accuracy: 0.5768 - val_loss: 0.6906 - val_accuracy: 0.5408\n",
            "Epoch 66/100\n",
            "3920/3920 [==============================] - 309s 79ms/step - loss: 0.6890 - accuracy: 0.5765 - val_loss: 0.6905 - val_accuracy: 0.5418\n",
            "Epoch 67/100\n",
            "3920/3920 [==============================] - 306s 78ms/step - loss: 0.6889 - accuracy: 0.5735 - val_loss: 0.6904 - val_accuracy: 0.5408\n",
            "Epoch 68/100\n",
            "3920/3920 [==============================] - 309s 79ms/step - loss: 0.6885 - accuracy: 0.5781 - val_loss: 0.6903 - val_accuracy: 0.5418\n",
            "Epoch 69/100\n",
            "3920/3920 [==============================] - 311s 79ms/step - loss: 0.6882 - accuracy: 0.5811 - val_loss: 0.6902 - val_accuracy: 0.5408\n",
            "Epoch 70/100\n",
            "3920/3920 [==============================] - 313s 80ms/step - loss: 0.6883 - accuracy: 0.5786 - val_loss: 0.6901 - val_accuracy: 0.5398\n",
            "Epoch 71/100\n",
            "3920/3920 [==============================] - 311s 79ms/step - loss: 0.6882 - accuracy: 0.5796 - val_loss: 0.6899 - val_accuracy: 0.5388\n",
            "Epoch 72/100\n",
            "3920/3920 [==============================] - 311s 79ms/step - loss: 0.6881 - accuracy: 0.5832 - val_loss: 0.6898 - val_accuracy: 0.5408\n",
            "Epoch 73/100\n",
            "3920/3920 [==============================] - 308s 79ms/step - loss: 0.6878 - accuracy: 0.5809 - val_loss: 0.6897 - val_accuracy: 0.5408\n",
            "Epoch 74/100\n",
            "3920/3920 [==============================] - 310s 79ms/step - loss: 0.6873 - accuracy: 0.5839 - val_loss: 0.6895 - val_accuracy: 0.5439\n",
            "Epoch 75/100\n",
            "3920/3920 [==============================] - 305s 78ms/step - loss: 0.6870 - accuracy: 0.5804 - val_loss: 0.6893 - val_accuracy: 0.5449\n",
            "Epoch 76/100\n",
            "3920/3920 [==============================] - 309s 79ms/step - loss: 0.6870 - accuracy: 0.5786 - val_loss: 0.6892 - val_accuracy: 0.5418\n",
            "Epoch 77/100\n",
            "3920/3920 [==============================] - 306s 78ms/step - loss: 0.6868 - accuracy: 0.5814 - val_loss: 0.6890 - val_accuracy: 0.5429\n",
            "Epoch 78/100\n",
            "3920/3920 [==============================] - 309s 79ms/step - loss: 0.6865 - accuracy: 0.5903 - val_loss: 0.6889 - val_accuracy: 0.5418\n",
            "Epoch 79/100\n",
            "3920/3920 [==============================] - 306s 78ms/step - loss: 0.6862 - accuracy: 0.5819 - val_loss: 0.6887 - val_accuracy: 0.5408\n",
            "Epoch 80/100\n",
            "3920/3920 [==============================] - 307s 78ms/step - loss: 0.6858 - accuracy: 0.5895 - val_loss: 0.6884 - val_accuracy: 0.5418\n",
            "Epoch 81/100\n",
            "3920/3920 [==============================] - 305s 78ms/step - loss: 0.6855 - accuracy: 0.5908 - val_loss: 0.6882 - val_accuracy: 0.5388\n",
            "Epoch 82/100\n",
            "3920/3920 [==============================] - 306s 78ms/step - loss: 0.6853 - accuracy: 0.5878 - val_loss: 0.6880 - val_accuracy: 0.5398\n",
            "Epoch 83/100\n",
            "3920/3920 [==============================] - 305s 78ms/step - loss: 0.6848 - accuracy: 0.5855 - val_loss: 0.6877 - val_accuracy: 0.5429\n",
            "Epoch 84/100\n",
            "3920/3920 [==============================] - 308s 78ms/step - loss: 0.6848 - accuracy: 0.5878 - val_loss: 0.6875 - val_accuracy: 0.5418\n",
            "Epoch 85/100\n",
            "3920/3920 [==============================] - 305s 78ms/step - loss: 0.6847 - accuracy: 0.5880 - val_loss: 0.6873 - val_accuracy: 0.5459\n",
            "Epoch 86/100\n",
            "3920/3920 [==============================] - 308s 79ms/step - loss: 0.6827 - accuracy: 0.5878 - val_loss: 0.6869 - val_accuracy: 0.5449\n",
            "Epoch 87/100\n",
            "3920/3920 [==============================] - 307s 78ms/step - loss: 0.6824 - accuracy: 0.5939 - val_loss: 0.6866 - val_accuracy: 0.5449\n",
            "Epoch 88/100\n",
            "3920/3920 [==============================] - 311s 79ms/step - loss: 0.6833 - accuracy: 0.5837 - val_loss: 0.6864 - val_accuracy: 0.5429\n",
            "Epoch 89/100\n",
            "3920/3920 [==============================] - 307s 78ms/step - loss: 0.6815 - accuracy: 0.5962 - val_loss: 0.6862 - val_accuracy: 0.5480\n",
            "Epoch 90/100\n",
            "3920/3920 [==============================] - 308s 78ms/step - loss: 0.6815 - accuracy: 0.5946 - val_loss: 0.6860 - val_accuracy: 0.5469\n",
            "Epoch 91/100\n",
            "3920/3920 [==============================] - 305s 78ms/step - loss: 0.6810 - accuracy: 0.5972 - val_loss: 0.6859 - val_accuracy: 0.5520\n",
            "Epoch 92/100\n",
            "3920/3920 [==============================] - 308s 79ms/step - loss: 0.6801 - accuracy: 0.5931 - val_loss: 0.6856 - val_accuracy: 0.5510\n",
            "Epoch 93/100\n",
            "3920/3920 [==============================] - 307s 78ms/step - loss: 0.6814 - accuracy: 0.5888 - val_loss: 0.6855 - val_accuracy: 0.5531\n",
            "Epoch 94/100\n",
            "3920/3920 [==============================] - 312s 80ms/step - loss: 0.6818 - accuracy: 0.5997 - val_loss: 0.6853 - val_accuracy: 0.5541\n",
            "Epoch 95/100\n",
            "3920/3920 [==============================] - 311s 79ms/step - loss: 0.6802 - accuracy: 0.5995 - val_loss: 0.6852 - val_accuracy: 0.5541\n",
            "Epoch 96/100\n",
            "3920/3920 [==============================] - 307s 78ms/step - loss: 0.6805 - accuracy: 0.5992 - val_loss: 0.6851 - val_accuracy: 0.5561\n",
            "Epoch 97/100\n",
            "3920/3920 [==============================] - 309s 79ms/step - loss: 0.6793 - accuracy: 0.5964 - val_loss: 0.6849 - val_accuracy: 0.5571\n",
            "Epoch 98/100\n",
            "3920/3920 [==============================] - 313s 80ms/step - loss: 0.6803 - accuracy: 0.5929 - val_loss: 0.6849 - val_accuracy: 0.5561\n",
            "Epoch 99/100\n",
            "3920/3920 [==============================] - 322s 82ms/step - loss: 0.6807 - accuracy: 0.5987 - val_loss: 0.6848 - val_accuracy: 0.5571\n",
            "Epoch 100/100\n",
            "3920/3920 [==============================] - 317s 81ms/step - loss: 0.6777 - accuracy: 0.5923 - val_loss: 0.6847 - val_accuracy: 0.5571\n"
          ],
          "name": "stdout"
        }
      ]
    },
    {
      "cell_type": "code",
      "metadata": {
        "id": "A2sf4-u84RnY",
        "colab_type": "code",
        "colab": {
          "base_uri": "https://localhost:8080/",
          "height": 68
        },
        "outputId": "6406d630-d58a-46ba-d4c6-7514184426bc"
      },
      "source": [
        "print(model.metrics_names)\n",
        "model.evaluate(X_test, y_test, batch_size=64)"
      ],
      "execution_count": 25,
      "outputs": [
        {
          "output_type": "stream",
          "text": [
            "['loss', 'accuracy']\n",
            "1342/1342 [==============================] - 12s 9ms/step\n"
          ],
          "name": "stdout"
        },
        {
          "output_type": "execute_result",
          "data": {
            "text/plain": [
              "[0.6846170781621634, 0.5625931620597839]"
            ]
          },
          "metadata": {
            "tags": []
          },
          "execution_count": 25
        }
      ]
    },
    {
      "cell_type": "code",
      "metadata": {
        "id": "Hbh1kpApb622",
        "colab_type": "code",
        "colab": {
          "base_uri": "https://localhost:8080/",
          "height": 204
        },
        "outputId": "d37feed5-ebf5-4c5d-8ab9-ea19ab96895e"
      },
      "source": [
        "from sklearn.metrics import classification_report, roc_auc_score\n",
        "\n",
        "y_pred = model.predict(X_test, batch_size=64, verbose=1)\n",
        "y_pred = np.argmax(y_pred, axis=1)\n",
        "\n",
        "y_test_raw = df_test['READM_WITHIN_30']\n",
        "\n",
        "print(classification_report(y_test_raw, y_pred, digits=3))\n",
        "print(roc_auc_score(y_test_raw, y_pred))"
      ],
      "execution_count": 26,
      "outputs": [
        {
          "output_type": "stream",
          "text": [
            "1342/1342 [==============================] - 11s 8ms/step\n",
            "              precision    recall  f1-score   support\n",
            "\n",
            "           0      0.557     0.611     0.583       671\n",
            "           1      0.569     0.514     0.540       671\n",
            "\n",
            "    accuracy                          0.563      1342\n",
            "   macro avg      0.563     0.563     0.562      1342\n",
            "weighted avg      0.563     0.563     0.562      1342\n",
            "\n",
            "0.5625931445603577\n"
          ],
          "name": "stdout"
        }
      ]
    },
    {
      "cell_type": "code",
      "metadata": {
        "id": "SGWn_I8IAS_f",
        "colab_type": "code",
        "colab": {
          "base_uri": "https://localhost:8080/",
          "height": 292
        },
        "outputId": "2bbd749f-bfd4-4528-d108-5449cf985f26"
      },
      "source": [
        "sns.set('talk', 'whitegrid', 'dark', font_scale=0.7,\n",
        "        rc={\"lines.linewidth\": 1, 'grid.linestyle': '--'})\n",
        "\n",
        "fig, ax = plt.subplots(nrows=1, ncols=2, figsize=(9, 4))\n",
        "\n",
        "ax[0].plot(history.history['accuracy'])\n",
        "ax[0].plot(history.history['val_accuracy'])\n",
        "ax[0].set_title('Model accuracy')\n",
        "ax[0].set_ylabel('Accuracy')\n",
        "ax[0].set_xlabel('Epoch')\n",
        "ax[0].legend(['Train', 'Test'], loc='upper left')\n",
        "\n",
        "ax[1].plot(history.history['loss'])\n",
        "ax[1].plot(history.history['val_loss'])\n",
        "ax[1].set_title('Model loss')\n",
        "ax[1].set_ylabel('Loss')\n",
        "ax[1].set_xlabel('Epoch')\n",
        "ax[1].legend(['Train', 'Test'], loc='upper left')\n",
        "\n",
        "fig.tight_layout()\n",
        "plt.show()"
      ],
      "execution_count": 27,
      "outputs": [
        {
          "output_type": "display_data",
          "data": {
            "image/png": "[encoded data removed]",
            "text/plain": [
              "<Figure size 648x288 with 2 Axes>"
            ]
          },
          "metadata": {
            "tags": []
          }
        }
      ]
    },
    {
      "cell_type": "code",
      "metadata": {
        "id": "lhlMmLi-umua",
        "colab_type": "code",
        "colab": {}
      },
      "source": [
        ""
      ],
      "execution_count": 27,
      "outputs": []
    }
  ]
}