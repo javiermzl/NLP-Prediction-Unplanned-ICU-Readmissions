{
 "cells": [
  {
   "cell_type": "code",
   "execution_count": 1,
   "metadata": {},
   "outputs": [],
   "source": [
    "import pandas as pd\n",
    "import numpy as np\n",
    "import re\n",
    "import datetime\n",
    "import seaborn as sns\n",
    "import matplotlib.pyplot as plt"
   ]
  },
  {
   "cell_type": "code",
   "execution_count": 2,
   "metadata": {},
   "outputs": [],
   "source": [
    "DIR_ = \"C:/Users/javie/Documents/Workspace/MIMIC DATA/mimic-iii-clinical-database-1.4/\"\n",
    "DIR = \"D:/Workspace/MIMIC DATA/mimic-iii-clinical-database-1.4/\""
   ]
  },
  {
   "cell_type": "code",
   "execution_count": 3,
   "metadata": {},
   "outputs": [],
   "source": [
    "notes_df = pd.read_csv(DIR + \"NOTEEVENTS.csv\", low_memory=False)\n",
    "admissions_df = pd.read_csv(DIR + \"ADMISSIONS.csv\", low_memory=False)"
   ]
  },
  {
   "cell_type": "markdown",
   "metadata": {},
   "source": [
    "# Admissions"
   ]
  },
  {
   "cell_type": "code",
   "execution_count": 4,
   "metadata": {},
   "outputs": [
    {
     "output_type": "execute_result",
     "data": {
      "text/plain": "   ROW_ID  SUBJECT_ID  HADM_ID            ADMITTIME            DISCHTIME  \\\n0      21          22   165315  2196-04-09 12:26:00  2196-04-10 15:54:00   \n1      22          23   152223  2153-09-03 07:15:00  2153-09-08 19:10:00   \n2      23          23   124321  2157-10-18 19:34:00  2157-10-25 14:00:00   \n3      24          24   161859  2139-06-06 16:14:00  2139-06-09 12:48:00   \n4      25          25   129635  2160-11-02 02:06:00  2160-11-05 14:55:00   \n\n  DEATHTIME ADMISSION_TYPE         ADMISSION_LOCATION  \\\n0       NaN      EMERGENCY       EMERGENCY ROOM ADMIT   \n1       NaN       ELECTIVE  PHYS REFERRAL/NORMAL DELI   \n2       NaN      EMERGENCY  TRANSFER FROM HOSP/EXTRAM   \n3       NaN      EMERGENCY  TRANSFER FROM HOSP/EXTRAM   \n4       NaN      EMERGENCY       EMERGENCY ROOM ADMIT   \n\n          DISCHARGE_LOCATION INSURANCE LANGUAGE           RELIGION  \\\n0  DISC-TRAN CANCER/CHLDRN H   Private      NaN       UNOBTAINABLE   \n1           HOME HEALTH CARE  Medicare      NaN           CATHOLIC   \n2           HOME HEALTH CARE  Medicare     ENGL           CATHOLIC   \n3                       HOME   Private      NaN  PROTESTANT QUAKER   \n4                       HOME   Private      NaN       UNOBTAINABLE   \n\n  MARITAL_STATUS ETHNICITY            EDREGTIME            EDOUTTIME  \\\n0        MARRIED     WHITE  2196-04-09 10:06:00  2196-04-09 13:24:00   \n1        MARRIED     WHITE                  NaN                  NaN   \n2        MARRIED     WHITE                  NaN                  NaN   \n3         SINGLE     WHITE                  NaN                  NaN   \n4        MARRIED     WHITE  2160-11-02 01:01:00  2160-11-02 04:27:00   \n\n                                           DIAGNOSIS  HOSPITAL_EXPIRE_FLAG  \\\n0                            BENZODIAZEPINE OVERDOSE                     0   \n1  CORONARY ARTERY DISEASE\\CORONARY ARTERY BYPASS...                     0   \n2                                         BRAIN MASS                     0   \n3                     INTERIOR MYOCARDIAL INFARCTION                     0   \n4                            ACUTE CORONARY SYNDROME                     0   \n\n   HAS_CHARTEVENTS_DATA  \n0                     1  \n1                     1  \n2                     1  \n3                     1  \n4                     1  ",
      "text/html": "<div>\n<style scoped>\n    .dataframe tbody tr th:only-of-type {\n        vertical-align: middle;\n    }\n\n    .dataframe tbody tr th {\n        vertical-align: top;\n    }\n\n    .dataframe thead th {\n        text-align: right;\n    }\n</style>\n<table border=\"1\" class=\"dataframe\">\n  <thead>\n    <tr style=\"text-align: right;\">\n      <th></th>\n      <th>ROW_ID</th>\n      <th>SUBJECT_ID</th>\n      <th>HADM_ID</th>\n      <th>ADMITTIME</th>\n      <th>DISCHTIME</th>\n      <th>DEATHTIME</th>\n      <th>ADMISSION_TYPE</th>\n      <th>ADMISSION_LOCATION</th>\n      <th>DISCHARGE_LOCATION</th>\n      <th>INSURANCE</th>\n      <th>LANGUAGE</th>\n      <th>RELIGION</th>\n      <th>MARITAL_STATUS</th>\n      <th>ETHNICITY</th>\n      <th>EDREGTIME</th>\n      <th>EDOUTTIME</th>\n      <th>DIAGNOSIS</th>\n      <th>HOSPITAL_EXPIRE_FLAG</th>\n      <th>HAS_CHARTEVENTS_DATA</th>\n    </tr>\n  </thead>\n  <tbody>\n    <tr>\n      <th>0</th>\n      <td>21</td>\n      <td>22</td>\n      <td>165315</td>\n      <td>2196-04-09 12:26:00</td>\n      <td>2196-04-10 15:54:00</td>\n      <td>NaN</td>\n      <td>EMERGENCY</td>\n      <td>EMERGENCY ROOM ADMIT</td>\n      <td>DISC-TRAN CANCER/CHLDRN H</td>\n      <td>Private</td>\n      <td>NaN</td>\n      <td>UNOBTAINABLE</td>\n      <td>MARRIED</td>\n      <td>WHITE</td>\n      <td>2196-04-09 10:06:00</td>\n      <td>2196-04-09 13:24:00</td>\n      <td>BENZODIAZEPINE OVERDOSE</td>\n      <td>0</td>\n      <td>1</td>\n    </tr>\n    <tr>\n      <th>1</th>\n      <td>22</td>\n      <td>23</td>\n      <td>152223</td>\n      <td>2153-09-03 07:15:00</td>\n      <td>2153-09-08 19:10:00</td>\n      <td>NaN</td>\n      <td>ELECTIVE</td>\n      <td>PHYS REFERRAL/NORMAL DELI</td>\n      <td>HOME HEALTH CARE</td>\n      <td>Medicare</td>\n      <td>NaN</td>\n      <td>CATHOLIC</td>\n      <td>MARRIED</td>\n      <td>WHITE</td>\n      <td>NaN</td>\n      <td>NaN</td>\n      <td>CORONARY ARTERY DISEASE\\CORONARY ARTERY BYPASS...</td>\n      <td>0</td>\n      <td>1</td>\n    </tr>\n    <tr>\n      <th>2</th>\n      <td>23</td>\n      <td>23</td>\n      <td>124321</td>\n      <td>2157-10-18 19:34:00</td>\n      <td>2157-10-25 14:00:00</td>\n      <td>NaN</td>\n      <td>EMERGENCY</td>\n      <td>TRANSFER FROM HOSP/EXTRAM</td>\n      <td>HOME HEALTH CARE</td>\n      <td>Medicare</td>\n      <td>ENGL</td>\n      <td>CATHOLIC</td>\n      <td>MARRIED</td>\n      <td>WHITE</td>\n      <td>NaN</td>\n      <td>NaN</td>\n      <td>BRAIN MASS</td>\n      <td>0</td>\n      <td>1</td>\n    </tr>\n    <tr>\n      <th>3</th>\n      <td>24</td>\n      <td>24</td>\n      <td>161859</td>\n      <td>2139-06-06 16:14:00</td>\n      <td>2139-06-09 12:48:00</td>\n      <td>NaN</td>\n      <td>EMERGENCY</td>\n      <td>TRANSFER FROM HOSP/EXTRAM</td>\n      <td>HOME</td>\n      <td>Private</td>\n      <td>NaN</td>\n      <td>PROTESTANT QUAKER</td>\n      <td>SINGLE</td>\n      <td>WHITE</td>\n      <td>NaN</td>\n      <td>NaN</td>\n      <td>INTERIOR MYOCARDIAL INFARCTION</td>\n      <td>0</td>\n      <td>1</td>\n    </tr>\n    <tr>\n      <th>4</th>\n      <td>25</td>\n      <td>25</td>\n      <td>129635</td>\n      <td>2160-11-02 02:06:00</td>\n      <td>2160-11-05 14:55:00</td>\n      <td>NaN</td>\n      <td>EMERGENCY</td>\n      <td>EMERGENCY ROOM ADMIT</td>\n      <td>HOME</td>\n      <td>Private</td>\n      <td>NaN</td>\n      <td>UNOBTAINABLE</td>\n      <td>MARRIED</td>\n      <td>WHITE</td>\n      <td>2160-11-02 01:01:00</td>\n      <td>2160-11-02 04:27:00</td>\n      <td>ACUTE CORONARY SYNDROME</td>\n      <td>0</td>\n      <td>1</td>\n    </tr>\n  </tbody>\n</table>\n</div>"
     },
     "metadata": {},
     "execution_count": 4
    }
   ],
   "source": [
    "admissions_df.head()"
   ]
  },
  {
   "cell_type": "code",
   "execution_count": 5,
   "metadata": {},
   "outputs": [
    {
     "output_type": "execute_result",
     "data": {
      "text/plain": "(58976, 19)"
     },
     "metadata": {},
     "execution_count": 5
    }
   ],
   "source": [
    "admissions_df.shape"
   ]
  },
  {
   "cell_type": "markdown",
   "metadata": {},
   "source": [
    "Types of admissions"
   ]
  },
  {
   "cell_type": "code",
   "execution_count": 6,
   "metadata": {},
   "outputs": [
    {
     "output_type": "execute_result",
     "data": {
      "text/plain": "array(['EMERGENCY', 'ELECTIVE', 'NEWBORN', 'URGENT'], dtype=object)"
     },
     "metadata": {},
     "execution_count": 6
    }
   ],
   "source": [
    "admissions_df['ADMISSION_TYPE'].unique()"
   ]
  },
  {
   "cell_type": "markdown",
   "metadata": {},
   "source": [
    "Check for missing values on the admission times"
   ]
  },
  {
   "cell_type": "code",
   "execution_count": 7,
   "metadata": {},
   "outputs": [
    {
     "output_type": "execute_result",
     "data": {
      "text/plain": "0"
     },
     "metadata": {},
     "execution_count": 7
    }
   ],
   "source": [
    "sum(admissions_df['ADMITTIME'].isnull())\n",
    ""
   ]
  },
  {
   "cell_type": "markdown",
   "metadata": {},
   "source": [
    "Conversion of times to datetime type"
   ]
  },
  {
   "cell_type": "code",
   "execution_count": 8,
   "metadata": {},
   "outputs": [],
   "source": [
    "admissions_df['ADMITTIME'] = admissions_df['ADMITTIME'].astype('datetime64[ns]')\n",
    "admissions_df['DISCHTIME'] = admissions_df['DISCHTIME'].astype('datetime64[ns]')\n",
    "admissions_df['DEATHTIME'] = admissions_df['DEATHTIME'].astype('datetime64[ns]')"
   ]
  },
  {
   "cell_type": "markdown",
   "metadata": {},
   "source": [
    "Sort by subject and admission type and reset the data frame index."
   ]
  },
  {
   "cell_type": "code",
   "execution_count": 9,
   "metadata": {},
   "outputs": [],
   "source": [
    "admissions_df = admissions_df.sort_values(['SUBJECT_ID', 'ADMITTIME'])\n",
    "admissions_df = admissions_df.reset_index(drop = True)"
   ]
  },
  {
   "cell_type": "code",
   "execution_count": 10,
   "metadata": {},
   "outputs": [],
   "source": [
    "admissions_df['NEXT_ADMITTIME'] = admissions_df.groupby('SUBJECT_ID').ADMITTIME.shift(-1)\n",
    "admissions_df['NEXT_ADMISSION_TYPE'] = admissions_df.groupby('SUBJECT_ID').ADMISSION_TYPE.shift(-1)"
   ]
  },
  {
   "cell_type": "code",
   "execution_count": 11,
   "metadata": {},
   "outputs": [],
   "source": [
    "admissions_df[admissions_df['NEXT_ADMISSION_TYPE'] == 'ELECTIVE']['NEXT_ADMITTIME'] = pd.NaT\n",
    "admissions_df[admissions_df['NEXT_ADMISSION_TYPE'] == 'ELECTIVE']['NEXT_ADMISSION_TYPE'] = np.NaN"
   ]
  },
  {
   "cell_type": "markdown",
   "metadata": {},
   "source": [
    "Fill NA's with the next valid value. Previously sorted."
   ]
  },
  {
   "cell_type": "code",
   "execution_count": 12,
   "metadata": {},
   "outputs": [],
   "source": [
    "admissions_df[['NEXT_ADMITTIME','NEXT_ADMISSION_TYPE']] = admissions_df.groupby(['SUBJECT_ID'])[['NEXT_ADMITTIME','NEXT_ADMISSION_TYPE']].fillna(method = 'bfill')"
   ]
  },
  {
   "cell_type": "markdown",
   "metadata": {},
   "source": [
    "Obtain days to readmission: from discharge to next readmission"
   ]
  },
  {
   "cell_type": "code",
   "execution_count": 13,
   "metadata": {},
   "outputs": [],
   "source": [
    "admissions_df['DAYS_TO_READMISSION'] = (admissions_df['NEXT_ADMITTIME'] - admissions_df['DISCHTIME']).dt.days"
   ]
  },
  {
   "cell_type": "markdown",
   "metadata": {},
   "source": [
    "Number of readmissions"
   ]
  },
  {
   "cell_type": "code",
   "execution_count": 14,
   "metadata": {},
   "outputs": [
    {
     "output_type": "execute_result",
     "data": {
      "text/plain": "12456"
     },
     "metadata": {},
     "execution_count": 14
    }
   ],
   "source": [
    "sum(admissions_df['DAYS_TO_READMISSION'].notnull())"
   ]
  },
  {
   "cell_type": "markdown",
   "metadata": {},
   "source": [
    "Distribution of days to readmission"
   ]
  },
  {
   "cell_type": "code",
   "execution_count": 15,
   "metadata": {},
   "outputs": [
    {
     "output_type": "display_data",
     "data": {
      "text/plain": "<Figure size 504x252 with 1 Axes>",
      "image/svg+xml": "<?xml version=\"1.0\" encoding=\"utf-8\" standalone=\"no\"?>\r\n<!DOCTYPE svg PUBLIC \"-//W3C//DTD SVG 1.1//EN\"\r\n  \"http://www.w3.org/Graphics/SVG/1.1/DTD/svg11.dtd\">\r\n<!-- Created with matplotlib (https://matplotlib.org/) -->\r\n<svg height=\"239.347969pt\" version=\"1.1\" viewBox=\"0 0 438.968125 239.347969\" width=\"438.968125pt\" xmlns=\"http://www.w3.org/2000/svg\" xmlns:xlink=\"http://www.w3.org/1999/xlink\">\r\n <defs>\r\n  <style type=\"text/css\">\r\n*{stroke-linecap:butt;stroke-linejoin:round;}\r\n  </style>\r\n </defs>\r\n <g id=\"figure_1\">\r\n  <g id=\"patch_1\">\r\n   <path d=\"M 0 239.347969 \r\nL 438.968125 239.347969 \r\nL 438.968125 -0 \r\nL 0 -0 \r\nz\r\n\" style=\"fill:#ffffff;\"/>\r\n  </g>\r\n  <g id=\"axes_1\">\r\n   <g id=\"patch_2\">\r\n    <path d=\"M 41.168125 197.46 \r\nL 431.768125 197.46 \r\nL 431.768125 7.2 \r\nL 41.168125 7.2 \r\nz\r\n\" style=\"fill:#ffffff;\"/>\r\n   </g>\r\n   <g id=\"matplotlib.axis_1\">\r\n    <g id=\"xtick_1\">\r\n     <g id=\"text_1\">\r\n      <!-- 0 -->\r\n      <defs>\r\n       <path d=\"M 4.15625 35.296875 \r\nQ 4.15625 48 6.765625 55.734375 \r\nQ 9.375 63.484375 14.515625 67.671875 \r\nQ 19.671875 71.875 27.484375 71.875 \r\nQ 33.25 71.875 37.59375 69.546875 \r\nQ 41.9375 67.234375 44.765625 62.859375 \r\nQ 47.609375 58.5 49.21875 52.21875 \r\nQ 50.828125 45.953125 50.828125 35.296875 \r\nQ 50.828125 22.703125 48.234375 14.96875 \r\nQ 45.65625 7.234375 40.5 3 \r\nQ 35.359375 -1.21875 27.484375 -1.21875 \r\nQ 17.140625 -1.21875 11.234375 6.203125 \r\nQ 4.15625 15.140625 4.15625 35.296875 \r\nz\r\nM 13.1875 35.296875 \r\nQ 13.1875 17.671875 17.3125 11.828125 \r\nQ 21.4375 6 27.484375 6 \r\nQ 33.546875 6 37.671875 11.859375 \r\nQ 41.796875 17.71875 41.796875 35.296875 \r\nQ 41.796875 52.984375 37.671875 58.78125 \r\nQ 33.546875 64.59375 27.390625 64.59375 \r\nQ 21.34375 64.59375 17.71875 59.46875 \r\nQ 13.1875 52.9375 13.1875 35.296875 \r\nz\r\n\" id=\"ArialMT-48\"/>\r\n      </defs>\r\n      <g style=\"fill:#262626;\" transform=\"translate(57.499329 214.833594)scale(0.11 -0.11)\">\r\n       <use xlink:href=\"#ArialMT-48\"/>\r\n      </g>\r\n     </g>\r\n    </g>\r\n    <g id=\"xtick_2\">\r\n     <g id=\"text_2\">\r\n      <!-- 1000 -->\r\n      <defs>\r\n       <path d=\"M 37.25 0 \r\nL 28.46875 0 \r\nL 28.46875 56 \r\nQ 25.296875 52.984375 20.140625 49.953125 \r\nQ 14.984375 46.921875 10.890625 45.40625 \r\nL 10.890625 53.90625 \r\nQ 18.265625 57.375 23.78125 62.296875 \r\nQ 29.296875 67.234375 31.59375 71.875 \r\nL 37.25 71.875 \r\nz\r\n\" id=\"ArialMT-49\"/>\r\n      </defs>\r\n      <g style=\"fill:#262626;\" transform=\"translate(134.385563 214.833594)scale(0.11 -0.11)\">\r\n       <use xlink:href=\"#ArialMT-49\"/>\r\n       <use x=\"55.615234\" xlink:href=\"#ArialMT-48\"/>\r\n       <use x=\"111.230469\" xlink:href=\"#ArialMT-48\"/>\r\n       <use x=\"166.845703\" xlink:href=\"#ArialMT-48\"/>\r\n      </g>\r\n     </g>\r\n    </g>\r\n    <g id=\"xtick_3\">\r\n     <g id=\"text_3\">\r\n      <!-- 2000 -->\r\n      <defs>\r\n       <path d=\"M 50.34375 8.453125 \r\nL 50.34375 0 \r\nL 3.03125 0 \r\nQ 2.9375 3.171875 4.046875 6.109375 \r\nQ 5.859375 10.9375 9.828125 15.625 \r\nQ 13.8125 20.3125 21.34375 26.46875 \r\nQ 33.015625 36.03125 37.109375 41.625 \r\nQ 41.21875 47.21875 41.21875 52.203125 \r\nQ 41.21875 57.421875 37.46875 61 \r\nQ 33.734375 64.59375 27.734375 64.59375 \r\nQ 21.390625 64.59375 17.578125 60.78125 \r\nQ 13.765625 56.984375 13.71875 50.25 \r\nL 4.6875 51.171875 \r\nQ 5.609375 61.28125 11.65625 66.578125 \r\nQ 17.71875 71.875 27.9375 71.875 \r\nQ 38.234375 71.875 44.234375 66.15625 \r\nQ 50.25 60.453125 50.25 52 \r\nQ 50.25 47.703125 48.484375 43.546875 \r\nQ 46.734375 39.40625 42.65625 34.8125 \r\nQ 38.578125 30.21875 29.109375 22.21875 \r\nQ 21.1875 15.578125 18.9375 13.203125 \r\nQ 16.703125 10.84375 15.234375 8.453125 \r\nz\r\n\" id=\"ArialMT-50\"/>\r\n      </defs>\r\n      <g style=\"fill:#262626;\" transform=\"translate(220.447344 214.833594)scale(0.11 -0.11)\">\r\n       <use xlink:href=\"#ArialMT-50\"/>\r\n       <use x=\"55.615234\" xlink:href=\"#ArialMT-48\"/>\r\n       <use x=\"111.230469\" xlink:href=\"#ArialMT-48\"/>\r\n       <use x=\"166.845703\" xlink:href=\"#ArialMT-48\"/>\r\n      </g>\r\n     </g>\r\n    </g>\r\n    <g id=\"xtick_4\">\r\n     <g id=\"text_4\">\r\n      <!-- 3000 -->\r\n      <defs>\r\n       <path d=\"M 4.203125 18.890625 \r\nL 12.984375 20.0625 \r\nQ 14.5 12.59375 18.140625 9.296875 \r\nQ 21.78125 6 27 6 \r\nQ 33.203125 6 37.46875 10.296875 \r\nQ 41.75 14.59375 41.75 20.953125 \r\nQ 41.75 27 37.796875 30.921875 \r\nQ 33.84375 34.859375 27.734375 34.859375 \r\nQ 25.25 34.859375 21.53125 33.890625 \r\nL 22.515625 41.609375 \r\nQ 23.390625 41.5 23.921875 41.5 \r\nQ 29.546875 41.5 34.03125 44.421875 \r\nQ 38.53125 47.359375 38.53125 53.46875 \r\nQ 38.53125 58.296875 35.25 61.46875 \r\nQ 31.984375 64.65625 26.8125 64.65625 \r\nQ 21.6875 64.65625 18.265625 61.421875 \r\nQ 14.84375 58.203125 13.875 51.765625 \r\nL 5.078125 53.328125 \r\nQ 6.6875 62.15625 12.390625 67.015625 \r\nQ 18.109375 71.875 26.609375 71.875 \r\nQ 32.46875 71.875 37.390625 69.359375 \r\nQ 42.328125 66.84375 44.9375 62.5 \r\nQ 47.5625 58.15625 47.5625 53.265625 \r\nQ 47.5625 48.640625 45.0625 44.828125 \r\nQ 42.578125 41.015625 37.703125 38.765625 \r\nQ 44.046875 37.3125 47.5625 32.6875 \r\nQ 51.078125 28.078125 51.078125 21.140625 \r\nQ 51.078125 11.765625 44.234375 5.25 \r\nQ 37.40625 -1.265625 26.953125 -1.265625 \r\nQ 17.53125 -1.265625 11.296875 4.34375 \r\nQ 5.078125 9.96875 4.203125 18.890625 \r\nz\r\n\" id=\"ArialMT-51\"/>\r\n      </defs>\r\n      <g style=\"fill:#262626;\" transform=\"translate(306.509125 214.833594)scale(0.11 -0.11)\">\r\n       <use xlink:href=\"#ArialMT-51\"/>\r\n       <use x=\"55.615234\" xlink:href=\"#ArialMT-48\"/>\r\n       <use x=\"111.230469\" xlink:href=\"#ArialMT-48\"/>\r\n       <use x=\"166.845703\" xlink:href=\"#ArialMT-48\"/>\r\n      </g>\r\n     </g>\r\n    </g>\r\n    <g id=\"xtick_5\">\r\n     <g id=\"text_5\">\r\n      <!-- 4000 -->\r\n      <defs>\r\n       <path d=\"M 32.328125 0 \r\nL 32.328125 17.140625 \r\nL 1.265625 17.140625 \r\nL 1.265625 25.203125 \r\nL 33.9375 71.578125 \r\nL 41.109375 71.578125 \r\nL 41.109375 25.203125 \r\nL 50.78125 25.203125 \r\nL 50.78125 17.140625 \r\nL 41.109375 17.140625 \r\nL 41.109375 0 \r\nz\r\nM 32.328125 25.203125 \r\nL 32.328125 57.46875 \r\nL 9.90625 25.203125 \r\nz\r\n\" id=\"ArialMT-52\"/>\r\n      </defs>\r\n      <g style=\"fill:#262626;\" transform=\"translate(392.570906 214.833594)scale(0.11 -0.11)\">\r\n       <use xlink:href=\"#ArialMT-52\"/>\r\n       <use x=\"55.615234\" xlink:href=\"#ArialMT-48\"/>\r\n       <use x=\"111.230469\" xlink:href=\"#ArialMT-48\"/>\r\n       <use x=\"166.845703\" xlink:href=\"#ArialMT-48\"/>\r\n      </g>\r\n     </g>\r\n    </g>\r\n    <g id=\"text_6\">\r\n     <!-- DAYS_TO_READMISSION -->\r\n     <defs>\r\n      <path d=\"M 7.71875 0 \r\nL 7.71875 71.578125 \r\nL 32.375 71.578125 \r\nQ 40.71875 71.578125 45.125 70.5625 \r\nQ 51.265625 69.140625 55.609375 65.4375 \r\nQ 61.28125 60.640625 64.078125 53.1875 \r\nQ 66.890625 45.75 66.890625 36.1875 \r\nQ 66.890625 28.03125 64.984375 21.734375 \r\nQ 63.09375 15.4375 60.109375 11.296875 \r\nQ 57.125 7.171875 53.578125 4.796875 \r\nQ 50.046875 2.4375 45.046875 1.21875 \r\nQ 40.046875 0 33.546875 0 \r\nz\r\nM 17.1875 8.453125 \r\nL 32.46875 8.453125 \r\nQ 39.546875 8.453125 43.578125 9.765625 \r\nQ 47.609375 11.078125 50 13.484375 \r\nQ 53.375 16.84375 55.25 22.53125 \r\nQ 57.125 28.21875 57.125 36.328125 \r\nQ 57.125 47.5625 53.4375 53.59375 \r\nQ 49.75 59.625 44.484375 61.671875 \r\nQ 40.671875 63.140625 32.234375 63.140625 \r\nL 17.1875 63.140625 \r\nz\r\n\" id=\"ArialMT-68\"/>\r\n      <path d=\"M -0.140625 0 \r\nL 27.34375 71.578125 \r\nL 37.546875 71.578125 \r\nL 66.84375 0 \r\nL 56.0625 0 \r\nL 47.703125 21.6875 \r\nL 17.78125 21.6875 \r\nL 9.90625 0 \r\nz\r\nM 20.515625 29.390625 \r\nL 44.78125 29.390625 \r\nL 37.3125 49.21875 \r\nQ 33.890625 58.25 32.234375 64.0625 \r\nQ 30.859375 57.171875 28.375 50.390625 \r\nz\r\n\" id=\"ArialMT-65\"/>\r\n      <path d=\"M 27.875 0 \r\nL 27.875 30.328125 \r\nL 0.296875 71.578125 \r\nL 11.8125 71.578125 \r\nL 25.921875 50 \r\nQ 29.828125 43.953125 33.203125 37.890625 \r\nQ 36.421875 43.5 41.015625 50.53125 \r\nL 54.890625 71.578125 \r\nL 65.921875 71.578125 \r\nL 37.359375 30.328125 \r\nL 37.359375 0 \r\nz\r\n\" id=\"ArialMT-89\"/>\r\n      <path d=\"M 4.5 23 \r\nL 13.421875 23.78125 \r\nQ 14.0625 18.40625 16.375 14.96875 \r\nQ 18.703125 11.53125 23.578125 9.40625 \r\nQ 28.46875 7.28125 34.578125 7.28125 \r\nQ 39.984375 7.28125 44.140625 8.890625 \r\nQ 48.296875 10.5 50.3125 13.296875 \r\nQ 52.34375 16.109375 52.34375 19.4375 \r\nQ 52.34375 22.796875 50.390625 25.3125 \r\nQ 48.4375 27.828125 43.953125 29.546875 \r\nQ 41.0625 30.671875 31.203125 33.03125 \r\nQ 21.34375 35.40625 17.390625 37.5 \r\nQ 12.25 40.1875 9.734375 44.15625 \r\nQ 7.234375 48.140625 7.234375 53.078125 \r\nQ 7.234375 58.5 10.296875 63.203125 \r\nQ 13.375 67.921875 19.28125 70.359375 \r\nQ 25.203125 72.796875 32.421875 72.796875 \r\nQ 40.375 72.796875 46.453125 70.234375 \r\nQ 52.546875 67.671875 55.8125 62.6875 \r\nQ 59.078125 57.71875 59.328125 51.421875 \r\nL 50.25 50.734375 \r\nQ 49.515625 57.515625 45.28125 60.984375 \r\nQ 41.0625 64.453125 32.8125 64.453125 \r\nQ 24.21875 64.453125 20.28125 61.296875 \r\nQ 16.359375 58.15625 16.359375 53.71875 \r\nQ 16.359375 49.859375 19.140625 47.359375 \r\nQ 21.875 44.875 33.421875 42.265625 \r\nQ 44.96875 39.65625 49.265625 37.703125 \r\nQ 55.515625 34.8125 58.484375 30.390625 \r\nQ 61.46875 25.984375 61.46875 20.21875 \r\nQ 61.46875 14.5 58.203125 9.4375 \r\nQ 54.9375 4.390625 48.796875 1.578125 \r\nQ 42.671875 -1.21875 35.015625 -1.21875 \r\nQ 25.296875 -1.21875 18.71875 1.609375 \r\nQ 12.15625 4.4375 8.421875 10.125 \r\nQ 4.6875 15.828125 4.5 23 \r\nz\r\n\" id=\"ArialMT-83\"/>\r\n      <path d=\"M -1.515625 -19.875 \r\nL -1.515625 -13.53125 \r\nL 56.734375 -13.53125 \r\nL 56.734375 -19.875 \r\nz\r\n\" id=\"ArialMT-95\"/>\r\n      <path d=\"M 25.921875 0 \r\nL 25.921875 63.140625 \r\nL 2.34375 63.140625 \r\nL 2.34375 71.578125 \r\nL 59.078125 71.578125 \r\nL 59.078125 63.140625 \r\nL 35.40625 63.140625 \r\nL 35.40625 0 \r\nz\r\n\" id=\"ArialMT-84\"/>\r\n      <path d=\"M 4.828125 34.859375 \r\nQ 4.828125 52.6875 14.390625 62.765625 \r\nQ 23.96875 72.859375 39.109375 72.859375 \r\nQ 49.03125 72.859375 56.984375 68.109375 \r\nQ 64.9375 63.375 69.109375 54.90625 \r\nQ 73.296875 46.4375 73.296875 35.6875 \r\nQ 73.296875 24.8125 68.890625 16.21875 \r\nQ 64.5 7.625 56.4375 3.203125 \r\nQ 48.390625 -1.21875 39.0625 -1.21875 \r\nQ 28.953125 -1.21875 20.984375 3.65625 \r\nQ 13.03125 8.546875 8.921875 16.984375 \r\nQ 4.828125 25.4375 4.828125 34.859375 \r\nz\r\nM 14.59375 34.71875 \r\nQ 14.59375 21.78125 21.546875 14.328125 \r\nQ 28.515625 6.890625 39.015625 6.890625 \r\nQ 49.703125 6.890625 56.609375 14.40625 \r\nQ 63.53125 21.921875 63.53125 35.75 \r\nQ 63.53125 44.484375 60.578125 51 \r\nQ 57.625 57.515625 51.921875 61.109375 \r\nQ 46.234375 64.703125 39.15625 64.703125 \r\nQ 29.109375 64.703125 21.84375 57.78125 \r\nQ 14.59375 50.875 14.59375 34.71875 \r\nz\r\n\" id=\"ArialMT-79\"/>\r\n      <path d=\"M 7.859375 0 \r\nL 7.859375 71.578125 \r\nL 39.59375 71.578125 \r\nQ 49.171875 71.578125 54.140625 69.640625 \r\nQ 59.125 67.71875 62.109375 62.828125 \r\nQ 65.09375 57.953125 65.09375 52.046875 \r\nQ 65.09375 44.4375 60.15625 39.203125 \r\nQ 55.21875 33.984375 44.921875 32.5625 \r\nQ 48.6875 30.765625 50.640625 29 \r\nQ 54.78125 25.203125 58.5 19.484375 \r\nL 70.953125 0 \r\nL 59.03125 0 \r\nL 49.5625 14.890625 \r\nQ 45.40625 21.34375 42.71875 24.75 \r\nQ 40.046875 28.171875 37.921875 29.53125 \r\nQ 35.796875 30.90625 33.59375 31.453125 \r\nQ 31.984375 31.78125 28.328125 31.78125 \r\nL 17.328125 31.78125 \r\nL 17.328125 0 \r\nz\r\nM 17.328125 39.984375 \r\nL 37.703125 39.984375 \r\nQ 44.1875 39.984375 47.84375 41.328125 \r\nQ 51.515625 42.671875 53.421875 45.625 \r\nQ 55.328125 48.578125 55.328125 52.046875 \r\nQ 55.328125 57.125 51.640625 60.390625 \r\nQ 47.953125 63.671875 39.984375 63.671875 \r\nL 17.328125 63.671875 \r\nz\r\n\" id=\"ArialMT-82\"/>\r\n      <path d=\"M 7.90625 0 \r\nL 7.90625 71.578125 \r\nL 59.671875 71.578125 \r\nL 59.671875 63.140625 \r\nL 17.390625 63.140625 \r\nL 17.390625 41.21875 \r\nL 56.984375 41.21875 \r\nL 56.984375 32.8125 \r\nL 17.390625 32.8125 \r\nL 17.390625 8.453125 \r\nL 61.328125 8.453125 \r\nL 61.328125 0 \r\nz\r\n\" id=\"ArialMT-69\"/>\r\n      <path d=\"M 7.421875 0 \r\nL 7.421875 71.578125 \r\nL 21.6875 71.578125 \r\nL 38.625 20.90625 \r\nQ 40.96875 13.8125 42.046875 10.296875 \r\nQ 43.265625 14.203125 45.84375 21.78125 \r\nL 62.984375 71.578125 \r\nL 75.734375 71.578125 \r\nL 75.734375 0 \r\nL 66.609375 0 \r\nL 66.609375 59.90625 \r\nL 45.796875 0 \r\nL 37.25 0 \r\nL 16.546875 60.9375 \r\nL 16.546875 0 \r\nz\r\n\" id=\"ArialMT-77\"/>\r\n      <path d=\"M 9.328125 0 \r\nL 9.328125 71.578125 \r\nL 18.796875 71.578125 \r\nL 18.796875 0 \r\nz\r\n\" id=\"ArialMT-73\"/>\r\n      <path d=\"M 7.625 0 \r\nL 7.625 71.578125 \r\nL 17.328125 71.578125 \r\nL 54.9375 15.375 \r\nL 54.9375 71.578125 \r\nL 64.015625 71.578125 \r\nL 64.015625 0 \r\nL 54.296875 0 \r\nL 16.703125 56.25 \r\nL 16.703125 0 \r\nz\r\n\" id=\"ArialMT-78\"/>\r\n     </defs>\r\n     <g style=\"fill:#262626;\" transform=\"translate(163.124688 229.762969)scale(0.12 -0.12)\">\r\n      <use xlink:href=\"#ArialMT-68\"/>\r\n      <use x=\"72.216797\" xlink:href=\"#ArialMT-65\"/>\r\n      <use x=\"138.806641\" xlink:href=\"#ArialMT-89\"/>\r\n      <use x=\"205.505859\" xlink:href=\"#ArialMT-83\"/>\r\n      <use x=\"272.205078\" xlink:href=\"#ArialMT-95\"/>\r\n      <use x=\"327.820312\" xlink:href=\"#ArialMT-84\"/>\r\n      <use x=\"388.888672\" xlink:href=\"#ArialMT-79\"/>\r\n      <use x=\"466.671875\" xlink:href=\"#ArialMT-95\"/>\r\n      <use x=\"522.287109\" xlink:href=\"#ArialMT-82\"/>\r\n      <use x=\"594.503906\" xlink:href=\"#ArialMT-69\"/>\r\n      <use x=\"661.203125\" xlink:href=\"#ArialMT-65\"/>\r\n      <use x=\"727.902344\" xlink:href=\"#ArialMT-68\"/>\r\n      <use x=\"800.119141\" xlink:href=\"#ArialMT-77\"/>\r\n      <use x=\"883.419922\" xlink:href=\"#ArialMT-73\"/>\r\n      <use x=\"911.203125\" xlink:href=\"#ArialMT-83\"/>\r\n      <use x=\"977.902344\" xlink:href=\"#ArialMT-83\"/>\r\n      <use x=\"1044.601562\" xlink:href=\"#ArialMT-73\"/>\r\n      <use x=\"1072.384766\" xlink:href=\"#ArialMT-79\"/>\r\n      <use x=\"1150.167969\" xlink:href=\"#ArialMT-78\"/>\r\n     </g>\r\n    </g>\r\n   </g>\r\n   <g id=\"matplotlib.axis_2\">\r\n    <g id=\"ytick_1\">\r\n     <g id=\"text_7\">\r\n      <!-- 0 -->\r\n      <g style=\"fill:#262626;\" transform=\"translate(25.551094 201.396797)scale(0.11 -0.11)\">\r\n       <use xlink:href=\"#ArialMT-48\"/>\r\n      </g>\r\n     </g>\r\n    </g>\r\n    <g id=\"ytick_2\">\r\n     <g id=\"text_8\">\r\n      <!-- 2000 -->\r\n      <g style=\"fill:#262626;\" transform=\"translate(7.2 155.237072)scale(0.11 -0.11)\">\r\n       <use xlink:href=\"#ArialMT-50\"/>\r\n       <use x=\"55.615234\" xlink:href=\"#ArialMT-48\"/>\r\n       <use x=\"111.230469\" xlink:href=\"#ArialMT-48\"/>\r\n       <use x=\"166.845703\" xlink:href=\"#ArialMT-48\"/>\r\n      </g>\r\n     </g>\r\n    </g>\r\n    <g id=\"ytick_3\">\r\n     <g id=\"text_9\">\r\n      <!-- 4000 -->\r\n      <g style=\"fill:#262626;\" transform=\"translate(7.2 109.077347)scale(0.11 -0.11)\">\r\n       <use xlink:href=\"#ArialMT-52\"/>\r\n       <use x=\"55.615234\" xlink:href=\"#ArialMT-48\"/>\r\n       <use x=\"111.230469\" xlink:href=\"#ArialMT-48\"/>\r\n       <use x=\"166.845703\" xlink:href=\"#ArialMT-48\"/>\r\n      </g>\r\n     </g>\r\n    </g>\r\n    <g id=\"ytick_4\">\r\n     <g id=\"text_10\">\r\n      <!-- 6000 -->\r\n      <defs>\r\n       <path d=\"M 49.75 54.046875 \r\nL 41.015625 53.375 \r\nQ 39.84375 58.546875 37.703125 60.890625 \r\nQ 34.125 64.65625 28.90625 64.65625 \r\nQ 24.703125 64.65625 21.53125 62.3125 \r\nQ 17.390625 59.28125 14.984375 53.46875 \r\nQ 12.59375 47.65625 12.5 36.921875 \r\nQ 15.671875 41.75 20.265625 44.09375 \r\nQ 24.859375 46.4375 29.890625 46.4375 \r\nQ 38.671875 46.4375 44.84375 39.96875 \r\nQ 51.03125 33.5 51.03125 23.25 \r\nQ 51.03125 16.5 48.125 10.71875 \r\nQ 45.21875 4.9375 40.140625 1.859375 \r\nQ 35.0625 -1.21875 28.609375 -1.21875 \r\nQ 17.625 -1.21875 10.6875 6.859375 \r\nQ 3.765625 14.9375 3.765625 33.5 \r\nQ 3.765625 54.25 11.421875 63.671875 \r\nQ 18.109375 71.875 29.4375 71.875 \r\nQ 37.890625 71.875 43.28125 67.140625 \r\nQ 48.6875 62.40625 49.75 54.046875 \r\nz\r\nM 13.875 23.1875 \r\nQ 13.875 18.65625 15.796875 14.5 \r\nQ 17.71875 10.359375 21.1875 8.171875 \r\nQ 24.65625 6 28.46875 6 \r\nQ 34.03125 6 38.03125 10.484375 \r\nQ 42.046875 14.984375 42.046875 22.703125 \r\nQ 42.046875 30.125 38.078125 34.390625 \r\nQ 34.125 38.671875 28.125 38.671875 \r\nQ 22.171875 38.671875 18.015625 34.390625 \r\nQ 13.875 30.125 13.875 23.1875 \r\nz\r\n\" id=\"ArialMT-54\"/>\r\n      </defs>\r\n      <g style=\"fill:#262626;\" transform=\"translate(7.2 62.917622)scale(0.11 -0.11)\">\r\n       <use xlink:href=\"#ArialMT-54\"/>\r\n       <use x=\"55.615234\" xlink:href=\"#ArialMT-48\"/>\r\n       <use x=\"111.230469\" xlink:href=\"#ArialMT-48\"/>\r\n       <use x=\"166.845703\" xlink:href=\"#ArialMT-48\"/>\r\n      </g>\r\n     </g>\r\n    </g>\r\n    <g id=\"ytick_5\">\r\n     <g id=\"text_11\">\r\n      <!-- 8000 -->\r\n      <defs>\r\n       <path d=\"M 17.671875 38.8125 \r\nQ 12.203125 40.828125 9.5625 44.53125 \r\nQ 6.9375 48.25 6.9375 53.421875 \r\nQ 6.9375 61.234375 12.546875 66.546875 \r\nQ 18.171875 71.875 27.484375 71.875 \r\nQ 36.859375 71.875 42.578125 66.421875 \r\nQ 48.296875 60.984375 48.296875 53.171875 \r\nQ 48.296875 48.1875 45.671875 44.5 \r\nQ 43.0625 40.828125 37.75 38.8125 \r\nQ 44.34375 36.671875 47.78125 31.875 \r\nQ 51.21875 27.09375 51.21875 20.453125 \r\nQ 51.21875 11.28125 44.71875 5.03125 \r\nQ 38.234375 -1.21875 27.640625 -1.21875 \r\nQ 17.046875 -1.21875 10.546875 5.046875 \r\nQ 4.046875 11.328125 4.046875 20.703125 \r\nQ 4.046875 27.6875 7.59375 32.390625 \r\nQ 11.140625 37.109375 17.671875 38.8125 \r\nz\r\nM 15.921875 53.71875 \r\nQ 15.921875 48.640625 19.1875 45.40625 \r\nQ 22.46875 42.1875 27.6875 42.1875 \r\nQ 32.765625 42.1875 36.015625 45.375 \r\nQ 39.265625 48.578125 39.265625 53.21875 \r\nQ 39.265625 58.0625 35.90625 61.359375 \r\nQ 32.5625 64.65625 27.59375 64.65625 \r\nQ 22.5625 64.65625 19.234375 61.421875 \r\nQ 15.921875 58.203125 15.921875 53.71875 \r\nz\r\nM 13.09375 20.65625 \r\nQ 13.09375 16.890625 14.875 13.375 \r\nQ 16.65625 9.859375 20.171875 7.921875 \r\nQ 23.6875 6 27.734375 6 \r\nQ 34.03125 6 38.125 10.046875 \r\nQ 42.234375 14.109375 42.234375 20.359375 \r\nQ 42.234375 26.703125 38.015625 30.859375 \r\nQ 33.796875 35.015625 27.4375 35.015625 \r\nQ 21.234375 35.015625 17.15625 30.90625 \r\nQ 13.09375 26.8125 13.09375 20.65625 \r\nz\r\n\" id=\"ArialMT-56\"/>\r\n      </defs>\r\n      <g style=\"fill:#262626;\" transform=\"translate(7.2 16.757897)scale(0.11 -0.11)\">\r\n       <use xlink:href=\"#ArialMT-56\"/>\r\n       <use x=\"55.615234\" xlink:href=\"#ArialMT-48\"/>\r\n       <use x=\"111.230469\" xlink:href=\"#ArialMT-48\"/>\r\n       <use x=\"166.845703\" xlink:href=\"#ArialMT-48\"/>\r\n      </g>\r\n     </g>\r\n    </g>\r\n   </g>\r\n   <g id=\"patch_3\">\r\n    <path clip-path=\"url(#p8f28063eef)\" d=\"M 58.92267 197.46 \r\nL 82.595398 197.46 \r\nL 82.595398 16.26 \r\nL 58.92267 16.26 \r\nz\r\n\" style=\"fill:#4c72b0;opacity:0.4;stroke:#ffffff;stroke-linejoin:miter;\"/>\r\n   </g>\r\n   <g id=\"patch_4\">\r\n    <path clip-path=\"url(#p8f28063eef)\" d=\"M 82.595398 197.46 \r\nL 106.268125 197.46 \r\nL 106.268125 159.701345 \r\nL 82.595398 159.701345 \r\nz\r\n\" style=\"fill:#4c72b0;opacity:0.4;stroke:#ffffff;stroke-linejoin:miter;\"/>\r\n   </g>\r\n   <g id=\"patch_5\">\r\n    <path clip-path=\"url(#p8f28063eef)\" d=\"M 106.268125 197.46 \r\nL 129.940852 197.46 \r\nL 129.940852 176.503485 \r\nL 106.268125 176.503485 \r\nz\r\n\" style=\"fill:#4c72b0;opacity:0.4;stroke:#ffffff;stroke-linejoin:miter;\"/>\r\n   </g>\r\n   <g id=\"patch_6\">\r\n    <path clip-path=\"url(#p8f28063eef)\" d=\"M 129.940852 197.46 \r\nL 153.61358 197.46 \r\nL 153.61358 184.442958 \r\nL 129.940852 184.442958 \r\nz\r\n\" style=\"fill:#4c72b0;opacity:0.4;stroke:#ffffff;stroke-linejoin:miter;\"/>\r\n   </g>\r\n   <g id=\"patch_7\">\r\n    <path clip-path=\"url(#p8f28063eef)\" d=\"M 153.61358 197.46 \r\nL 177.286307 197.46 \r\nL 177.286307 187.812618 \r\nL 153.61358 187.812618 \r\nz\r\n\" style=\"fill:#4c72b0;opacity:0.4;stroke:#ffffff;stroke-linejoin:miter;\"/>\r\n   </g>\r\n   <g id=\"patch_8\">\r\n    <path clip-path=\"url(#p8f28063eef)\" d=\"M 177.286307 197.46 \r\nL 200.959034 197.46 \r\nL 200.959034 190.582201 \r\nL 177.286307 190.582201 \r\nz\r\n\" style=\"fill:#4c72b0;opacity:0.4;stroke:#ffffff;stroke-linejoin:miter;\"/>\r\n   </g>\r\n   <g id=\"patch_9\">\r\n    <path clip-path=\"url(#p8f28063eef)\" d=\"M 200.959034 197.46 \r\nL 224.631761 197.46 \r\nL 224.631761 192.636309 \r\nL 200.959034 192.636309 \r\nz\r\n\" style=\"fill:#4c72b0;opacity:0.4;stroke:#ffffff;stroke-linejoin:miter;\"/>\r\n   </g>\r\n   <g id=\"patch_10\">\r\n    <path clip-path=\"url(#p8f28063eef)\" d=\"M 224.631761 197.46 \r\nL 248.304489 197.46 \r\nL 248.304489 193.282545 \r\nL 224.631761 193.282545 \r\nz\r\n\" style=\"fill:#4c72b0;opacity:0.4;stroke:#ffffff;stroke-linejoin:miter;\"/>\r\n   </g>\r\n   <g id=\"patch_11\">\r\n    <path clip-path=\"url(#p8f28063eef)\" d=\"M 248.304489 197.46 \r\nL 271.977216 197.46 \r\nL 271.977216 194.251899 \r\nL 248.304489 194.251899 \r\nz\r\n\" style=\"fill:#4c72b0;opacity:0.4;stroke:#ffffff;stroke-linejoin:miter;\"/>\r\n   </g>\r\n   <g id=\"patch_12\">\r\n    <path clip-path=\"url(#p8f28063eef)\" d=\"M 271.977216 197.46 \r\nL 295.649943 197.46 \r\nL 295.649943 195.613611 \r\nL 271.977216 195.613611 \r\nz\r\n\" style=\"fill:#4c72b0;opacity:0.4;stroke:#ffffff;stroke-linejoin:miter;\"/>\r\n   </g>\r\n   <g id=\"patch_13\">\r\n    <path clip-path=\"url(#p8f28063eef)\" d=\"M 295.649943 197.46 \r\nL 319.32267 197.46 \r\nL 319.32267 196.236767 \r\nL 295.649943 196.236767 \r\nz\r\n\" style=\"fill:#4c72b0;opacity:0.4;stroke:#ffffff;stroke-linejoin:miter;\"/>\r\n   </g>\r\n   <g id=\"patch_14\">\r\n    <path clip-path=\"url(#p8f28063eef)\" d=\"M 319.32267 197.46 \r\nL 342.995398 197.46 \r\nL 342.995398 196.144448 \r\nL 319.32267 196.144448 \r\nz\r\n\" style=\"fill:#4c72b0;opacity:0.4;stroke:#ffffff;stroke-linejoin:miter;\"/>\r\n   </g>\r\n   <g id=\"patch_15\">\r\n    <path clip-path=\"url(#p8f28063eef)\" d=\"M 342.995398 197.46 \r\nL 366.668125 197.46 \r\nL 366.668125 196.744524 \r\nL 342.995398 196.744524 \r\nz\r\n\" style=\"fill:#4c72b0;opacity:0.4;stroke:#ffffff;stroke-linejoin:miter;\"/>\r\n   </g>\r\n   <g id=\"patch_16\">\r\n    <path clip-path=\"url(#p8f28063eef)\" d=\"M 366.668125 197.46 \r\nL 390.340852 197.46 \r\nL 390.340852 196.975323 \r\nL 366.668125 196.975323 \r\nz\r\n\" style=\"fill:#4c72b0;opacity:0.4;stroke:#ffffff;stroke-linejoin:miter;\"/>\r\n   </g>\r\n   <g id=\"patch_17\">\r\n    <path clip-path=\"url(#p8f28063eef)\" d=\"M 390.340852 197.46 \r\nL 414.01358 197.46 \r\nL 414.01358 197.229201 \r\nL 390.340852 197.229201 \r\nz\r\n\" style=\"fill:#4c72b0;opacity:0.4;stroke:#ffffff;stroke-linejoin:miter;\"/>\r\n   </g>\r\n   <g id=\"patch_18\">\r\n    <path d=\"M 41.168125 197.46 \r\nL 41.168125 7.2 \r\n\" style=\"fill:none;stroke:#cccccc;stroke-linecap:square;stroke-linejoin:miter;stroke-width:1.25;\"/>\r\n   </g>\r\n   <g id=\"patch_19\">\r\n    <path d=\"M 431.768125 197.46 \r\nL 431.768125 7.2 \r\n\" style=\"fill:none;stroke:#cccccc;stroke-linecap:square;stroke-linejoin:miter;stroke-width:1.25;\"/>\r\n   </g>\r\n   <g id=\"patch_20\">\r\n    <path d=\"M 41.168125 197.46 \r\nL 431.768125 197.46 \r\n\" style=\"fill:none;stroke:#cccccc;stroke-linecap:square;stroke-linejoin:miter;stroke-width:1.25;\"/>\r\n   </g>\r\n   <g id=\"patch_21\">\r\n    <path d=\"M 41.168125 7.2 \r\nL 431.768125 7.2 \r\n\" style=\"fill:none;stroke:#cccccc;stroke-linecap:square;stroke-linejoin:miter;stroke-width:1.25;\"/>\r\n   </g>\r\n  </g>\r\n </g>\r\n <defs>\r\n  <clipPath id=\"p8f28063eef\">\r\n   <rect height=\"190.26\" width=\"390.6\" x=\"41.168125\" y=\"7.2\"/>\r\n  </clipPath>\r\n </defs>\r\n</svg>\r\n",
      "image/png": "[encoded data removed]"
     },
     "metadata": {}
    }
   ],
   "source": [
    "sns.set(rc={'figure.figsize':(7,3.5), 'axes.grid':True})\n",
    "sns.set_style(\"whitegrid\", {'axes.grid' : False})\n",
    "fig = sns.distplot(admissions_df['DAYS_TO_READMISSION'], kde=False, bins=15)\n",
    "fig = fig.get_figure()\n",
    "fig.savefig('days_dist.pgf')"
   ]
  },
  {
   "cell_type": "code",
   "execution_count": 16,
   "metadata": {},
   "outputs": [
    {
     "output_type": "stream",
     "name": "stdout",
     "text": "122.0\n500.0\n25.0\n404.0378933847142\n"
    },
    {
     "output_type": "execute_result",
     "data": {
      "text/plain": "4107.0"
     },
     "metadata": {},
     "execution_count": 16
    }
   ],
   "source": [
    "print(admissions_df['DAYS_TO_READMISSION'].quantile(0.5))\n",
    "print(admissions_df['DAYS_TO_READMISSION'].quantile(0.75))\n",
    "print(admissions_df['DAYS_TO_READMISSION'].quantile(0.25))\n",
    "print(admissions_df['DAYS_TO_READMISSION'].mean())\n",
    "admissions_df['DAYS_TO_READMISSION'].max()"
   ]
  },
  {
   "cell_type": "code",
   "execution_count": null,
   "metadata": {},
   "outputs": [],
   "source": []
  },
  {
   "cell_type": "markdown",
   "metadata": {},
   "source": [
    "# Notes"
   ]
  },
  {
   "cell_type": "code",
   "execution_count": 20,
   "metadata": {},
   "outputs": [
    {
     "output_type": "execute_result",
     "data": {
      "text/plain": "   ROW_ID  SUBJECT_ID   HADM_ID   CHARTDATE CHARTTIME STORETIME  \\\n0     174       22532  167853.0  2151-08-04       NaN       NaN   \n1     175       13702  107527.0  2118-06-14       NaN       NaN   \n2     176       13702  167118.0  2119-05-25       NaN       NaN   \n3     177       13702  196489.0  2124-08-18       NaN       NaN   \n4     178       26880  135453.0  2162-03-25       NaN       NaN   \n\n            CATEGORY DESCRIPTION  CGID  ISERROR  \\\n0  Discharge summary      Report   NaN      NaN   \n1  Discharge summary      Report   NaN      NaN   \n2  Discharge summary      Report   NaN      NaN   \n3  Discharge summary      Report   NaN      NaN   \n4  Discharge summary      Report   NaN      NaN   \n\n                                                TEXT  \n0  Admission Date:  [**2151-7-16**]       Dischar...  \n1  Admission Date:  [**2118-6-2**]       Discharg...  \n2  Admission Date:  [**2119-5-4**]              D...  \n3  Admission Date:  [**2124-7-21**]              ...  \n4  Admission Date:  [**2162-3-3**]              D...  ",
      "text/html": "<div>\n<style scoped>\n    .dataframe tbody tr th:only-of-type {\n        vertical-align: middle;\n    }\n\n    .dataframe tbody tr th {\n        vertical-align: top;\n    }\n\n    .dataframe thead th {\n        text-align: right;\n    }\n</style>\n<table border=\"1\" class=\"dataframe\">\n  <thead>\n    <tr style=\"text-align: right;\">\n      <th></th>\n      <th>ROW_ID</th>\n      <th>SUBJECT_ID</th>\n      <th>HADM_ID</th>\n      <th>CHARTDATE</th>\n      <th>CHARTTIME</th>\n      <th>STORETIME</th>\n      <th>CATEGORY</th>\n      <th>DESCRIPTION</th>\n      <th>CGID</th>\n      <th>ISERROR</th>\n      <th>TEXT</th>\n    </tr>\n  </thead>\n  <tbody>\n    <tr>\n      <th>0</th>\n      <td>174</td>\n      <td>22532</td>\n      <td>167853.0</td>\n      <td>2151-08-04</td>\n      <td>NaN</td>\n      <td>NaN</td>\n      <td>Discharge summary</td>\n      <td>Report</td>\n      <td>NaN</td>\n      <td>NaN</td>\n      <td>Admission Date:  [**2151-7-16**]       Dischar...</td>\n    </tr>\n    <tr>\n      <th>1</th>\n      <td>175</td>\n      <td>13702</td>\n      <td>107527.0</td>\n      <td>2118-06-14</td>\n      <td>NaN</td>\n      <td>NaN</td>\n      <td>Discharge summary</td>\n      <td>Report</td>\n      <td>NaN</td>\n      <td>NaN</td>\n      <td>Admission Date:  [**2118-6-2**]       Discharg...</td>\n    </tr>\n    <tr>\n      <th>2</th>\n      <td>176</td>\n      <td>13702</td>\n      <td>167118.0</td>\n      <td>2119-05-25</td>\n      <td>NaN</td>\n      <td>NaN</td>\n      <td>Discharge summary</td>\n      <td>Report</td>\n      <td>NaN</td>\n      <td>NaN</td>\n      <td>Admission Date:  [**2119-5-4**]              D...</td>\n    </tr>\n    <tr>\n      <th>3</th>\n      <td>177</td>\n      <td>13702</td>\n      <td>196489.0</td>\n      <td>2124-08-18</td>\n      <td>NaN</td>\n      <td>NaN</td>\n      <td>Discharge summary</td>\n      <td>Report</td>\n      <td>NaN</td>\n      <td>NaN</td>\n      <td>Admission Date:  [**2124-7-21**]              ...</td>\n    </tr>\n    <tr>\n      <th>4</th>\n      <td>178</td>\n      <td>26880</td>\n      <td>135453.0</td>\n      <td>2162-03-25</td>\n      <td>NaN</td>\n      <td>NaN</td>\n      <td>Discharge summary</td>\n      <td>Report</td>\n      <td>NaN</td>\n      <td>NaN</td>\n      <td>Admission Date:  [**2162-3-3**]              D...</td>\n    </tr>\n  </tbody>\n</table>\n</div>"
     },
     "metadata": {},
     "execution_count": 20
    }
   ],
   "source": [
    "notes_df.head()"
   ]
  },
  {
   "cell_type": "code",
   "execution_count": 21,
   "metadata": {},
   "outputs": [
    {
     "output_type": "execute_result",
     "data": {
      "text/plain": "(2083180, 11)"
     },
     "metadata": {},
     "execution_count": 21
    }
   ],
   "source": [
    "notes_df.shape"
   ]
  },
  {
   "cell_type": "code",
   "execution_count": 22,
   "metadata": {},
   "outputs": [
    {
     "output_type": "execute_result",
     "data": {
      "text/plain": "array(['Discharge summary', 'Echo', 'ECG', 'Nursing', 'Physician ',\n       'Rehab Services', 'Case Management ', 'Respiratory ', 'Nutrition',\n       'General', 'Social Work', 'Pharmacy', 'Consult', 'Radiology',\n       'Nursing/other'], dtype=object)"
     },
     "metadata": {},
     "execution_count": 22
    }
   ],
   "source": [
    "notes_df['CATEGORY'].unique()"
   ]
  },
  {
   "cell_type": "code",
   "execution_count": 23,
   "metadata": {},
   "outputs": [
    {
     "output_type": "execute_result",
     "data": {
      "text/plain": "(59652, 11)"
     },
     "metadata": {},
     "execution_count": 23
    }
   ],
   "source": [
    "discharge_notes = notes_df[notes_df['CATEGORY'] == \"Discharge summary\"]\n",
    "discharge_notes.shape"
   ]
  },
  {
   "cell_type": "markdown",
   "metadata": {},
   "source": [
    "There are 6926 admissions with more than one discharge note (HADM_ID - ID of Admissions)."
   ]
  },
  {
   "cell_type": "code",
   "execution_count": 25,
   "metadata": {},
   "outputs": [
    {
     "output_type": "execute_result",
     "data": {
      "text/plain": "6926"
     },
     "metadata": {},
     "execution_count": 25
    }
   ],
   "source": [
    "discharge_notes.duplicated(['HADM_ID']).sum()"
   ]
  },
  {
   "cell_type": "markdown",
   "metadata": {},
   "source": [
    "Take the last row per admission"
   ]
  },
  {
   "cell_type": "code",
   "execution_count": 26,
   "metadata": {},
   "outputs": [],
   "source": [
    "discharge_notes_ordered = discharge_notes.groupby(['SUBJECT_ID', 'HADM_ID']).nth(-1).reset_index()"
   ]
  },
  {
   "cell_type": "code",
   "execution_count": 27,
   "metadata": {},
   "outputs": [
    {
     "output_type": "execute_result",
     "data": {
      "text/plain": "0"
     },
     "metadata": {},
     "execution_count": 27
    }
   ],
   "source": [
    "discharge_notes_ordered.duplicated(['HADM_ID']).sum()"
   ]
  },
  {
   "cell_type": "code",
   "execution_count": 28,
   "metadata": {},
   "outputs": [
    {
     "output_type": "execute_result",
     "data": {
      "text/plain": "(52726, 11)"
     },
     "metadata": {},
     "execution_count": 28
    }
   ],
   "source": [
    "discharge_notes_ordered.shape"
   ]
  },
  {
   "cell_type": "markdown",
   "metadata": {},
   "source": [
    "# Merge Notes and Admissions"
   ]
  },
  {
   "cell_type": "code",
   "execution_count": 29,
   "metadata": {},
   "outputs": [],
   "source": [
    "admissions_notes = pd.merge(\n",
    "    admissions_df[['SUBJECT_ID','HADM_ID','ADMITTIME','DISCHTIME','DAYS_TO_READMISSION','NEXT_ADMITTIME','ADMISSION_TYPE','DEATHTIME']],\n",
    "    discharge_notes_ordered[['SUBJECT_ID', 'HADM_ID', 'TEXT']], \n",
    "    on = ['SUBJECT_ID', 'HADM_ID'], how='left'\n",
    ")"
   ]
  },
  {
   "cell_type": "code",
   "execution_count": 30,
   "metadata": {},
   "outputs": [
    {
     "output_type": "execute_result",
     "data": {
      "text/plain": "       SUBJECT_ID  HADM_ID           ADMITTIME           DISCHTIME  \\\n0               2   163353 2138-07-17 19:04:00 2138-07-21 15:48:00   \n1               3   145834 2101-10-20 19:08:00 2101-10-31 13:58:00   \n2               4   185777 2191-03-16 00:28:00 2191-03-23 18:41:00   \n3               5   178980 2103-02-02 04:31:00 2103-02-04 12:15:00   \n4               6   107064 2175-05-30 07:15:00 2175-06-15 16:00:00   \n...           ...      ...                 ...                 ...   \n58971       99985   176670 2181-01-27 02:47:00 2181-02-12 17:05:00   \n58972       99991   151118 2184-12-24 08:30:00 2185-01-05 12:15:00   \n58973       99992   197084 2144-07-25 18:03:00 2144-07-28 17:56:00   \n58974       99995   137810 2147-02-08 08:00:00 2147-02-11 13:15:00   \n58975       99999   113369 2117-12-30 07:15:00 2118-01-04 16:30:00   \n\n       DAYS_TO_READMISSION NEXT_ADMITTIME ADMISSION_TYPE DEATHTIME  \\\n0                      NaN            NaT        NEWBORN       NaT   \n1                      NaN            NaT      EMERGENCY       NaT   \n2                      NaN            NaT      EMERGENCY       NaT   \n3                      NaN            NaT        NEWBORN       NaT   \n4                      NaN            NaT       ELECTIVE       NaT   \n...                    ...            ...            ...       ...   \n58971                  NaN            NaT      EMERGENCY       NaT   \n58972                  NaN            NaT       ELECTIVE       NaT   \n58973                  NaN            NaT      EMERGENCY       NaT   \n58974                  NaN            NaT       ELECTIVE       NaT   \n58975                  NaN            NaT       ELECTIVE       NaT   \n\n                                                    TEXT  \n0                                                    NaN  \n1      Admission Date:  [**2101-10-20**]     Discharg...  \n2      Admission Date:  [**2191-3-16**]     Discharge...  \n3                                                    NaN  \n4      Admission Date: [**2175-5-30**]        Dischar...  \n...                                                  ...  \n58971  Admission Date:  [**2181-1-27**]              ...  \n58972  Admission Date:  [**2184-12-24**]             ...  \n58973  Admission Date:  [**2144-7-25**]              ...  \n58974  Admission Date:  [**2147-2-8**]              D...  \n58975  Admission Date:  [**2117-12-30**]             ...  \n\n[58976 rows x 9 columns]",
      "text/html": "<div>\n<style scoped>\n    .dataframe tbody tr th:only-of-type {\n        vertical-align: middle;\n    }\n\n    .dataframe tbody tr th {\n        vertical-align: top;\n    }\n\n    .dataframe thead th {\n        text-align: right;\n    }\n</style>\n<table border=\"1\" class=\"dataframe\">\n  <thead>\n    <tr style=\"text-align: right;\">\n      <th></th>\n      <th>SUBJECT_ID</th>\n      <th>HADM_ID</th>\n      <th>ADMITTIME</th>\n      <th>DISCHTIME</th>\n      <th>DAYS_TO_READMISSION</th>\n      <th>NEXT_ADMITTIME</th>\n      <th>ADMISSION_TYPE</th>\n      <th>DEATHTIME</th>\n      <th>TEXT</th>\n    </tr>\n  </thead>\n  <tbody>\n    <tr>\n      <th>0</th>\n      <td>2</td>\n      <td>163353</td>\n      <td>2138-07-17 19:04:00</td>\n      <td>2138-07-21 15:48:00</td>\n      <td>NaN</td>\n      <td>NaT</td>\n      <td>NEWBORN</td>\n      <td>NaT</td>\n      <td>NaN</td>\n    </tr>\n    <tr>\n      <th>1</th>\n      <td>3</td>\n      <td>145834</td>\n      <td>2101-10-20 19:08:00</td>\n      <td>2101-10-31 13:58:00</td>\n      <td>NaN</td>\n      <td>NaT</td>\n      <td>EMERGENCY</td>\n      <td>NaT</td>\n      <td>Admission Date:  [**2101-10-20**]     Discharg...</td>\n    </tr>\n    <tr>\n      <th>2</th>\n      <td>4</td>\n      <td>185777</td>\n      <td>2191-03-16 00:28:00</td>\n      <td>2191-03-23 18:41:00</td>\n      <td>NaN</td>\n      <td>NaT</td>\n      <td>EMERGENCY</td>\n      <td>NaT</td>\n      <td>Admission Date:  [**2191-3-16**]     Discharge...</td>\n    </tr>\n    <tr>\n      <th>3</th>\n      <td>5</td>\n      <td>178980</td>\n      <td>2103-02-02 04:31:00</td>\n      <td>2103-02-04 12:15:00</td>\n      <td>NaN</td>\n      <td>NaT</td>\n      <td>NEWBORN</td>\n      <td>NaT</td>\n      <td>NaN</td>\n    </tr>\n    <tr>\n      <th>4</th>\n      <td>6</td>\n      <td>107064</td>\n      <td>2175-05-30 07:15:00</td>\n      <td>2175-06-15 16:00:00</td>\n      <td>NaN</td>\n      <td>NaT</td>\n      <td>ELECTIVE</td>\n      <td>NaT</td>\n      <td>Admission Date: [**2175-5-30**]        Dischar...</td>\n    </tr>\n    <tr>\n      <th>...</th>\n      <td>...</td>\n      <td>...</td>\n      <td>...</td>\n      <td>...</td>\n      <td>...</td>\n      <td>...</td>\n      <td>...</td>\n      <td>...</td>\n      <td>...</td>\n    </tr>\n    <tr>\n      <th>58971</th>\n      <td>99985</td>\n      <td>176670</td>\n      <td>2181-01-27 02:47:00</td>\n      <td>2181-02-12 17:05:00</td>\n      <td>NaN</td>\n      <td>NaT</td>\n      <td>EMERGENCY</td>\n      <td>NaT</td>\n      <td>Admission Date:  [**2181-1-27**]              ...</td>\n    </tr>\n    <tr>\n      <th>58972</th>\n      <td>99991</td>\n      <td>151118</td>\n      <td>2184-12-24 08:30:00</td>\n      <td>2185-01-05 12:15:00</td>\n      <td>NaN</td>\n      <td>NaT</td>\n      <td>ELECTIVE</td>\n      <td>NaT</td>\n      <td>Admission Date:  [**2184-12-24**]             ...</td>\n    </tr>\n    <tr>\n      <th>58973</th>\n      <td>99992</td>\n      <td>197084</td>\n      <td>2144-07-25 18:03:00</td>\n      <td>2144-07-28 17:56:00</td>\n      <td>NaN</td>\n      <td>NaT</td>\n      <td>EMERGENCY</td>\n      <td>NaT</td>\n      <td>Admission Date:  [**2144-7-25**]              ...</td>\n    </tr>\n    <tr>\n      <th>58974</th>\n      <td>99995</td>\n      <td>137810</td>\n      <td>2147-02-08 08:00:00</td>\n      <td>2147-02-11 13:15:00</td>\n      <td>NaN</td>\n      <td>NaT</td>\n      <td>ELECTIVE</td>\n      <td>NaT</td>\n      <td>Admission Date:  [**2147-2-8**]              D...</td>\n    </tr>\n    <tr>\n      <th>58975</th>\n      <td>99999</td>\n      <td>113369</td>\n      <td>2117-12-30 07:15:00</td>\n      <td>2118-01-04 16:30:00</td>\n      <td>NaN</td>\n      <td>NaT</td>\n      <td>ELECTIVE</td>\n      <td>NaT</td>\n      <td>Admission Date:  [**2117-12-30**]             ...</td>\n    </tr>\n  </tbody>\n</table>\n<p>58976 rows × 9 columns</p>\n</div>"
     },
     "metadata": {},
     "execution_count": 30
    }
   ],
   "source": [
    "admissions_notes"
   ]
  },
  {
   "cell_type": "markdown",
   "metadata": {},
   "source": [
    "10% of admissions without discharge notes."
   ]
  },
  {
   "cell_type": "code",
   "execution_count": 31,
   "metadata": {},
   "outputs": [
    {
     "output_type": "execute_result",
     "data": {
      "text/plain": "0.1059753119913185"
     },
     "metadata": {},
     "execution_count": 31
    }
   ],
   "source": [
    "sum(admissions_notes['TEXT'].isnull()) / len(admissions_notes)"
   ]
  },
  {
   "cell_type": "markdown",
   "metadata": {},
   "source": [
    "53% of NEWBORN are missing"
   ]
  },
  {
   "cell_type": "code",
   "execution_count": 32,
   "metadata": {},
   "outputs": [
    {
     "output_type": "execute_result",
     "data": {
      "text/plain": "ADMISSION_TYPE\nELECTIVE     0.048663\nEMERGENCY    0.037983\nNEWBORN      0.536691\nURGENT       0.042665\ndtype: float64"
     },
     "metadata": {},
     "execution_count": 32
    }
   ],
   "source": [
    "admissions_notes.groupby('ADMISSION_TYPE').apply(lambda g: g.TEXT.isnull().sum())/admissions_notes.groupby('ADMISSION_TYPE').size()\n",
    ""
   ]
  },
  {
   "cell_type": "markdown",
   "metadata": {},
   "source": [
    "Remove NEWBORN admissions and create the target variable"
   ]
  },
  {
   "cell_type": "code",
   "execution_count": 33,
   "metadata": {},
   "outputs": [],
   "source": [
    "adm_notes = admissions_notes[admissions_notes['ADMISSION_TYPE'] != 'NEWBORN']\n",
    "adm_notes['READM_WITHIN_30'] = (adm_notes['DAYS_TO_READMISSION'] < 30).astype('int')"
   ]
  },
  {
   "cell_type": "code",
   "execution_count": 34,
   "metadata": {},
   "outputs": [
    {
     "output_type": "execute_result",
     "data": {
      "text/plain": "3166"
     },
     "metadata": {},
     "execution_count": 34
    }
   ],
   "source": [
    "sum(adm_notes['READM_WITHIN_30'])"
   ]
  },
  {
   "cell_type": "code",
   "execution_count": 35,
   "metadata": {},
   "outputs": [
    {
     "output_type": "execute_result",
     "data": {
      "text/plain": "(51113, 10)"
     },
     "metadata": {},
     "execution_count": 35
    }
   ],
   "source": [
    "adm_notes.shape"
   ]
  },
  {
   "cell_type": "markdown",
   "metadata": {},
   "source": [
    "Exlude patients that died during the admission"
   ]
  },
  {
   "cell_type": "code",
   "execution_count": 36,
   "metadata": {},
   "outputs": [],
   "source": [
    "rows_not_death = adm_notes['DEATHTIME'].isnull()\n",
    "df_adm_notes_not_death = adm_notes.loc[rows_not_death].copy()\n",
    "df_adm_notes_not_death = df_adm_notes_not_death.sample(n = len(df_adm_notes_not_death))\n",
    "df_adm_notes_not_death = df_adm_notes_not_death.reset_index(drop = True)"
   ]
  },
  {
   "cell_type": "code",
   "execution_count": 37,
   "metadata": {},
   "outputs": [
    {
     "output_type": "execute_result",
     "data": {
      "text/plain": "3121"
     },
     "metadata": {},
     "execution_count": 37
    }
   ],
   "source": [
    "sum(df_adm_notes_not_death['READM_WITHIN_30'])"
   ]
  },
  {
   "cell_type": "code",
   "execution_count": 40,
   "metadata": {},
   "outputs": [
    {
     "output_type": "execute_result",
     "data": {
      "text/plain": "45321"
     },
     "metadata": {},
     "execution_count": 40
    }
   ],
   "source": [
    "len(df_adm_notes_not_death['READM_WITHIN_30'])"
   ]
  }
 ],
 "metadata": {
  "language_info": {
   "name": "python",
   "codemirror_mode": {
    "name": "ipython",
    "version": 3
   },
   "version": "3.7.4-final"
  },
  "orig_nbformat": 2,
  "file_extension": ".py",
  "mimetype": "text/x-python",
  "name": "python",
  "npconvert_exporter": "python",
  "pygments_lexer": "ipython3",
  "version": 3,
  "kernelspec": {
   "name": "python37464bita07fc30724e44bf79f33747589a05ca4",
   "display_name": "Python 3.7.4 64-bit"
  }
 },
 "nbformat": 4,
 "nbformat_minor": 2
}