{
 "nbformat": 4,
 "nbformat_minor": 2,
 "metadata": {
  "language_info": {
   "name": "python",
   "codemirror_mode": {
    "name": "ipython",
    "version": 3
   },
   "version": "3.7.4-final"
  },
  "orig_nbformat": 2,
  "file_extension": ".py",
  "mimetype": "text/x-python",
  "name": "python",
  "npconvert_exporter": "python",
  "pygments_lexer": "ipython3",
  "version": 3,
  "kernelspec": {
   "name": "python37464bita07fc30724e44bf79f33747589a05ca4",
   "display_name": "Python 3.7.4 64-bit"
  }
 },
 "cells": [
  {
   "cell_type": "code",
   "execution_count": 1,
   "metadata": {},
   "outputs": [],
   "source": [
    "import pandas as pd\n",
    "import numpy as np\n",
    "import re\n",
    "import datetime\n",
    "import seaborn as sns\n",
    "import matplotlib.pyplot as plt"
   ]
  },
  {
   "cell_type": "code",
   "execution_count": 2,
   "metadata": {},
   "outputs": [],
   "source": [
    "DIR_ = \"C:/Users/javie/Documents/Workspace/MIMIC DATA/mimic-iii-clinical-database-1.4/\"\n",
    "DIR = \"D:/Workspace/MIMIC DATA/mimic-iii-clinical-database-1.4/\""
   ]
  },
  {
   "cell_type": "code",
   "execution_count": 3,
   "metadata": {},
   "outputs": [],
   "source": [
    "notes_df = pd.read_csv(DIR + \"NOTEEVENTS.csv\", low_memory=False)\n",
    "admissions_df = pd.read_csv(DIR + \"ADMISSIONS.csv\", low_memory=False)"
   ]
  },
  {
   "cell_type": "markdown",
   "metadata": {},
   "source": [
    "# Data\n",
    "## Admissions\n",
    "Conversion of times to datetime type"
   ]
  },
  {
   "cell_type": "code",
   "execution_count": 4,
   "metadata": {},
   "outputs": [],
   "source": [
    "admissions_df['ADMITTIME'] = admissions_df['ADMITTIME'].astype('datetime64[ns]')\n",
    "admissions_df['DISCHTIME'] = admissions_df['DISCHTIME'].astype('datetime64[ns]')\n",
    "admissions_df['DEATHTIME'] = admissions_df['DEATHTIME'].astype('datetime64[ns]')"
   ]
  },
  {
   "cell_type": "markdown",
   "metadata": {},
   "source": [
    "Sort by subject and admission type and reset the data frame index."
   ]
  },
  {
   "cell_type": "code",
   "execution_count": 5,
   "metadata": {},
   "outputs": [],
   "source": [
    "admissions_df = admissions_df.sort_values(['SUBJECT_ID', 'ADMITTIME'])\n",
    "admissions_df = admissions_df.reset_index(drop = True)"
   ]
  },
  {
   "cell_type": "code",
   "execution_count": 6,
   "metadata": {},
   "outputs": [],
   "source": [
    "admissions_df['NEXT_ADMITTIME'] = admissions_df.groupby('SUBJECT_ID').ADMITTIME.shift(-1)\n",
    "admissions_df['NEXT_ADMISSION_TYPE'] = admissions_df.groupby('SUBJECT_ID').ADMISSION_TYPE.shift(-1)"
   ]
  },
  {
   "cell_type": "code",
   "execution_count": 7,
   "metadata": {},
   "outputs": [],
   "source": [
    "admissions_df[admissions_df['NEXT_ADMISSION_TYPE'] == 'ELECTIVE']['NEXT_ADMITTIME'] = pd.NaT\n",
    "admissions_df[admissions_df['NEXT_ADMISSION_TYPE'] == 'ELECTIVE']['NEXT_ADMISSION_TYPE'] = np.NaN"
   ]
  },
  {
   "cell_type": "markdown",
   "metadata": {},
   "source": [
    "Fill NA's with the next valid value. Previously sorted."
   ]
  },
  {
   "cell_type": "code",
   "execution_count": 8,
   "metadata": {},
   "outputs": [],
   "source": [
    "admissions_df[['NEXT_ADMITTIME','NEXT_ADMISSION_TYPE']] = admissions_df.groupby(['SUBJECT_ID'])[['NEXT_ADMITTIME','NEXT_ADMISSION_TYPE']].fillna(method = 'bfill')"
   ]
  },
  {
   "cell_type": "markdown",
   "metadata": {},
   "source": [
    "Obtain days to readmission: from discharge to next readmission"
   ]
  },
  {
   "cell_type": "code",
   "execution_count": 9,
   "metadata": {},
   "outputs": [],
   "source": [
    "admissions_df['DAYS_TO_READMISSION'] = (admissions_df['NEXT_ADMITTIME'] - admissions_df['DISCHTIME']).dt.days"
   ]
  },
  {
   "cell_type": "markdown",
   "metadata": {},
   "source": [
    "## Notes"
   ]
  },
  {
   "cell_type": "code",
   "execution_count": 10,
   "metadata": {},
   "outputs": [],
   "source": [
    "discharge_notes = notes_df[notes_df['CATEGORY'] == \"Discharge summary\"]"
   ]
  },
  {
   "cell_type": "markdown",
   "metadata": {},
   "source": [
    "Take the last row per admission"
   ]
  },
  {
   "cell_type": "code",
   "execution_count": 11,
   "metadata": {},
   "outputs": [],
   "source": [
    "discharge_notes_ordered = discharge_notes.groupby(['SUBJECT_ID', 'HADM_ID']).nth(-1).reset_index()"
   ]
  },
  {
   "cell_type": "markdown",
   "metadata": {},
   "source": [
    "## Merge Notes and Admissions"
   ]
  },
  {
   "cell_type": "code",
   "execution_count": 12,
   "metadata": {},
   "outputs": [],
   "source": [
    "admissions_notes = pd.merge(\n",
    "    admissions_df[['SUBJECT_ID','HADM_ID','ADMITTIME','DISCHTIME','DAYS_TO_READMISSION','NEXT_ADMITTIME','ADMISSION_TYPE','DEATHTIME']],\n",
    "    discharge_notes_ordered[['SUBJECT_ID', 'HADM_ID', 'TEXT']], \n",
    "    on = ['SUBJECT_ID', 'HADM_ID'], how='left'\n",
    ")"
   ]
  },
  {
   "cell_type": "markdown",
   "metadata": {},
   "source": [
    "Remove NEWBORN admissions and create the target variable"
   ]
  },
  {
   "cell_type": "code",
   "execution_count": 13,
   "metadata": {},
   "outputs": [],
   "source": [
    "adm_notes = admissions_notes[admissions_notes['ADMISSION_TYPE'] != 'NEWBORN']\n",
    "adm_notes['READM_WITHIN_30'] = (adm_notes['DAYS_TO_READMISSION'] < 30).astype('int')"
   ]
  },
  {
   "cell_type": "markdown",
   "metadata": {},
   "source": [
    "Exlude patients that died during the admission"
   ]
  },
  {
   "cell_type": "code",
   "execution_count": 14,
   "metadata": {},
   "outputs": [],
   "source": [
    "adm_notes = adm_notes.loc[adm_notes['DEATHTIME'].isnull()]\n",
    "adm_notes = adm_notes.sample(n = len(adm_notes))\n",
    "adm_notes = adm_notes.reset_index(drop = True)"
   ]
  },
  {
   "cell_type": "code",
   "execution_count": 15,
   "metadata": {},
   "outputs": [
    {
     "output_type": "execute_result",
     "data": {
      "text/plain": "       SUBJECT_ID  HADM_ID           ADMITTIME           DISCHTIME  \\\n0           78100   149085 2143-09-10 18:03:00 2143-09-18 15:10:00   \n1            3030   123465 2114-07-05 12:00:00 2114-07-14 19:20:00   \n2           31520   199872 2132-03-12 15:01:00 2132-06-12 16:10:00   \n3           25382   137283 2194-08-04 16:35:00 2194-08-13 13:45:00   \n4           15453   168028 2110-12-07 23:49:00 2110-12-13 10:56:00   \n...           ...      ...                 ...                 ...   \n45316       59505   139500 2120-03-14 14:22:00 2120-03-16 14:00:00   \n45317        7427   161280 2136-03-26 15:23:00 2136-04-04 11:47:00   \n45318       19691   129760 2115-09-22 05:02:00 2115-10-10 15:05:00   \n45319        7129   191192 2177-02-23 17:00:00 2177-02-26 15:30:00   \n45320       11961   136082 2153-11-19 16:00:00 2153-11-22 19:00:00   \n\n       DAYS_TO_READMISSION      NEXT_ADMITTIME ADMISSION_TYPE DEATHTIME  \\\n0                      4.0 2143-09-22 21:42:00      EMERGENCY       NaT   \n1                      NaN                 NaT       ELECTIVE       NaT   \n2                      2.0 2132-06-15 01:15:00       ELECTIVE       NaT   \n3                      NaN                 NaT      EMERGENCY       NaT   \n4                      1.0 2110-12-14 22:44:00      EMERGENCY       NaT   \n...                    ...                 ...            ...       ...   \n45316                  NaN                 NaT      EMERGENCY       NaT   \n45317               1896.0 2141-06-13 23:13:00      EMERGENCY       NaT   \n45318                  NaN                 NaT      EMERGENCY       NaT   \n45319                  NaN                 NaT      EMERGENCY       NaT   \n45320                  NaN                 NaT      EMERGENCY       NaT   \n\n                                                    TEXT  READM_WITHIN_30  \n0      Admission Date:  [**2143-9-10**]              ...                1  \n1      Admission Date: [**2114-7-5**]        Discharg...                0  \n2      Admission Date:  [**2132-3-12**]              ...                1  \n3      Name:  [**Known lastname 9275**], [**Known fir...                0  \n4      Admission Date:  [**2110-12-7**]       Dischar...                1  \n...                                                  ...              ...  \n45316  Admission Date:  [**2120-3-14**]              ...                0  \n45317  Admission Date:  [**2136-3-27**]       Dischar...                0  \n45318  Admission Date:  [**2115-9-22**]       Dischar...                0  \n45319  Admission Date:  [**2177-2-23**]              ...                0  \n45320  Admission Date:  [**2153-11-19**]             ...                0  \n\n[45321 rows x 10 columns]",
      "text/html": "<div>\n<style scoped>\n    .dataframe tbody tr th:only-of-type {\n        vertical-align: middle;\n    }\n\n    .dataframe tbody tr th {\n        vertical-align: top;\n    }\n\n    .dataframe thead th {\n        text-align: right;\n    }\n</style>\n<table border=\"1\" class=\"dataframe\">\n  <thead>\n    <tr style=\"text-align: right;\">\n      <th></th>\n      <th>SUBJECT_ID</th>\n      <th>HADM_ID</th>\n      <th>ADMITTIME</th>\n      <th>DISCHTIME</th>\n      <th>DAYS_TO_READMISSION</th>\n      <th>NEXT_ADMITTIME</th>\n      <th>ADMISSION_TYPE</th>\n      <th>DEATHTIME</th>\n      <th>TEXT</th>\n      <th>READM_WITHIN_30</th>\n    </tr>\n  </thead>\n  <tbody>\n    <tr>\n      <th>0</th>\n      <td>78100</td>\n      <td>149085</td>\n      <td>2143-09-10 18:03:00</td>\n      <td>2143-09-18 15:10:00</td>\n      <td>4.0</td>\n      <td>2143-09-22 21:42:00</td>\n      <td>EMERGENCY</td>\n      <td>NaT</td>\n      <td>Admission Date:  [**2143-9-10**]              ...</td>\n      <td>1</td>\n    </tr>\n    <tr>\n      <th>1</th>\n      <td>3030</td>\n      <td>123465</td>\n      <td>2114-07-05 12:00:00</td>\n      <td>2114-07-14 19:20:00</td>\n      <td>NaN</td>\n      <td>NaT</td>\n      <td>ELECTIVE</td>\n      <td>NaT</td>\n      <td>Admission Date: [**2114-7-5**]        Discharg...</td>\n      <td>0</td>\n    </tr>\n    <tr>\n      <th>2</th>\n      <td>31520</td>\n      <td>199872</td>\n      <td>2132-03-12 15:01:00</td>\n      <td>2132-06-12 16:10:00</td>\n      <td>2.0</td>\n      <td>2132-06-15 01:15:00</td>\n      <td>ELECTIVE</td>\n      <td>NaT</td>\n      <td>Admission Date:  [**2132-3-12**]              ...</td>\n      <td>1</td>\n    </tr>\n    <tr>\n      <th>3</th>\n      <td>25382</td>\n      <td>137283</td>\n      <td>2194-08-04 16:35:00</td>\n      <td>2194-08-13 13:45:00</td>\n      <td>NaN</td>\n      <td>NaT</td>\n      <td>EMERGENCY</td>\n      <td>NaT</td>\n      <td>Name:  [**Known lastname 9275**], [**Known fir...</td>\n      <td>0</td>\n    </tr>\n    <tr>\n      <th>4</th>\n      <td>15453</td>\n      <td>168028</td>\n      <td>2110-12-07 23:49:00</td>\n      <td>2110-12-13 10:56:00</td>\n      <td>1.0</td>\n      <td>2110-12-14 22:44:00</td>\n      <td>EMERGENCY</td>\n      <td>NaT</td>\n      <td>Admission Date:  [**2110-12-7**]       Dischar...</td>\n      <td>1</td>\n    </tr>\n    <tr>\n      <th>...</th>\n      <td>...</td>\n      <td>...</td>\n      <td>...</td>\n      <td>...</td>\n      <td>...</td>\n      <td>...</td>\n      <td>...</td>\n      <td>...</td>\n      <td>...</td>\n      <td>...</td>\n    </tr>\n    <tr>\n      <th>45316</th>\n      <td>59505</td>\n      <td>139500</td>\n      <td>2120-03-14 14:22:00</td>\n      <td>2120-03-16 14:00:00</td>\n      <td>NaN</td>\n      <td>NaT</td>\n      <td>EMERGENCY</td>\n      <td>NaT</td>\n      <td>Admission Date:  [**2120-3-14**]              ...</td>\n      <td>0</td>\n    </tr>\n    <tr>\n      <th>45317</th>\n      <td>7427</td>\n      <td>161280</td>\n      <td>2136-03-26 15:23:00</td>\n      <td>2136-04-04 11:47:00</td>\n      <td>1896.0</td>\n      <td>2141-06-13 23:13:00</td>\n      <td>EMERGENCY</td>\n      <td>NaT</td>\n      <td>Admission Date:  [**2136-3-27**]       Dischar...</td>\n      <td>0</td>\n    </tr>\n    <tr>\n      <th>45318</th>\n      <td>19691</td>\n      <td>129760</td>\n      <td>2115-09-22 05:02:00</td>\n      <td>2115-10-10 15:05:00</td>\n      <td>NaN</td>\n      <td>NaT</td>\n      <td>EMERGENCY</td>\n      <td>NaT</td>\n      <td>Admission Date:  [**2115-9-22**]       Dischar...</td>\n      <td>0</td>\n    </tr>\n    <tr>\n      <th>45319</th>\n      <td>7129</td>\n      <td>191192</td>\n      <td>2177-02-23 17:00:00</td>\n      <td>2177-02-26 15:30:00</td>\n      <td>NaN</td>\n      <td>NaT</td>\n      <td>EMERGENCY</td>\n      <td>NaT</td>\n      <td>Admission Date:  [**2177-2-23**]              ...</td>\n      <td>0</td>\n    </tr>\n    <tr>\n      <th>45320</th>\n      <td>11961</td>\n      <td>136082</td>\n      <td>2153-11-19 16:00:00</td>\n      <td>2153-11-22 19:00:00</td>\n      <td>NaN</td>\n      <td>NaT</td>\n      <td>EMERGENCY</td>\n      <td>NaT</td>\n      <td>Admission Date:  [**2153-11-19**]             ...</td>\n      <td>0</td>\n    </tr>\n  </tbody>\n</table>\n<p>45321 rows × 10 columns</p>\n</div>"
     },
     "metadata": {},
     "execution_count": 15
    }
   ],
   "source": [
    "adm_notes"
   ]
  },
  {
   "cell_type": "code",
   "execution_count": 16,
   "metadata": {},
   "outputs": [],
   "source": [
    "adm_notes.to_csv(DIR + 'readmission.csv', index=False)"
   ]
  }
 ]
}