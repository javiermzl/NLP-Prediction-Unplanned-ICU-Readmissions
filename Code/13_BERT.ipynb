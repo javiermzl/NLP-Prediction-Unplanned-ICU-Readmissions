{
  "nbformat": 4,
  "nbformat_minor": 0,
  "metadata": {
    "language_info": {
      "name": "python",
      "codemirror_mode": {
        "name": "ipython",
        "version": 3
      },
      "version": "3.7.4-final"
    },
    "orig_nbformat": 2,
    "file_extension": ".py",
    "mimetype": "text/x-python",
    "name": "python",
    "npconvert_exporter": "python",
    "pygments_lexer": "ipython3",
    "version": 3,
    "kernelspec": {
      "name": "python37464bita07fc30724e44bf79f33747589a05ca4",
      "display_name": "Python 3.7.4 64-bit"
    },
    "colab": {
      "name": "BERT.ipynb",
      "provenance": [],
      "collapsed_sections": [],
      "machine_shape": "hm"
    },
    "accelerator": "GPU"
  },
  "cells": [
    {
      "cell_type": "code",
      "metadata": {
        "id": "7OgnAuJpjEPQ",
        "colab_type": "code",
        "colab": {}
      },
      "source": [
        "import pandas as pd\n",
        "import numpy as np\n",
        "import re\n",
        "import datetime\n",
        "import seaborn as sns\n",
        "import matplotlib.pyplot as plt\n",
        "from google.colab import drive"
      ],
      "execution_count": 24,
      "outputs": []
    },
    {
      "cell_type": "code",
      "metadata": {
        "id": "kua5IBPcjEPY",
        "colab_type": "code",
        "colab": {
          "base_uri": "https://localhost:8080/",
          "height": 34
        },
        "outputId": "0f1e23de-32ec-4814-9dc4-4384df58c3ff"
      },
      "source": [
        "drive.mount('/content/drive')\n",
        "DIR = \"drive/My Drive/Notebooks/Thesis/Readmissions/\""
      ],
      "execution_count": 25,
      "outputs": [
        {
          "output_type": "stream",
          "text": [
            "Drive already mounted at /content/drive; to attempt to forcibly remount, call drive.mount(\"/content/drive\", force_remount=True).\n"
          ],
          "name": "stdout"
        }
      ]
    },
    {
      "cell_type": "code",
      "metadata": {
        "id": "mUya8neejEPe",
        "colab_type": "code",
        "colab": {}
      },
      "source": [
        "adm_notes = pd.read_csv(DIR + \"readmission.csv\", low_memory=False)"
      ],
      "execution_count": 26,
      "outputs": []
    },
    {
      "cell_type": "code",
      "metadata": {
        "id": "qZyikejScRxy",
        "colab_type": "code",
        "colab": {
          "base_uri": "https://localhost:8080/",
          "height": 357
        },
        "outputId": "afedacc2-73ec-4226-f4e8-cfefb92647f9"
      },
      "source": [
        "!nvidia-smi"
      ],
      "execution_count": 27,
      "outputs": [
        {
          "output_type": "stream",
          "text": [
            "Mon Jun 29 12:32:57 2020       \n",
            "+-----------------------------------------------------------------------------+\n",
            "| NVIDIA-SMI 450.36.06    Driver Version: 418.67       CUDA Version: 10.1     |\n",
            "|-------------------------------+----------------------+----------------------+\n",
            "| GPU  Name        Persistence-M| Bus-Id        Disp.A | Volatile Uncorr. ECC |\n",
            "| Fan  Temp  Perf  Pwr:Usage/Cap|         Memory-Usage | GPU-Util  Compute M. |\n",
            "|                               |                      |               MIG M. |\n",
            "|===============================+======================+======================|\n",
            "|   0  Tesla P100-PCIE...  Off  | 00000000:00:04.0 Off |                    0 |\n",
            "| N/A   33C    P0    31W / 250W |  15363MiB / 16280MiB |      0%      Default |\n",
            "|                               |                      |                 ERR! |\n",
            "+-------------------------------+----------------------+----------------------+\n",
            "                                                                               \n",
            "+-----------------------------------------------------------------------------+\n",
            "| Processes:                                                                  |\n",
            "|  GPU   GI   CI        PID   Type   Process name                  GPU Memory |\n",
            "|        ID   ID                                                   Usage      |\n",
            "|=============================================================================|\n",
            "|  No running processes found                                                 |\n",
            "+-----------------------------------------------------------------------------+\n"
          ],
          "name": "stdout"
        }
      ]
    },
    {
      "cell_type": "markdown",
      "metadata": {
        "id": "wVGx2JTOjEPi",
        "colab_type": "text"
      },
      "source": [
        "# Natural Language"
      ]
    },
    {
      "cell_type": "code",
      "metadata": {
        "id": "-eSp2rKYjEPj",
        "colab_type": "code",
        "colab": {}
      },
      "source": [
        "import string\n",
        "import nltk\n",
        "from tqdm import tqdm\n",
        "from nltk import word_tokenize\n",
        "from nltk.stem.porter import PorterStemmer\n",
        "from nltk.corpus import stopwords"
      ],
      "execution_count": 28,
      "outputs": []
    },
    {
      "cell_type": "code",
      "metadata": {
        "id": "5rxvNB8QjEPo",
        "colab_type": "code",
        "colab": {}
      },
      "source": [
        "def clean_text(texts):\n",
        "    texts = texts.str.replace('\\n',' ')\n",
        "    texts = texts.str.replace('\\r',' ')\n",
        "\n",
        "    table = str.maketrans('', '', string.punctuation + '0123456789')\n",
        "    texts = [text.lower().translate(table) for text in texts]\n",
        "    \n",
        "    return texts"
      ],
      "execution_count": 29,
      "outputs": []
    },
    {
      "cell_type": "code",
      "metadata": {
        "id": "21E4eXpFjEPt",
        "colab_type": "code",
        "colab": {}
      },
      "source": [
        "adm_notes = adm_notes.dropna(subset=['TEXT'])\n",
        "\n",
        "adm_notes['TEXT'] = clean_text(adm_notes['TEXT'])"
      ],
      "execution_count": 30,
      "outputs": []
    },
    {
      "cell_type": "markdown",
      "metadata": {
        "id": "UCpZCmD0jEP-",
        "colab_type": "text"
      },
      "source": [
        "# Model\n",
        "## Words, Train and Test"
      ]
    },
    {
      "cell_type": "code",
      "metadata": {
        "id": "ehkOkbR-jEP_",
        "colab_type": "code",
        "colab": {}
      },
      "source": [
        "from sklearn.model_selection import train_test_split"
      ],
      "execution_count": 31,
      "outputs": []
    },
    {
      "cell_type": "markdown",
      "metadata": {
        "id": "EKUfyfFLjEQD",
        "colab_type": "text"
      },
      "source": [
        "Repartition data"
      ]
    },
    {
      "cell_type": "code",
      "metadata": {
        "id": "LGDUXsUcjEQE",
        "colab_type": "code",
        "colab": {}
      },
      "source": [
        "df_train, df_test = train_test_split(adm_notes, test_size=0.3)"
      ],
      "execution_count": 32,
      "outputs": []
    },
    {
      "cell_type": "markdown",
      "metadata": {
        "id": "ADSXuj_wjEQI",
        "colab_type": "text"
      },
      "source": [
        "Subsample non-readmitted patients to match size of readmitted ones"
      ]
    },
    {
      "cell_type": "code",
      "metadata": {
        "id": "90ZfPmgcjEQJ",
        "colab_type": "code",
        "colab": {}
      },
      "source": [
        "rows_pos = df_train['READM_WITHIN_30'] == 1\n",
        "df_train_pos = df_train.loc[rows_pos]\n",
        "df_train_neg = df_train.loc[~rows_pos]\n",
        "\n",
        "df_train = pd.concat([df_train_pos, df_train_neg.sample(n = len(df_train_pos))], axis = 0)\n",
        "df_train = df_train.sample(n = len(df_train)).reset_index(drop = True)"
      ],
      "execution_count": 33,
      "outputs": []
    },
    {
      "cell_type": "code",
      "metadata": {
        "id": "xKRSSvW6jEQN",
        "colab_type": "code",
        "colab": {}
      },
      "source": [
        "rows_pos = df_test['READM_WITHIN_30'] == 1\n",
        "df_test_pos = df_test.loc[rows_pos]\n",
        "df_test_neg = df_test.loc[~rows_pos]\n",
        "\n",
        "df_test = pd.concat([df_test_pos, df_test_neg.sample(n = len(df_test_pos))], axis = 0)\n",
        "df_test = df_test.sample(n = len(df_test)).reset_index(drop = True)"
      ],
      "execution_count": 34,
      "outputs": []
    },
    {
      "cell_type": "code",
      "metadata": {
        "id": "UT6P7kmvjEQR",
        "colab_type": "code",
        "colab": {}
      },
      "source": [
        "df_test, df_val = train_test_split(df_test, test_size=0.5)\n",
        "\n",
        "df_test = df_test.sample(n = len(df_test)).reset_index(drop = True)\n",
        "df_val = df_val.sample(n = len(df_val)).reset_index(drop = True)"
      ],
      "execution_count": 35,
      "outputs": []
    },
    {
      "cell_type": "markdown",
      "metadata": {
        "id": "kr1gCKmGjEQa",
        "colab_type": "text"
      },
      "source": [
        "# Recurrent Neural Network"
      ]
    },
    {
      "cell_type": "code",
      "metadata": {
        "id": "vG9QPCx5oqro",
        "colab_type": "code",
        "colab": {
          "base_uri": "https://localhost:8080/",
          "height": 340
        },
        "outputId": "fe7fb858-1f57-4fe8-b029-df2448c861d3"
      },
      "source": [
        "!pip install transformers"
      ],
      "execution_count": 36,
      "outputs": [
        {
          "output_type": "stream",
          "text": [
            "Requirement already satisfied: transformers in /usr/local/lib/python3.6/dist-packages (2.11.0)\n",
            "Requirement already satisfied: sacremoses in /usr/local/lib/python3.6/dist-packages (from transformers) (0.0.43)\n",
            "Requirement already satisfied: tqdm>=4.27 in /usr/local/lib/python3.6/dist-packages (from transformers) (4.41.1)\n",
            "Requirement already satisfied: tokenizers==0.7.0 in /usr/local/lib/python3.6/dist-packages (from transformers) (0.7.0)\n",
            "Requirement already satisfied: packaging in /usr/local/lib/python3.6/dist-packages (from transformers) (20.4)\n",
            "Requirement already satisfied: dataclasses; python_version < \"3.7\" in /usr/local/lib/python3.6/dist-packages (from transformers) (0.7)\n",
            "Requirement already satisfied: numpy in /usr/local/lib/python3.6/dist-packages (from transformers) (1.18.5)\n",
            "Requirement already satisfied: sentencepiece in /usr/local/lib/python3.6/dist-packages (from transformers) (0.1.91)\n",
            "Requirement already satisfied: filelock in /usr/local/lib/python3.6/dist-packages (from transformers) (3.0.12)\n",
            "Requirement already satisfied: regex!=2019.12.17 in /usr/local/lib/python3.6/dist-packages (from transformers) (2019.12.20)\n",
            "Requirement already satisfied: requests in /usr/local/lib/python3.6/dist-packages (from transformers) (2.23.0)\n",
            "Requirement already satisfied: joblib in /usr/local/lib/python3.6/dist-packages (from sacremoses->transformers) (0.15.1)\n",
            "Requirement already satisfied: click in /usr/local/lib/python3.6/dist-packages (from sacremoses->transformers) (7.1.2)\n",
            "Requirement already satisfied: six in /usr/local/lib/python3.6/dist-packages (from sacremoses->transformers) (1.12.0)\n",
            "Requirement already satisfied: pyparsing>=2.0.2 in /usr/local/lib/python3.6/dist-packages (from packaging->transformers) (2.4.7)\n",
            "Requirement already satisfied: idna<3,>=2.5 in /usr/local/lib/python3.6/dist-packages (from requests->transformers) (2.9)\n",
            "Requirement already satisfied: certifi>=2017.4.17 in /usr/local/lib/python3.6/dist-packages (from requests->transformers) (2020.6.20)\n",
            "Requirement already satisfied: chardet<4,>=3.0.2 in /usr/local/lib/python3.6/dist-packages (from requests->transformers) (3.0.4)\n",
            "Requirement already satisfied: urllib3!=1.25.0,!=1.25.1,<1.26,>=1.21.1 in /usr/local/lib/python3.6/dist-packages (from requests->transformers) (1.24.3)\n"
          ],
          "name": "stdout"
        }
      ]
    },
    {
      "cell_type": "code",
      "metadata": {
        "id": "qCin9gZFjEQb",
        "colab_type": "code",
        "colab": {}
      },
      "source": [
        "from keras.models import Sequential\n",
        "from keras.layers import LSTM, Dense, Dropout, Embedding\n",
        "from keras.optimizers import RMSprop\n",
        "from keras.utils import to_categorical\n",
        "from keras.callbacks import ModelCheckpoint\n",
        "from keras.preprocessing.text import Tokenizer\n",
        "from keras.preprocessing.sequence import pad_sequences\n",
        "\n",
        "import tensorflow as tf\n",
        "import tensorflow_hub as hub\n",
        "import tensorflow_hub as hub\n",
        "import tensorflow as tf\n",
        "from keras.models import Model\n",
        "from transformers import AutoTokenizer, AutoModel, AutoModelForSequenceClassification, glue_convert_examples_to_features\n",
        "from transformers import TFBertForSequenceClassification, BertTokenizer"
      ],
      "execution_count": 37,
      "outputs": []
    },
    {
      "cell_type": "code",
      "metadata": {
        "id": "QBlDGtFnoMME",
        "colab_type": "code",
        "colab": {}
      },
      "source": [
        "tokenizer = BertTokenizer.from_pretrained(\"bert-base-uncased\")\n",
        "model = TFBertForSequenceClassification.from_pretrained(\"bert-base-uncased\")"
      ],
      "execution_count": 38,
      "outputs": []
    },
    {
      "cell_type": "code",
      "metadata": {
        "id": "rDoKF-PvEwaW",
        "colab_type": "code",
        "colab": {
          "base_uri": "https://localhost:8080/",
          "height": 68
        },
        "outputId": "70240e6e-415b-412d-e72b-16dce2e8d151"
      },
      "source": [
        "pad_token=0\n",
        "pad_token_segment_id=0\n",
        "max_length=512\n",
        "\n",
        "def convert_to_input(texts):\n",
        "  input_ids, attention_masks, token_type_ids = [], [], []\n",
        "  \n",
        "  for text in tqdm(texts, position=0, leave=True):\n",
        "    inputs = tokenizer.encode_plus(text, add_special_tokens=True, max_length=max_length, return_token_type_ids=True)\n",
        "    \n",
        "    i, t = inputs[\"input_ids\"], inputs[\"token_type_ids\"]\n",
        "    m = [1] * len(i)\n",
        "\n",
        "    padding_length = max_length - len(i)\n",
        "\n",
        "    i = i + ([pad_token] * padding_length)\n",
        "    m = m + ([0] * padding_length)\n",
        "    t = t + ([pad_token_segment_id] * padding_length)\n",
        "    \n",
        "    input_ids.append(i)\n",
        "    attention_masks.append(m)\n",
        "    token_type_ids.append(t)\n",
        "  \n",
        "  return [np.asarray(input_ids), \n",
        "            np.asarray(attention_masks), \n",
        "            np.asarray(token_type_ids)]\n",
        "\n",
        "X_train_input = convert_to_input(df_train['TEXT'])\n",
        "X_test_input = convert_to_input(df_test['TEXT'])\n",
        "X_val_input = convert_to_input(df_val['TEXT'])"
      ],
      "execution_count": 39,
      "outputs": [
        {
          "output_type": "stream",
          "text": [
            "100%|██████████| 4394/4394 [02:58<00:00, 24.63it/s]\n",
            "100%|██████████| 845/845 [00:35<00:00, 23.87it/s]\n",
            "100%|██████████| 845/845 [00:33<00:00, 25.11it/s]\n"
          ],
          "name": "stderr"
        }
      ]
    },
    {
      "cell_type": "code",
      "metadata": {
        "id": "I9Lhu_6MECCf",
        "colab_type": "code",
        "colab": {}
      },
      "source": [
        "def to_features(input_ids,attention_masks,token_type_ids,y):\n",
        "  return {\"input_ids\": input_ids,\n",
        "          \"attention_mask\": attention_masks,\n",
        "          \"token_type_ids\": token_type_ids},y\n",
        "\n",
        "train_data = (X_train_input[0], X_train_input[1], X_train_input[2], df_train['READM_WITHIN_30'])\n",
        "test_data = (X_test_input[0], X_test_input[1], X_test_input[2], df_test['READM_WITHIN_30'])\n",
        "val_data = (X_val_input[0], X_val_input[1], X_val_input[2], df_val['READM_WITHIN_30'])\n",
        "\n",
        "train_ds = tf.data.Dataset.from_tensor_slices(train_data).map(to_features).shuffle(len(df_train['READM_WITHIN_30'])).batch(10)\n",
        "test_ds = tf.data.Dataset.from_tensor_slices(test_data).map(to_features).batch(10)\n",
        "val_ds = tf.data.Dataset.from_tensor_slices(val_data).map(to_features).batch(10)"
      ],
      "execution_count": 40,
      "outputs": []
    },
    {
      "cell_type": "code",
      "metadata": {
        "id": "B4k80289DUE2",
        "colab_type": "code",
        "colab": {
          "base_uri": "https://localhost:8080/",
          "height": 119
        },
        "outputId": "7c0ba8b2-0895-4f78-b95d-ec30029e52fa"
      },
      "source": [
        "optimizer = tf.keras.optimizers.Adam(learning_rate=3e-5)\n",
        "loss = tf.keras.losses.SparseCategoricalCrossentropy(from_logits=True)\n",
        "metric = tf.keras.metrics.SparseCategoricalAccuracy('accuracy')\n",
        "\n",
        "model.compile(optimizer=optimizer, loss=loss, metrics=[metric])\n",
        "\n",
        "history = model.fit(train_ds, epochs=3, validation_data=val_ds) "
      ],
      "execution_count": 41,
      "outputs": [
        {
          "output_type": "stream",
          "text": [
            "Epoch 1/3\n",
            "440/440 [==============================] - 330s 750ms/step - loss: 0.6957 - accuracy: 0.5059 - val_loss: 0.6915 - val_accuracy: 0.5041\n",
            "Epoch 2/3\n",
            "440/440 [==============================] - 327s 743ms/step - loss: 0.6949 - accuracy: 0.5068 - val_loss: 0.6881 - val_accuracy: 0.5633\n",
            "Epoch 3/3\n",
            "440/440 [==============================] - 327s 744ms/step - loss: 0.6824 - accuracy: 0.5671 - val_loss: 0.6780 - val_accuracy: 0.5964\n"
          ],
          "name": "stdout"
        }
      ]
    },
    {
      "cell_type": "code",
      "metadata": {
        "id": "8J-RtbGFAGCK",
        "colab_type": "code",
        "colab": {
          "base_uri": "https://localhost:8080/",
          "height": 204
        },
        "outputId": "87da7b94-a5b5-40f0-d2c4-f37cb85177ad"
      },
      "source": [
        "from sklearn.metrics import classification_report, roc_auc_score\n",
        "\n",
        "y_pred = model.predict(test_ds, verbose=1)\n",
        "y_pred_class = np.argmax(y_pred[0], axis=1)\n",
        "\n",
        "print(classification_report(df_test['READM_WITHIN_30'], y_pred_class, digits=3))\n",
        "print(roc_auc_score(df_test['READM_WITHIN_30'], y_pred_class))"
      ],
      "execution_count": 42,
      "outputs": [
        {
          "output_type": "stream",
          "text": [
            "85/85 [==============================] - 20s 232ms/step\n",
            "              precision    recall  f1-score   support\n",
            "\n",
            "           0      0.652     0.416     0.508       418\n",
            "           1      0.578     0.782     0.665       427\n",
            "\n",
            "    accuracy                          0.601       845\n",
            "   macro avg      0.615     0.599     0.586       845\n",
            "weighted avg      0.614     0.601     0.587       845\n",
            "\n",
            "0.5992346738679784\n"
          ],
          "name": "stdout"
        }
      ]
    },
    {
      "cell_type": "code",
      "metadata": {
        "id": "G4RHYaulJy2u",
        "colab_type": "code",
        "colab": {
          "base_uri": "https://localhost:8080/",
          "height": 292
        },
        "outputId": "306d480a-c6c0-4fc5-ddb9-049ae814f33f"
      },
      "source": [
        "sns.set('talk', 'whitegrid', 'dark', font_scale=0.7,\n",
        "        rc={\"lines.linewidth\": 1, 'grid.linestyle': '--'})\n",
        "\n",
        "fig, ax = plt.subplots(nrows=1, ncols=2, figsize=(9, 4))\n",
        "\n",
        "ax[0].plot(history.history['accuracy'])\n",
        "ax[0].plot(history.history['val_accuracy'])\n",
        "ax[0].set_title('Model accuracy')\n",
        "ax[0].set_ylabel('Accuracy')\n",
        "ax[0].set_xlabel('Epoch')\n",
        "ax[0].legend(['Train', 'Test'], loc='upper left')\n",
        "\n",
        "ax[1].plot(history.history['loss'])\n",
        "ax[1].plot(history.history['val_loss'])\n",
        "ax[1].set_title('Model loss')\n",
        "ax[1].set_ylabel('Loss')\n",
        "ax[1].set_xlabel('Epoch')\n",
        "ax[1].legend(['Train', 'Test'], loc='upper left')\n",
        "\n",
        "fig.tight_layout()\n",
        "plt.show()"
      ],
      "execution_count": 43,
      "outputs": [
        {
          "output_type": "display_data",
          "data": {
            "image/png": "[encoded data removed]",
            "text/plain": [
              "<Figure size 648x288 with 2 Axes>"
            ]
          },
          "metadata": {
            "tags": []
          }
        }
      ]
    },
    {
      "cell_type": "code",
      "metadata": {
        "id": "lKX_4ZEhrL3l",
        "colab_type": "code",
        "colab": {
          "base_uri": "https://localhost:8080/",
          "height": 255
        },
        "outputId": "9560e5a2-b959-484d-e59c-c05d48c17cdb"
      },
      "source": [
        "model.summary()"
      ],
      "execution_count": 44,
      "outputs": [
        {
          "output_type": "stream",
          "text": [
            "Model: \"tf_bert_for_sequence_classification_1\"\n",
            "_________________________________________________________________\n",
            "Layer (type)                 Output Shape              Param #   \n",
            "=================================================================\n",
            "bert (TFBertMainLayer)       multiple                  109482240 \n",
            "_________________________________________________________________\n",
            "dropout_75 (Dropout)         multiple                  0         \n",
            "_________________________________________________________________\n",
            "classifier (Dense)           multiple                  1538      \n",
            "=================================================================\n",
            "Total params: 109,483,778\n",
            "Trainable params: 109,483,778\n",
            "Non-trainable params: 0\n",
            "_________________________________________________________________\n"
          ],
          "name": "stdout"
        }
      ]
    },
    {
      "cell_type": "code",
      "metadata": {
        "id": "31U8x3rtFTbx",
        "colab_type": "code",
        "colab": {
          "base_uri": "https://localhost:8080/",
          "height": 77
        },
        "outputId": "4332d0b6-c307-42d4-b22b-acf41877f0d4"
      },
      "source": [
        "from keras.utils import plot_model\n",
        "plot_model(model)"
      ],
      "execution_count": 45,
      "outputs": [
        {
          "output_type": "execute_result",
          "data": {
            "image/png": "[encoded data removed]",
            "text/plain": [
              "<IPython.core.display.Image object>"
            ]
          },
          "metadata": {
            "tags": []
          },
          "execution_count": 45
        }
      ]
    },
    {
      "cell_type": "code",
      "metadata": {
        "id": "UV2SbXnN9kFH",
        "colab_type": "code",
        "colab": {}
      },
      "source": [
        ""
      ],
      "execution_count": 45,
      "outputs": []
    }
  ]
}