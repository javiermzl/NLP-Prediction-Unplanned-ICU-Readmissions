{
 "cells": [
  {
   "cell_type": "code",
   "execution_count": 1,
   "metadata": {},
   "outputs": [],
   "source": [
    "import pandas as pd\n",
    "import numpy as np\n",
    "import re\n",
    "import datetime\n",
    "import seaborn as sns\n",
    "import matplotlib.pyplot as plt"
   ]
  },
  {
   "cell_type": "code",
   "execution_count": 2,
   "metadata": {},
   "outputs": [],
   "source": [
    "DIR = \"D:/Workspace/MIMIC DATA/mimic-iii-clinical-database-1.4/\""
   ]
  },
  {
   "cell_type": "code",
   "execution_count": 3,
   "metadata": {},
   "outputs": [],
   "source": [
    "adm_notes = pd.read_csv(DIR + \"readmission.csv\", low_memory=False)"
   ]
  },
  {
   "cell_type": "markdown",
   "metadata": {},
   "source": [
    "# Natural Language"
   ]
  },
  {
   "cell_type": "code",
   "execution_count": 4,
   "metadata": {},
   "outputs": [],
   "source": [
    "import string\n",
    "import nltk\n",
    "from nltk import word_tokenize\n",
    "from nltk.stem.porter import PorterStemmer\n",
    "from nltk.corpus import stopwords"
   ]
  },
  {
   "cell_type": "code",
   "execution_count": 5,
   "metadata": {},
   "outputs": [],
   "source": [
    "def clean_text(texts):\n",
    "    texts = texts.fillna(' ')\n",
    "    texts = texts.str.replace('\\n',' ')\n",
    "    texts = texts.str.replace('\\r',' ')\n",
    "\n",
    "    table = str.maketrans('', '', string.punctuation + '0123456789')\n",
    "    texts = [text.lower().translate(table) for text in texts]\n",
    "\n",
    "    return texts"
   ]
  },
  {
   "cell_type": "code",
   "execution_count": 6,
   "metadata": {},
   "outputs": [],
   "source": [
    "adm_notes['TEXT'] = clean_text(adm_notes['TEXT'])"
   ]
  },
  {
   "cell_type": "code",
   "execution_count": 7,
   "metadata": {},
   "outputs": [],
   "source": [
    "stop_words = stopwords.words('english')\n",
    "stop_words = stop_words + ['patient', 'date', 'admission', 'discharge', 'lastname', 'firstname', 'sex']"
   ]
  },
  {
   "cell_type": "code",
   "execution_count": 8,
   "metadata": {},
   "outputs": [],
   "source": [
    "porter = PorterStemmer()"
   ]
  },
  {
   "cell_type": "code",
   "execution_count": 9,
   "metadata": {},
   "outputs": [],
   "source": [
    "def tokenize_stem(text):\n",
    "    words = word_tokenize(text)\n",
    "    words = [word for word in words if word not in stop_words]\n",
    "    words = [porter.stem(word) for word in words]\n",
    "    return words"
   ]
  },
  {
   "cell_type": "markdown",
   "metadata": {},
   "source": [
    "# Model\n",
    "## Words, Train and Test"
   ]
  },
  {
   "cell_type": "code",
   "execution_count": 10,
   "metadata": {},
   "outputs": [],
   "source": [
    "from sklearn import metrics\n",
    "from sklearn.feature_extraction.text import CountVectorizer\n",
    "from sklearn.linear_model import LogisticRegression, Ridge, Lasso, ElasticNet\n",
    "from sklearn.svm import SVC\n",
    "from sklearn.naive_bayes import MultinomialNB\n",
    "from sklearn.ensemble import RandomForestClassifier\n",
    "from sklearn.neural_network import MLPClassifier\n",
    "from sklearn.model_selection import GridSearchCV, train_test_split, cross_val_score, cross_validate\n",
    "from xgboost import XGBClassifier"
   ]
  },
  {
   "cell_type": "markdown",
   "metadata": {},
   "source": [
    "Repartition data"
   ]
  },
  {
   "cell_type": "code",
   "execution_count": 11,
   "metadata": {},
   "outputs": [],
   "source": [
    "df_train, df_test = train_test_split(adm_notes, test_size=0.3)"
   ]
  },
  {
   "cell_type": "markdown",
   "metadata": {},
   "source": [
    "Subsample non-readmitted patients to match size of readmitted ones"
   ]
  },
  {
   "cell_type": "code",
   "execution_count": 12,
   "metadata": {},
   "outputs": [],
   "source": [
    "rows_pos = df_train['READM_WITHIN_30'] == 1\n",
    "df_train_pos = df_train.loc[rows_pos]\n",
    "df_train_neg = df_train.loc[~rows_pos]\n",
    "\n",
    "df_train = pd.concat([df_train_pos, df_train_neg.sample(n = len(df_train_pos))], axis = 0)\n",
    "df_train = df_train.sample(n = len(df_train)).reset_index(drop = True)"
   ]
  },
  {
   "cell_type": "code",
   "execution_count": 13,
   "metadata": {},
   "outputs": [],
   "source": [
    "rows_pos = df_test['READM_WITHIN_30'] == 1\n",
    "df_test_pos = df_test.loc[rows_pos]\n",
    "df_test_neg = df_test.loc[~rows_pos]\n",
    "\n",
    "df_test = pd.concat([df_test_pos, df_test_neg.sample(n = len(df_test_pos))], axis = 0)\n",
    "df_test = df_test.sample(n = len(df_test)).reset_index(drop = True)"
   ]
  },
  {
   "cell_type": "code",
   "execution_count": 14,
   "metadata": {},
   "outputs": [],
   "source": [
    "df_test, df_valid = train_test_split(df_test, test_size=0.5)"
   ]
  },
  {
   "cell_type": "code",
   "execution_count": 15,
   "metadata": {},
   "outputs": [
    {
     "output_type": "stream",
     "name": "stdout",
     "text": "(4410, 10)\n(916, 10)\n(916, 10)\n"
    }
   ],
   "source": [
    "print(df_train.shape)\n",
    "print(df_test.shape)\n",
    "print(df_valid.shape)"
   ]
  },
  {
   "cell_type": "markdown",
   "metadata": {},
   "source": [
    "Sparse Matrix with word count"
   ]
  },
  {
   "cell_type": "code",
   "execution_count": 16,
   "metadata": {},
   "outputs": [],
   "source": [
    "vect = CountVectorizer(lowercase = True, max_features = 3000, tokenizer = tokenize_stem)\n",
    "vect.fit(df_train['TEXT'].values)\n",
    "\n",
    "X_train_tf = vect.transform(df_train['TEXT'].values)\n",
    "X_test_tf = vect.transform(df_test['TEXT'].values)\n",
    "X_valid_tf = vect.transform(df_valid['TEXT'].values)\n",
    "\n",
    "y_train = df_train['READM_WITHIN_30']\n",
    "y_test = df_test['READM_WITHIN_30']\n",
    "y_valid = df_valid['READM_WITHIN_30']"
   ]
  },
  {
   "cell_type": "markdown",
   "metadata": {},
   "source": [
    "## Support Vector Machine"
   ]
  },
  {
   "cell_type": "code",
   "execution_count": 17,
   "metadata": {},
   "outputs": [
    {
     "output_type": "execute_result",
     "data": {
      "text/plain": "GridSearchCV(cv=None, error_score=nan,\n             estimator=SVC(C=1.0, break_ties=False, cache_size=200,\n                           class_weight=None, coef0=0.0,\n                           decision_function_shape='ovr', degree=3,\n                           gamma='scale', kernel='rbf', max_iter=-1,\n                           probability=False, random_state=None, shrinking=True,\n                           tol=0.001, verbose=False),\n             iid='deprecated', n_jobs=None,\n             param_grid={'C': [0.1, 1, 2], 'kernel': ['linear', 'poly', 'rbf']},\n             pre_dispatch='2*n_jobs', refit=True, return_train_score=False,\n             scoring=None, verbose=0)"
     },
     "metadata": {},
     "execution_count": 17
    }
   ],
   "source": [
    "grid = {\n",
    "    'kernel': ['linear', 'poly', 'rbf'],\n",
    "    'C': [0.1, 1, 2]\n",
    "}\n",
    "\n",
    "model_svm = GridSearchCV(SVC(), param_grid=grid)\n",
    "model_svm.fit(X_test_tf, y_test)"
   ]
  },
  {
   "cell_type": "code",
   "execution_count": 18,
   "metadata": {},
   "outputs": [
    {
     "output_type": "execute_result",
     "data": {
      "text/plain": "{'C': 1, 'kernel': 'rbf'}"
     },
     "metadata": {},
     "execution_count": 18
    }
   ],
   "source": [
    "model_svm.best_params_"
   ]
  },
  {
   "cell_type": "code",
   "execution_count": 19,
   "metadata": {},
   "outputs": [],
   "source": [
    "model_svm = SVC(kernel='rbf', C=1).fit(X_train_tf, y_train)"
   ]
  },
  {
   "cell_type": "code",
   "execution_count": 20,
   "metadata": {},
   "outputs": [],
   "source": [
    "y_train_preds = model_svm.predict(X_train_tf)\n",
    "y_valid_preds = model_svm.predict(X_valid_tf)"
   ]
  },
  {
   "cell_type": "code",
   "execution_count": 21,
   "metadata": {},
   "outputs": [],
   "source": [
    "fpr, tpr, thresholds = metrics.roc_curve(y_train, y_train_preds)\n",
    "fprt, tprt, thresholds = metrics.roc_curve(y_valid, y_valid_preds)\n",
    "\n",
    "auc_train = metrics.auc(fpr, tpr)\n",
    "auc_test = metrics.auc(fprt, tprt)\n",
    "\n",
    "acc_train = metrics.accuracy_score(y_train, y_train_preds)\n",
    "acc_test = metrics.accuracy_score(y_valid, y_valid_preds)\n",
    "\n",
    "prec_train = metrics.precision_score(y_train, y_train_preds)\n",
    "prec_test = metrics.precision_score(y_valid, y_valid_preds)\n",
    "\n",
    "rec_train = metrics.recall_score(y_train, y_train_preds)\n",
    "rec_test = metrics.recall_score(y_valid, y_valid_preds)"
   ]
  },
  {
   "cell_type": "code",
   "execution_count": 22,
   "metadata": {},
   "outputs": [
    {
     "output_type": "stream",
     "name": "stdout",
     "text": "Set\t\t Train\t\t    Test\nAUC\t\t 0.7879818594104309 0.6264399603295698\nAccuracy\t 0.7879818594104309 0.6255458515283843\nPrecission\t 0.8535634743875279 0.6523929471032746\nRecall\t\t 0.6952380952380952 0.5581896551724138\n"
    }
   ],
   "source": [
    "print('Set\\t\\t', 'Train\\t\\t', '   Test')\n",
    "print('AUC\\t\\t', auc_train, auc_test)\n",
    "print('Accuracy\\t', acc_train, acc_test)\n",
    "print('Precission\\t', prec_train, prec_test)\n",
    "print('Recall\\t\\t', rec_train, rec_test)"
   ]
  },
  {
   "cell_type": "markdown",
   "metadata": {},
   "source": [
    "## Multi-layer Perceptron"
   ]
  },
  {
   "cell_type": "code",
   "execution_count": 23,
   "metadata": {},
   "outputs": [
    {
     "output_type": "execute_result",
     "data": {
      "text/plain": "GridSearchCV(cv=None, error_score=nan,\n             estimator=MLPClassifier(activation='relu', alpha=0.0001,\n                                     batch_size='auto', beta_1=0.9,\n                                     beta_2=0.999, early_stopping=False,\n                                     epsilon=1e-08, hidden_layer_sizes=(10, 2),\n                                     learning_rate='constant',\n                                     learning_rate_init=0.001, max_fun=15000,\n                                     max_iter=200, momentum=0.9,\n                                     n_iter_no_change=10,\n                                     nesterovs_momentum=True, power_t=0.5,\n                                     random_state=None, shuffle=True,\n                                     solver='adam', tol=0.0001,\n                                     validation_fraction=0.1, verbose=False,\n                                     warm_start=False),\n             iid='deprecated', n_jobs=None,\n             param_grid={'alpha': [0.1, 0.01, 0.001, 0.0001, 1e-05],\n                         'learning_rate_init': [0.01, 0.001, 0.0001],\n                         'solver': ['adam', 'sgd', 'lbfgs']},\n             pre_dispatch='2*n_jobs', refit=True, return_train_score=False,\n             scoring=None, verbose=0)"
     },
     "metadata": {},
     "execution_count": 23
    }
   ],
   "source": [
    "grid = {\n",
    "    'alpha': [1e-1, 1e-2, 1e-3, 1e-4, 1e-5],\n",
    "    'solver': ['adam', 'sgd', 'lbfgs'],\n",
    "    'learning_rate_init': [0.01,0.001,0.0001]\n",
    "}\n",
    "\n",
    "model_mlp = GridSearchCV(MLPClassifier(hidden_layer_sizes=(10, 2)), param_grid=grid)\n",
    "model_mlp.fit(X_test_tf, y_test)"
   ]
  },
  {
   "cell_type": "code",
   "execution_count": 24,
   "metadata": {},
   "outputs": [
    {
     "output_type": "execute_result",
     "data": {
      "text/plain": "{'alpha': 0.1, 'learning_rate_init': 0.001, 'solver': 'lbfgs'}"
     },
     "metadata": {},
     "execution_count": 24
    }
   ],
   "source": [
    "model_mlp.best_params_"
   ]
  },
  {
   "cell_type": "code",
   "execution_count": 25,
   "metadata": {},
   "outputs": [],
   "source": [
    "model_mlp = MLPClassifier(hidden_layer_sizes=(10,2), alpha=0.1, learning_rate_init=0.001, solver='lbfgs').fit(X_train_tf, y_train)"
   ]
  },
  {
   "cell_type": "code",
   "execution_count": 26,
   "metadata": {},
   "outputs": [],
   "source": [
    "y_train_preds = model_mlp.predict(X_train_tf)\n",
    "y_valid_preds = model_mlp.predict(X_valid_tf)"
   ]
  },
  {
   "cell_type": "code",
   "execution_count": 27,
   "metadata": {},
   "outputs": [],
   "source": [
    "fpr, tpr, thresholds = metrics.roc_curve(y_train, y_train_preds)\n",
    "fprt, tprt, thresholds = metrics.roc_curve(y_valid, y_valid_preds)\n",
    "\n",
    "auc_train = metrics.auc(fpr, tpr)\n",
    "auc_test = metrics.auc(fprt, tprt)\n",
    "\n",
    "acc_train = metrics.accuracy_score(y_train, y_train_preds)\n",
    "acc_test = metrics.accuracy_score(y_valid, y_valid_preds)\n",
    "\n",
    "prec_train = metrics.precision_score(y_train, y_train_preds)\n",
    "prec_test = metrics.precision_score(y_valid, y_valid_preds)\n",
    "\n",
    "rec_train = metrics.recall_score(y_train, y_train_preds)\n",
    "rec_test = metrics.recall_score(y_valid, y_valid_preds)"
   ]
  },
  {
   "cell_type": "code",
   "execution_count": 28,
   "metadata": {},
   "outputs": [
    {
     "output_type": "stream",
     "name": "stdout",
     "text": "Set\t\t Train\t\t    Test\nAUC\t\t 0.9607709750566893 0.5913850320415014\nAccuracy\t 0.9607709750566893 0.5906113537117904\nPrecission\t 1.0 0.6098765432098765\nRecall\t\t 0.9215419501133787 0.5323275862068966\n"
    }
   ],
   "source": [
    "print('Set\\t\\t', 'Train\\t\\t', '   Test')\n",
    "print('AUC\\t\\t', auc_train, auc_test)\n",
    "print('Accuracy\\t', acc_train, acc_test)\n",
    "print('Precission\\t', prec_train, prec_test)\n",
    "print('Recall\\t\\t', rec_train, rec_test)"
   ]
  },
  {
   "cell_type": "markdown",
   "metadata": {},
   "source": [
    "## Random Forest"
   ]
  },
  {
   "cell_type": "code",
   "execution_count": 29,
   "metadata": {},
   "outputs": [
    {
     "output_type": "execute_result",
     "data": {
      "text/plain": "GridSearchCV(cv=None, error_score=nan,\n             estimator=RandomForestClassifier(bootstrap=False, ccp_alpha=0.0,\n                                              class_weight=None,\n                                              criterion='gini', max_depth=None,\n                                              max_features='auto',\n                                              max_leaf_nodes=None,\n                                              max_samples=None,\n                                              min_impurity_decrease=0.0,\n                                              min_impurity_split=None,\n                                              min_samples_leaf=1,\n                                              min_samples_split=2,\n                                              min_weight_fraction_leaf=0.0,\n                                              n_estimators=100, n_jobs=None,\n                                              oob_score=False,\n                                              random_state=None, verbose=0,\n                                              warm_start=False),\n             iid='deprecated', n_jobs=None,\n             param_grid={'max_depth': [10, 20, 30, 40],\n                         'max_features': ['auto', 'sqrt'],\n                         'min_samples_leaf': [1, 2],\n                         'min_samples_split': [2, 5],\n                         'n_estimators': [100, 200, 300]},\n             pre_dispatch='2*n_jobs', refit=True, return_train_score=False,\n             scoring=None, verbose=0)"
     },
     "metadata": {},
     "execution_count": 29
    }
   ],
   "source": [
    "grid = {\n",
    "    'max_depth': [10, 20, 30, 40],\n",
    "    'max_features': ['auto', 'sqrt'],\n",
    "    'min_samples_leaf': [1, 2],\n",
    "    'min_samples_split': [2, 5],\n",
    "    'n_estimators': [100, 200, 300]\n",
    "}\n",
    "model_rf = GridSearchCV(RandomForestClassifier(bootstrap=False), param_grid=grid)\n",
    "model_rf.fit(X_test_tf, y_test)"
   ]
  },
  {
   "cell_type": "code",
   "execution_count": 30,
   "metadata": {},
   "outputs": [
    {
     "output_type": "execute_result",
     "data": {
      "text/plain": "{'max_depth': 10,\n 'max_features': 'auto',\n 'min_samples_leaf': 2,\n 'min_samples_split': 2,\n 'n_estimators': 100}"
     },
     "metadata": {},
     "execution_count": 30
    }
   ],
   "source": [
    "model_rf.best_params_"
   ]
  },
  {
   "cell_type": "code",
   "execution_count": 31,
   "metadata": {},
   "outputs": [],
   "source": [
    "model_rf = RandomForestClassifier(\n",
    "    bootstrap=False, max_depth=10, max_features='auto', min_samples_leaf=2, min_samples_split=2, n_estimators=100\n",
    ").fit(X_train_tf, y_train)"
   ]
  },
  {
   "cell_type": "code",
   "execution_count": 32,
   "metadata": {},
   "outputs": [],
   "source": [
    "y_train_preds = model_rf.predict(X_train_tf)\n",
    "y_valid_preds = model_rf.predict(X_valid_tf)"
   ]
  },
  {
   "cell_type": "code",
   "execution_count": 33,
   "metadata": {},
   "outputs": [],
   "source": [
    "fpr, tpr, thresholds = metrics.roc_curve(y_train, y_train_preds)\n",
    "fprt, tprt, thresholds = metrics.roc_curve(y_valid, y_valid_preds)\n",
    "\n",
    "auc_train = metrics.auc(fpr, tpr)\n",
    "auc_test = metrics.auc(fprt, tprt)\n",
    "\n",
    "acc_train = metrics.accuracy_score(y_train, y_train_preds)\n",
    "acc_test = metrics.accuracy_score(y_valid, y_valid_preds)\n",
    "\n",
    "prec_train = metrics.precision_score(y_train, y_train_preds)\n",
    "prec_test = metrics.precision_score(y_valid, y_valid_preds)\n",
    "\n",
    "rec_train = metrics.recall_score(y_train, y_train_preds)\n",
    "rec_test = metrics.recall_score(y_valid, y_valid_preds)"
   ]
  },
  {
   "cell_type": "code",
   "execution_count": 34,
   "metadata": {},
   "outputs": [
    {
     "output_type": "stream",
     "name": "stdout",
     "text": "Set\t\t Train\t\t    Test\nAUC\t\t 0.8827664399092969 0.6196025328043943\nAccuracy\t 0.882766439909297 0.618995633187773\nPrecission\t 0.9884259259259259 0.6378896882494005\nRecall\t\t 0.7746031746031746 0.5732758620689655\n"
    }
   ],
   "source": [
    "print('Set\\t\\t', 'Train\\t\\t', '   Test')\n",
    "print('AUC\\t\\t', auc_train, auc_test)\n",
    "print('Accuracy\\t', acc_train, acc_test)\n",
    "print('Precission\\t', prec_train, prec_test)\n",
    "print('Recall\\t\\t', rec_train, rec_test)"
   ]
  },
  {
   "cell_type": "markdown",
   "metadata": {},
   "source": [
    "## Naive Bayes"
   ]
  },
  {
   "cell_type": "code",
   "execution_count": 35,
   "metadata": {},
   "outputs": [
    {
     "output_type": "execute_result",
     "data": {
      "text/plain": "GridSearchCV(cv=None, error_score=nan,\n             estimator=MultinomialNB(alpha=1.0, class_prior=None,\n                                     fit_prior=True),\n             iid='deprecated', n_jobs=None,\n             param_grid={'alpha': [10, 1, 0, 0.1, 0.01, 0.001]},\n             pre_dispatch='2*n_jobs', refit=True, return_train_score=False,\n             scoring=None, verbose=0)"
     },
     "metadata": {},
     "execution_count": 35
    }
   ],
   "source": [
    "grid = {'alpha': [10, 1, 0, 0.1, 0.01, 0.001]}\n",
    "\n",
    "model_nb = GridSearchCV(MultinomialNB(), param_grid=grid)\n",
    "model_nb.fit(X_test_tf, y_test)"
   ]
  },
  {
   "cell_type": "code",
   "execution_count": 36,
   "metadata": {},
   "outputs": [
    {
     "output_type": "execute_result",
     "data": {
      "text/plain": "{'alpha': 1}"
     },
     "metadata": {},
     "execution_count": 36
    }
   ],
   "source": [
    "model_nb.best_params_"
   ]
  },
  {
   "cell_type": "code",
   "execution_count": 37,
   "metadata": {},
   "outputs": [],
   "source": [
    "model_nb = MultinomialNB(alpha=1).fit(X_train_tf, y_train)"
   ]
  },
  {
   "cell_type": "code",
   "execution_count": 38,
   "metadata": {},
   "outputs": [],
   "source": [
    "y_train_preds = model_nb.predict(X_train_tf)\n",
    "y_valid_preds = model_nb.predict(X_valid_tf)"
   ]
  },
  {
   "cell_type": "code",
   "execution_count": 39,
   "metadata": {},
   "outputs": [],
   "source": [
    "fpr, tpr, thresholds = metrics.roc_curve(y_train, y_train_preds)\n",
    "fprt, tprt, thresholds = metrics.roc_curve(y_valid, y_valid_preds)\n",
    "\n",
    "auc_train = metrics.auc(fpr, tpr)\n",
    "auc_test = metrics.auc(fprt, tprt)\n",
    "\n",
    "acc_train = metrics.accuracy_score(y_train, y_train_preds)\n",
    "acc_test = metrics.accuracy_score(y_valid, y_valid_preds)\n",
    "\n",
    "prec_train = metrics.precision_score(y_train, y_train_preds)\n",
    "prec_test = metrics.precision_score(y_valid, y_valid_preds)\n",
    "\n",
    "rec_train = metrics.recall_score(y_train, y_train_preds)\n",
    "rec_test = metrics.recall_score(y_valid, y_valid_preds)"
   ]
  },
  {
   "cell_type": "code",
   "execution_count": 40,
   "metadata": {},
   "outputs": [
    {
     "output_type": "stream",
     "name": "stdout",
     "text": "Set\t\t Train\t\t    Test\nAUC\t\t 0.6410430839002267 0.6230641592920354\nAccuracy\t 0.6410430839002268 0.6222707423580786\nPrecission\t 0.6613070539419087 0.6460396039603961\nRecall\t\t 0.5782312925170068 0.5625\n"
    }
   ],
   "source": [
    "print('Set\\t\\t', 'Train\\t\\t', '   Test')\n",
    "print('AUC\\t\\t', auc_train, auc_test)\n",
    "print('Accuracy\\t', acc_train, acc_test)\n",
    "print('Precission\\t', prec_train, prec_test)\n",
    "print('Recall\\t\\t', rec_train, rec_test)"
   ]
  },
  {
   "cell_type": "markdown",
   "metadata": {},
   "source": [
    "There is no improvement when using the whole Dataset with ComplementNB, same scores on test"
   ]
  },
  {
   "cell_type": "markdown",
   "metadata": {},
   "source": [
    "## XGBoost"
   ]
  },
  {
   "cell_type": "code",
   "execution_count": 41,
   "metadata": {},
   "outputs": [
    {
     "output_type": "execute_result",
     "data": {
      "text/plain": "GridSearchCV(cv=None, error_score=nan,\n             estimator=XGBClassifier(base_score=None, booster=None,\n                                     colsample_bylevel=None,\n                                     colsample_bynode=None,\n                                     colsample_bytree=None, gamma=None,\n                                     gpu_id=None, importance_type='gain',\n                                     interaction_constraints=None,\n                                     learning_rate=None, max_delta_step=None,\n                                     max_depth=None, min_child_weight=None,\n                                     missing=nan, monotone_constraints=None,\n                                     n_es...\n                                     random_state=None, reg_alpha=None,\n                                     reg_lambda=None, scale_pos_weight=None,\n                                     subsample=None, tree_method=None,\n                                     validate_parameters=False,\n                                     verbosity=None),\n             iid='deprecated', n_jobs=None,\n             param_grid={'eta': [0.1, 0.01, 0.001], 'gamma': [0.5, 1, 1.5],\n                         'max_depth': [3, 5], 'min_child_weight': [1, 5]},\n             pre_dispatch='2*n_jobs', refit=True, return_train_score=False,\n             scoring=None, verbose=0)"
     },
     "metadata": {},
     "execution_count": 41
    }
   ],
   "source": [
    "grid = {\n",
    "    'min_child_weight': [1, 5],\n",
    "    'gamma': [0.5, 1, 1.5],\n",
    "    'max_depth': [3, 5],\n",
    "    'eta': [0.1,0.01,0.001]\n",
    "}\n",
    "\n",
    "model_xgb = GridSearchCV(XGBClassifier(), param_grid=grid)\n",
    "model_xgb.fit(X_test_tf, y_test)"
   ]
  },
  {
   "cell_type": "code",
   "execution_count": 42,
   "metadata": {},
   "outputs": [
    {
     "output_type": "execute_result",
     "data": {
      "text/plain": "{'eta': 0.01, 'gamma': 0.5, 'max_depth': 3, 'min_child_weight': 1}"
     },
     "metadata": {},
     "execution_count": 42
    }
   ],
   "source": [
    "model_xgb.best_params_"
   ]
  },
  {
   "cell_type": "code",
   "execution_count": 43,
   "metadata": {},
   "outputs": [],
   "source": [
    "model_xgb = XGBClassifier(\n",
    "    min_child_weight=1, gamma=0.5, max_depth=3, eta=0.01\n",
    ").fit(X_train_tf, y_train)"
   ]
  },
  {
   "cell_type": "code",
   "execution_count": 44,
   "metadata": {},
   "outputs": [],
   "source": [
    "y_train_preds = model_xgb.predict(X_train_tf)\n",
    "y_valid_preds = model_xgb.predict(X_valid_tf)"
   ]
  },
  {
   "cell_type": "code",
   "execution_count": 45,
   "metadata": {},
   "outputs": [],
   "source": [
    "fpr, tpr, thresholds = metrics.roc_curve(y_train, y_train_preds)\n",
    "fprt, tprt, thresholds = metrics.roc_curve(y_valid, y_valid_preds)\n",
    "\n",
    "auc_train = metrics.auc(fpr, tpr)\n",
    "auc_test = metrics.auc(fprt, tprt)\n",
    "\n",
    "acc_train = metrics.accuracy_score(y_train, y_train_preds)\n",
    "acc_test = metrics.accuracy_score(y_valid, y_valid_preds)\n",
    "\n",
    "prec_train = metrics.precision_score(y_train, y_train_preds)\n",
    "prec_test = metrics.precision_score(y_valid, y_valid_preds)\n",
    "\n",
    "rec_train = metrics.recall_score(y_train, y_train_preds)\n",
    "rec_test = metrics.recall_score(y_valid, y_valid_preds)"
   ]
  },
  {
   "cell_type": "code",
   "execution_count": 46,
   "metadata": {},
   "outputs": [
    {
     "output_type": "stream",
     "name": "stdout",
     "text": "Set\t\t Train\t\t    Test\nAUC\t\t 0.661904761904762 0.609990082392432\nAccuracy\t 0.6619047619047619 0.6091703056768559\nPrecission\t 0.683641975308642 0.6318407960199005\nRecall\t\t 0.6027210884353742 0.5474137931034483\n"
    }
   ],
   "source": [
    "print('Set\\t\\t', 'Train\\t\\t', '   Test')\n",
    "print('AUC\\t\\t', auc_train, auc_test)\n",
    "print('Accuracy\\t', acc_train, acc_test)\n",
    "print('Precission\\t', prec_train, prec_test)\n",
    "print('Recall\\t\\t', rec_train, rec_test)"
   ]
  }
 ],
 "metadata": {
  "language_info": {
   "name": "python",
   "codemirror_mode": {
    "name": "ipython",
    "version": 3
   },
   "version": "3.7.4-final"
  },
  "orig_nbformat": 2,
  "file_extension": ".py",
  "mimetype": "text/x-python",
  "name": "python",
  "npconvert_exporter": "python",
  "pygments_lexer": "ipython3",
  "version": 3,
  "kernelspec": {
   "name": "python37464bita07fc30724e44bf79f33747589a05ca4",
   "display_name": "Python 3.7.4 64-bit"
  }
 },
 "nbformat": 4,
 "nbformat_minor": 2
}