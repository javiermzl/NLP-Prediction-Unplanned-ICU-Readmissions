{
 "cells": [
  {
   "cell_type": "code",
   "execution_count": 1,
   "metadata": {},
   "outputs": [],
   "source": [
    "import pandas as pd\n",
    "import numpy as np\n",
    "import re\n",
    "import datetime\n",
    "import seaborn as sns\n",
    "import matplotlib.pyplot as plt"
   ]
  },
  {
   "cell_type": "code",
   "execution_count": 2,
   "metadata": {},
   "outputs": [],
   "source": [
    "DIR = \"D:/Workspace/MIMIC DATA/mimic-iii-clinical-database-1.4/\""
   ]
  },
  {
   "cell_type": "code",
   "execution_count": 3,
   "metadata": {},
   "outputs": [],
   "source": [
    "adm_notes = pd.read_csv(DIR + \"readmission.csv\", low_memory=False)"
   ]
  },
  {
   "cell_type": "markdown",
   "metadata": {},
   "source": [
    "# Natural Language"
   ]
  },
  {
   "cell_type": "code",
   "execution_count": 4,
   "metadata": {},
   "outputs": [],
   "source": [
    "import string\n",
    "import nltk\n",
    "from nltk import word_tokenize\n",
    "from nltk.stem.porter import PorterStemmer\n",
    "from nltk.corpus import stopwords"
   ]
  },
  {
   "cell_type": "code",
   "execution_count": 5,
   "metadata": {},
   "outputs": [],
   "source": [
    "def clean_text(texts):\n",
    "    texts = texts.fillna(' ')\n",
    "    texts = texts.str.replace('\\n',' ')\n",
    "    texts = texts.str.replace('\\r',' ')\n",
    "\n",
    "    table = str.maketrans('', '', string.punctuation + '0123456789')\n",
    "    texts = [text.lower().translate(table) for text in texts]\n",
    "\n",
    "    return texts"
   ]
  },
  {
   "cell_type": "code",
   "execution_count": 6,
   "metadata": {},
   "outputs": [],
   "source": [
    "adm_notes['TEXT'] = clean_text(adm_notes['TEXT'])"
   ]
  },
  {
   "cell_type": "code",
   "execution_count": 7,
   "metadata": {},
   "outputs": [],
   "source": [
    "stop_words = stopwords.words('english')\n",
    "stop_words = stop_words + ['patient', 'date', 'admission', 'discharge', 'lastname', 'firstname', 'sex']"
   ]
  },
  {
   "cell_type": "code",
   "execution_count": 8,
   "metadata": {},
   "outputs": [],
   "source": [
    "porter = PorterStemmer()"
   ]
  },
  {
   "cell_type": "code",
   "execution_count": 9,
   "metadata": {},
   "outputs": [],
   "source": [
    "def tokenize_stem(text):\n",
    "    words = word_tokenize(text)\n",
    "    words = [word for word in words if word not in stop_words]\n",
    "    words = [porter.stem(word) for word in words]\n",
    "    return words"
   ]
  },
  {
   "cell_type": "markdown",
   "metadata": {},
   "source": [
    "# Model\n",
    "## Words, Train and Test"
   ]
  },
  {
   "cell_type": "code",
   "execution_count": 10,
   "metadata": {},
   "outputs": [],
   "source": [
    "from sklearn import metrics\n",
    "from sklearn.feature_extraction.text import CountVectorizer\n",
    "from sklearn.linear_model import LogisticRegression, Ridge, Lasso, ElasticNet\n",
    "from sklearn.svm import SVC\n",
    "from sklearn.naive_bayes import MultinomialNB\n",
    "from sklearn.ensemble import RandomForestClassifier\n",
    "from sklearn.neural_network import MLPClassifier\n",
    "from sklearn.model_selection import GridSearchCV, train_test_split, cross_val_score, cross_validate\n",
    "from xgboost import XGBClassifier"
   ]
  },
  {
   "cell_type": "markdown",
   "metadata": {},
   "source": [
    "Repartition data"
   ]
  },
  {
   "cell_type": "code",
   "execution_count": 11,
   "metadata": {},
   "outputs": [],
   "source": [
    "df_train, df_test = train_test_split(adm_notes, test_size=0.2)"
   ]
  },
  {
   "cell_type": "markdown",
   "metadata": {},
   "source": [
    "Subsample non-readmitted patients to match size of readmitted ones"
   ]
  },
  {
   "cell_type": "code",
   "execution_count": 12,
   "metadata": {},
   "outputs": [],
   "source": [
    "rows_pos = df_train['READM_WITHIN_30'] == 1\n",
    "df_train_pos = df_train.loc[rows_pos]\n",
    "df_train_neg = df_train.loc[~rows_pos]\n",
    "\n",
    "df_train = pd.concat([df_train_pos, df_train_neg.sample(n = len(df_train_pos))], axis = 0)\n",
    "df_train = df_train.sample(n = len(df_train)).reset_index(drop = True)"
   ]
  },
  {
   "cell_type": "code",
   "execution_count": 13,
   "metadata": {},
   "outputs": [],
   "source": [
    "rows_pos = df_test['READM_WITHIN_30'] == 1\n",
    "df_test_pos = df_test.loc[rows_pos]\n",
    "df_test_neg = df_test.loc[~rows_pos]\n",
    "\n",
    "df_test = pd.concat([df_test_pos, df_test_neg.sample(n = len(df_test_pos))], axis = 0)\n",
    "df_test = df_test.sample(n = len(df_test)).reset_index(drop = True)"
   ]
  },
  {
   "cell_type": "code",
   "execution_count": 14,
   "metadata": {},
   "outputs": [
    {
     "output_type": "stream",
     "name": "stdout",
     "text": "(5072, 10)\n(1170, 10)\n"
    }
   ],
   "source": [
    "print(df_train.shape)\n",
    "print(df_test.shape)"
   ]
  },
  {
   "cell_type": "markdown",
   "metadata": {},
   "source": [
    "Sparse Matrix with word count"
   ]
  },
  {
   "cell_type": "code",
   "execution_count": 15,
   "metadata": {},
   "outputs": [],
   "source": [
    "vect = CountVectorizer(lowercase = True, max_features = 3000, tokenizer = tokenize_stem)\n",
    "vect.fit(df_train['TEXT'].values)\n",
    "\n",
    "X_train_tf = vect.transform(df_train['TEXT'].values)\n",
    "X_test_tf = vect.transform(df_test['TEXT'].values)\n",
    "\n",
    "y_train = df_train['READM_WITHIN_30']\n",
    "y_test = df_test['READM_WITHIN_30']"
   ]
  },
  {
   "cell_type": "code",
   "execution_count": 16,
   "metadata": {},
   "outputs": [],
   "source": [
    "metrics = ['roc_auc', 'accuracy', 'precision', 'recall']"
   ]
  },
  {
   "cell_type": "markdown",
   "metadata": {},
   "source": [
    "## Support Vector Machine"
   ]
  },
  {
   "cell_type": "code",
   "execution_count": 17,
   "metadata": {},
   "outputs": [
    {
     "output_type": "execute_result",
     "data": {
      "text/plain": "GridSearchCV(cv=None, error_score=nan,\n             estimator=SVC(C=1.0, break_ties=False, cache_size=200,\n                           class_weight=None, coef0=0.0,\n                           decision_function_shape='ovr', degree=3,\n                           gamma='scale', kernel='rbf', max_iter=-1,\n                           probability=False, random_state=None, shrinking=True,\n                           tol=0.001, verbose=False),\n             iid='deprecated', n_jobs=None,\n             param_grid={'C': array([1.e-03, 1.e-02, 1.e-01, 1.e+00, 1.e+01, 1.e+02, 1.e+03]),\n                         'gamma': array([1.e-03, 1.e-02, 1.e-01, 1.e+00, 1.e+01, 1.e+02, 1.e+03]),\n                         'kernel': ['linear', 'poly', 'rbf']},\n             pre_dispatch='2*n_jobs', refit=True, return_train_score=False,\n             scoring=None, verbose=0)"
     },
     "metadata": {},
     "execution_count": 17
    }
   ],
   "source": [
    "grid = {\n",
    "    'kernel': ['linear', 'poly', 'rbf'],\n",
    "    #'C': np.logspace(-3, 3, 7),\n",
    "    'gamma': np.logspace(-3, 3, 7)\n",
    "}\n",
    "\n",
    "model_svm = GridSearchCV(SVC(), param_grid=grid)\n",
    "model_svm.fit(X_test_tf, y_test)"
   ]
  },
  {
   "cell_type": "code",
   "execution_count": 18,
   "metadata": {},
   "outputs": [
    {
     "output_type": "execute_result",
     "data": {
      "text/plain": "{'C': 1.0, 'gamma': 0.001, 'kernel': 'rbf'}"
     },
     "metadata": {},
     "execution_count": 18
    }
   ],
   "source": [
    "model_svm.best_params_"
   ]
  },
  {
   "cell_type": "code",
   "execution_count": 28,
   "metadata": {},
   "outputs": [],
   "source": [
    "model_svm = SVC(C=0.3, gamma=0.001, kernel='rbf')\n",
    "scores_svm = cross_validate(model_svm, X_train_tf, y_train, cv=5, scoring=metrics, return_train_score=True)"
   ]
  },
  {
   "cell_type": "code",
   "execution_count": 29,
   "metadata": {},
   "outputs": [
    {
     "output_type": "stream",
     "name": "stdout",
     "text": "Set\t\t Train\t\t \t Sd Train\nAUC\t\t 0.8145104008788049 \t 0.004275818494146444\nAccuracy\t 0.6781350963166208 \t 0.004081143515638702\nPrecission\t 0.6542063669206837 \t 0.004340858030969219\nRecall\t\t 0.6542063669206837 \t 0.004340858030969219\n"
    }
   ],
   "source": [
    "print('Set\\t\\t', 'Train\\t\\t', '\\t Sd Train')\n",
    "print('AUC\\t\\t', np.mean(scores_svm['train_roc_auc']), '\\t', np.std(scores_svm['train_roc_auc']))\n",
    "print('Accuracy\\t', np.mean(scores_svm['train_accuracy']), '\\t', np.std(scores_svm['train_accuracy']))\n",
    "print('Precission\\t', np.mean(scores_svm['train_precision']), '\\t', np.std(scores_svm['train_precision']))\n",
    "print('Recall\\t\\t', np.mean(scores_svm['train_precision']), '\\t', np.std(scores_svm['train_precision']))"
   ]
  },
  {
   "cell_type": "code",
   "execution_count": 30,
   "metadata": {},
   "outputs": [
    {
     "output_type": "stream",
     "name": "stdout",
     "text": "Set\t\t Test\t\t \t Sd Test\nAUC\t\t 0.6469943328308707 \t 0.018284489757006056\nAccuracy\t 0.6013480242127457 \t 0.01931114633112478\nPrecission\t 0.5851073291679674 \t 0.015726014728589543\nRecall\t\t 0.6959837860504123 \t 0.023928659714693476\n"
    }
   ],
   "source": [
    "print('Set\\t\\t', 'Test\\t\\t', '\\t Sd Test')\n",
    "print('AUC\\t\\t', np.mean(scores_svm['test_roc_auc']), '\\t', np.std(scores_svm['test_roc_auc']))\n",
    "print('Accuracy\\t', np.mean(scores_svm['test_accuracy']), '\\t', np.std(scores_svm['test_accuracy']))\n",
    "print('Precission\\t', np.mean(scores_svm['test_precision']), '\\t', np.std(scores_svm['test_precision']))\n",
    "print('Recall\\t\\t', np.mean(scores_svm['test_recall']), '\\t', np.std(scores_svm['test_recall']))"
   ]
  },
  {
   "cell_type": "markdown",
   "metadata": {},
   "source": [
    "## Multi-layer Perceptron"
   ]
  },
  {
   "cell_type": "code",
   "execution_count": 25,
   "metadata": {},
   "outputs": [
    {
     "output_type": "execute_result",
     "data": {
      "text/plain": "GridSearchCV(cv=None, error_score=nan,\n             estimator=MLPClassifier(activation='relu', alpha=0.0001,\n                                     batch_size='auto', beta_1=0.9,\n                                     beta_2=0.999, early_stopping=False,\n                                     epsilon=1e-08, hidden_layer_sizes=(10, 2),\n                                     learning_rate='constant',\n                                     learning_rate_init=0.001, max_fun=15000,\n                                     max_iter=200, momentum=0.9,\n                                     n_iter_no_change=10,\n                                     nesterovs_momentum=True, power_t=0.5,\n                                     random_state=None, shuffle=True,\n                                     solver='adam', tol=0.0001,\n                                     validation_fraction=0.1, verbose=False,\n                                     warm_start=False),\n             iid='deprecated', n_jobs=None,\n             param_grid={'alpha': [20, 10, 1, 0.1, 0.01, 0.001, 0.0001],\n                         'learning_rate_init': [0.1, 0.01, 0.001, 0.0001,\n                                                1e-05],\n                         'solver': ['adam', 'sgd', 'lbfgs']},\n             pre_dispatch='2*n_jobs', refit=True, return_train_score=False,\n             scoring=None, verbose=0)"
     },
     "metadata": {},
     "execution_count": 25
    }
   ],
   "source": [
    "grid = {\n",
    "    'alpha': [20, 10, 1, 1e-1, 1e-2, 1e-3, 1e-4],\n",
    "    'solver': ['adam', 'sgd', 'lbfgs'],\n",
    "    'learning_rate_init': [0.1, 0.01, 0.001, 0.0001, 0.00001]\n",
    "}\n",
    "\n",
    "model_mlp = GridSearchCV(MLPClassifier(hidden_layer_sizes=(10, 2)), param_grid=grid)\n",
    "model_mlp.fit(X_test_tf, y_test)"
   ]
  },
  {
   "cell_type": "code",
   "execution_count": 26,
   "metadata": {},
   "outputs": [
    {
     "output_type": "execute_result",
     "data": {
      "text/plain": "{'alpha': 20, 'learning_rate_init': 0.001, 'solver': 'sgd'}"
     },
     "metadata": {},
     "execution_count": 26
    }
   ],
   "source": [
    "model_mlp.best_params_"
   ]
  },
  {
   "cell_type": "code",
   "execution_count": 27,
   "metadata": {},
   "outputs": [],
   "source": [
    "model_mlp = MLPClassifier(\n",
    "    hidden_layer_sizes=(10,2), alpha=20, learning_rate_init=0.001, solver='sgd', early_stopping=True\n",
    ")\n",
    "scores_mlp = cross_validate(model_mlp, X_train_tf, y_train, cv=5, scoring=metrics, return_train_score=True)"
   ]
  },
  {
   "cell_type": "code",
   "execution_count": 28,
   "metadata": {},
   "outputs": [
    {
     "output_type": "stream",
     "name": "stdout",
     "text": "Set\t\t Train\t\t \t Sd Train\nAUC\t\t 0.7061227538338111 \t 0.10796223620358308\nAccuracy\t 0.6532350540471243 \t 0.07987986195692212\nPrecission\t 0.6630475489130941 \t 0.08513710024380562\nRecall\t\t 0.6630475489130941 \t 0.08513710024380562\n"
    }
   ],
   "source": [
    "print('Set\\t\\t', 'Train\\t\\t', '\\t Sd Train')\n",
    "print('AUC\\t\\t', np.mean(scores_mlp['train_roc_auc']), '\\t', np.std(scores_mlp['train_roc_auc']))\n",
    "print('Accuracy\\t', np.mean(scores_mlp['train_accuracy']), '\\t', np.std(scores_mlp['train_accuracy']))\n",
    "print('Precission\\t', np.mean(scores_mlp['train_precision']), '\\t', np.std(scores_mlp['train_precision']))\n",
    "print('Recall\\t\\t', np.mean(scores_mlp['train_precision']), '\\t', np.std(scores_mlp['train_precision']))"
   ]
  },
  {
   "cell_type": "code",
   "execution_count": 29,
   "metadata": {},
   "outputs": [
    {
     "output_type": "stream",
     "name": "stdout",
     "text": "Set\t\t Test\t\t \t Sd Test\nAUC\t\t 0.6477122002083795 \t 0.07011412374768287\nAccuracy\t 0.6057009049184596 \t 0.05255762733636115\nPrecission\t 0.6139944104278925 \t 0.059283591625727626\nRecall\t\t 0.6800513196480938 \t 0.16582012574228114\n"
    }
   ],
   "source": [
    "print('Set\\t\\t', 'Test\\t\\t', '\\t Sd Test')\n",
    "print('AUC\\t\\t', np.mean(scores_mlp['test_roc_auc']), '\\t', np.std(scores_mlp['test_roc_auc']))\n",
    "print('Accuracy\\t', np.mean(scores_mlp['test_accuracy']), '\\t', np.std(scores_mlp['test_accuracy']))\n",
    "print('Precission\\t', np.mean(scores_mlp['test_precision']), '\\t', np.std(scores_mlp['test_precision']))\n",
    "print('Recall\\t\\t', np.mean(scores_mlp['test_recall']), '\\t', np.std(scores_mlp['test_recall']))"
   ]
  },
  {
   "cell_type": "code",
   "execution_count": null,
   "metadata": {},
   "outputs": [],
   "source": []
  }
 ],
 "metadata": {
  "language_info": {
   "name": "python",
   "codemirror_mode": {
    "name": "ipython",
    "version": 3
   },
   "version": "3.7.4-final"
  },
  "orig_nbformat": 2,
  "file_extension": ".py",
  "mimetype": "text/x-python",
  "name": "python",
  "npconvert_exporter": "python",
  "pygments_lexer": "ipython3",
  "version": 3,
  "kernelspec": {
   "name": "python37464bita07fc30724e44bf79f33747589a05ca4",
   "display_name": "Python 3.7.4 64-bit"
  }
 },
 "nbformat": 4,
 "nbformat_minor": 2
}