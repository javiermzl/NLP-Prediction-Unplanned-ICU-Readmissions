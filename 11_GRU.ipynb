{
  "nbformat": 4,
  "nbformat_minor": 0,
  "metadata": {
    "language_info": {
      "name": "python",
      "codemirror_mode": {
        "name": "ipython",
        "version": 3
      },
      "version": "3.7.4-final"
    },
    "orig_nbformat": 2,
    "file_extension": ".py",
    "mimetype": "text/x-python",
    "name": "python",
    "npconvert_exporter": "python",
    "pygments_lexer": "ipython3",
    "version": 3,
    "kernelspec": {
      "name": "python37464bita07fc30724e44bf79f33747589a05ca4",
      "display_name": "Python 3.7.4 64-bit"
    },
    "colab": {
      "name": "GRU.ipynb",
      "provenance": [],
      "collapsed_sections": []
    }
  },
  "cells": [
    {
      "cell_type": "code",
      "metadata": {
        "id": "7OgnAuJpjEPQ",
        "colab_type": "code",
        "colab": {}
      },
      "source": [
        "import pandas as pd\n",
        "import numpy as np\n",
        "import re\n",
        "import datetime\n",
        "import seaborn as sns\n",
        "from matplotlib import pyplot as plt\n",
        "from google.colab import drive "
      ],
      "execution_count": null,
      "outputs": []
    },
    {
      "cell_type": "code",
      "metadata": {
        "id": "kua5IBPcjEPY",
        "colab_type": "code",
        "colab": {}
      },
      "source": [
        "drive.mount('/content/drive')\n",
        "DIR = \"drive/My Drive/Notebooks/Thesis/Readmissions/\""
      ],
      "execution_count": null,
      "outputs": []
    },
    {
      "cell_type": "code",
      "metadata": {
        "id": "mUya8neejEPe",
        "colab_type": "code",
        "colab": {}
      },
      "source": [
        "adm_notes = pd.read_csv(DIR + \"readmission.csv\", low_memory=False)"
      ],
      "execution_count": null,
      "outputs": []
    },
    {
      "cell_type": "markdown",
      "metadata": {
        "id": "wVGx2JTOjEPi",
        "colab_type": "text"
      },
      "source": [
        "# Natural Language"
      ]
    },
    {
      "cell_type": "code",
      "metadata": {
        "id": "-eSp2rKYjEPj",
        "colab_type": "code",
        "colab": {}
      },
      "source": [
        "import string\n",
        "import nltk\n",
        "from nltk import word_tokenize\n",
        "from nltk.stem.porter import PorterStemmer\n",
        "from nltk.corpus import stopwords"
      ],
      "execution_count": null,
      "outputs": []
    },
    {
      "cell_type": "code",
      "metadata": {
        "id": "5rxvNB8QjEPo",
        "colab_type": "code",
        "colab": {}
      },
      "source": [
        "def clean_text(texts):\n",
        "    texts = texts.fillna(' ')\n",
        "    texts = texts.str.replace('\\n',' ')\n",
        "    texts = texts.str.replace('\\r',' ')\n",
        "\n",
        "    table = str.maketrans('', '', string.punctuation + '0123456789')\n",
        "    texts = [text.lower().translate(table) for text in texts]\n",
        "\n",
        "    return texts"
      ],
      "execution_count": null,
      "outputs": []
    },
    {
      "cell_type": "code",
      "metadata": {
        "id": "21E4eXpFjEPt",
        "colab_type": "code",
        "colab": {}
      },
      "source": [
        "adm_notes['TEXT'] = clean_text(adm_notes['TEXT'])"
      ],
      "execution_count": null,
      "outputs": []
    },
    {
      "cell_type": "code",
      "metadata": {
        "id": "VWRV-T4ewLvK",
        "colab_type": "code",
        "colab": {
          "base_uri": "https://localhost:8080/",
          "height": 102
        },
        "outputId": "f95a7c83-cfa3-46e7-b63b-a527263e1b12"
      },
      "source": [
        "nltk.download('punkt')\n",
        "nltk.download('stopwords')"
      ],
      "execution_count": null,
      "outputs": [
        {
          "output_type": "stream",
          "text": [
            "[nltk_data] Downloading package punkt to /root/nltk_data...\n",
            "[nltk_data]   Package punkt is already up-to-date!\n",
            "[nltk_data] Downloading package stopwords to /root/nltk_data...\n",
            "[nltk_data]   Package stopwords is already up-to-date!\n"
          ],
          "name": "stdout"
        },
        {
          "output_type": "execute_result",
          "data": {
            "text/plain": [
              "True"
            ]
          },
          "metadata": {
            "tags": []
          },
          "execution_count": 29
        }
      ]
    },
    {
      "cell_type": "code",
      "metadata": {
        "id": "G3JaQ3fJjEPx",
        "colab_type": "code",
        "colab": {}
      },
      "source": [
        "stop_words = stopwords.words('english')\n",
        "stop_words = stop_words + ['patient', 'date', 'admission', 'discharge', 'lastname', 'firstname', 'sex']"
      ],
      "execution_count": null,
      "outputs": []
    },
    {
      "cell_type": "code",
      "metadata": {
        "id": "A12dNl0djEP2",
        "colab_type": "code",
        "colab": {}
      },
      "source": [
        "porter = PorterStemmer()"
      ],
      "execution_count": null,
      "outputs": []
    },
    {
      "cell_type": "code",
      "metadata": {
        "id": "ngzwTfGejEP6",
        "colab_type": "code",
        "colab": {}
      },
      "source": [
        "def tokenize_stem(text):\n",
        "    words = word_tokenize(text)\n",
        "    words = [word for word in words if word not in stop_words]\n",
        "    words = [porter.stem(word) for word in words]\n",
        "    return words"
      ],
      "execution_count": null,
      "outputs": []
    },
    {
      "cell_type": "code",
      "metadata": {
        "id": "gt9quJSrB3zn",
        "colab_type": "code",
        "colab": {}
      },
      "source": [
        "for i, text in enumerate(adm_notes['TEXT']):\n",
        "   adm_notes.loc[i, 'TEXT'] = (' ').join(tokenize_stem(adm_notes['TEXT'][i]))"
      ],
      "execution_count": null,
      "outputs": []
    },
    {
      "cell_type": "markdown",
      "metadata": {
        "id": "UCpZCmD0jEP-",
        "colab_type": "text"
      },
      "source": [
        "# Model\n",
        "## Words, Train and Test"
      ]
    },
    {
      "cell_type": "code",
      "metadata": {
        "id": "ehkOkbR-jEP_",
        "colab_type": "code",
        "colab": {}
      },
      "source": [
        "from sklearn.feature_extraction.text import CountVectorizer\n",
        "from sklearn.model_selection import train_test_split"
      ],
      "execution_count": null,
      "outputs": []
    },
    {
      "cell_type": "markdown",
      "metadata": {
        "id": "EKUfyfFLjEQD",
        "colab_type": "text"
      },
      "source": [
        "Repartition data"
      ]
    },
    {
      "cell_type": "code",
      "metadata": {
        "id": "LGDUXsUcjEQE",
        "colab_type": "code",
        "colab": {}
      },
      "source": [
        "df_train, df_test = train_test_split(adm_notes, test_size=0.2, random_state=42)"
      ],
      "execution_count": null,
      "outputs": []
    },
    {
      "cell_type": "markdown",
      "metadata": {
        "id": "ADSXuj_wjEQI",
        "colab_type": "text"
      },
      "source": [
        "Subsample non-readmitted patients to match size of readmitted ones"
      ]
    },
    {
      "cell_type": "code",
      "metadata": {
        "id": "90ZfPmgcjEQJ",
        "colab_type": "code",
        "colab": {}
      },
      "source": [
        "rows_pos = df_train['READM_WITHIN_30'] == 1\n",
        "df_train_pos = df_train.loc[rows_pos]\n",
        "df_train_neg = df_train.loc[~rows_pos]\n",
        "\n",
        "df_train = pd.concat([df_train_pos, df_train_neg.sample(n = len(df_train_pos))], axis = 0)\n",
        "df_train = df_train.sample(n = len(df_train)).reset_index(drop = True)"
      ],
      "execution_count": null,
      "outputs": []
    },
    {
      "cell_type": "code",
      "metadata": {
        "id": "xKRSSvW6jEQN",
        "colab_type": "code",
        "colab": {}
      },
      "source": [
        "rows_pos = df_test['READM_WITHIN_30'] == 1\n",
        "df_test_pos = df_test.loc[rows_pos]\n",
        "df_test_neg = df_test.loc[~rows_pos]\n",
        "\n",
        "df_test = pd.concat([df_test_pos, df_test_neg.sample(n = len(df_test_pos))], axis = 0)\n",
        "df_test = df_test.sample(n = len(df_test)).reset_index(drop = True)"
      ],
      "execution_count": null,
      "outputs": []
    },
    {
      "cell_type": "code",
      "metadata": {
        "id": "UT6P7kmvjEQR",
        "colab_type": "code",
        "colab": {
          "base_uri": "https://localhost:8080/",
          "height": 51
        },
        "outputId": "e02768e1-8563-497f-ce60-6d153696de0c"
      },
      "source": [
        "print(df_train.shape)\n",
        "print(df_test.shape)"
      ],
      "execution_count": null,
      "outputs": [
        {
          "output_type": "stream",
          "text": [
            "(4900, 10)\n",
            "(1342, 10)\n"
          ],
          "name": "stdout"
        }
      ]
    },
    {
      "cell_type": "markdown",
      "metadata": {
        "id": "hs4rAD9djEQW",
        "colab_type": "text"
      },
      "source": [
        "Sparse Matrix with word count"
      ]
    },
    {
      "cell_type": "markdown",
      "metadata": {
        "id": "kr1gCKmGjEQa",
        "colab_type": "text"
      },
      "source": [
        "# Recurrent Neural Network"
      ]
    },
    {
      "cell_type": "code",
      "metadata": {
        "id": "qCin9gZFjEQb",
        "colab_type": "code",
        "colab": {}
      },
      "source": [
        "from keras.models import Sequential, load_model\n",
        "from keras.layers import LSTM, Dense, Dropout, Embedding, GRU\n",
        "from keras.optimizers import RMSprop, Adam\n",
        "from keras.utils import to_categorical\n",
        "from keras.callbacks import ModelCheckpoint\n",
        "from keras.preprocessing.text import Tokenizer\n",
        "from keras.preprocessing.sequence import pad_sequences\n",
        "\n",
        "import tensorflow as tf"
      ],
      "execution_count": null,
      "outputs": []
    },
    {
      "cell_type": "code",
      "metadata": {
        "id": "az3bfsS_-FOr",
        "colab_type": "code",
        "colab": {}
      },
      "source": [
        "NUMBER_WORDS = 5000\n",
        "\n",
        "tokenizer = Tokenizer(num_words=NUMBER_WORDS)\n",
        "tokenizer.fit_on_texts(df_train['TEXT'])\n",
        "sequences_train = tokenizer.texts_to_sequences(df_train['TEXT'])\n",
        "sequences_test = tokenizer.texts_to_sequences(df_test['TEXT'])\n",
        "\n",
        "X_train = pad_sequences(sequences_train, maxlen=NUMBER_WORDS)\n",
        "X_test = pad_sequences(sequences_test, maxlen=NUMBER_WORDS)"
      ],
      "execution_count": null,
      "outputs": []
    },
    {
      "cell_type": "code",
      "metadata": {
        "id": "AZo6vNQAN5mQ",
        "colab_type": "code",
        "colab": {}
      },
      "source": [
        "y_train = to_categorical(df_train['READM_WITHIN_30'])\n",
        "y_test = to_categorical(df_test['READM_WITHIN_30'])"
      ],
      "execution_count": null,
      "outputs": []
    },
    {
      "cell_type": "code",
      "metadata": {
        "id": "ewiT3ZwjNNft",
        "colab_type": "code",
        "colab": {}
      },
      "source": [
        "adam = Adam(learning_rate=0.0001)"
      ],
      "execution_count": null,
      "outputs": []
    },
    {
      "cell_type": "code",
      "metadata": {
        "id": "EEbedM5MjEQg",
        "colab_type": "code",
        "colab": {
          "base_uri": "https://localhost:8080/",
          "height": 255
        },
        "outputId": "e6fb0af2-b712-4221-a12b-79c6fa3c0ef9"
      },
      "source": [
        "model = Sequential()\n",
        "model.add(Embedding(X_train.shape[1], 64, input_length=X_train.shape[1] ))\n",
        "model.add(GRU(64, dropout=0.2))\n",
        "model.add(Dense(2, activation='sigmoid'))\n",
        "model.compile(loss='categorical_crossentropy', optimizer=adam, metrics=['accuracy'])\n",
        "\n",
        "model.summary()"
      ],
      "execution_count": null,
      "outputs": [
        {
          "output_type": "stream",
          "text": [
            "Model: \"sequential_3\"\n",
            "_________________________________________________________________\n",
            "Layer (type)                 Output Shape              Param #   \n",
            "=================================================================\n",
            "embedding_3 (Embedding)      (None, 5000, 64)          320000    \n",
            "_________________________________________________________________\n",
            "gru_3 (GRU)                  (None, 64)                24768     \n",
            "_________________________________________________________________\n",
            "dense_3 (Dense)              (None, 2)                 130       \n",
            "=================================================================\n",
            "Total params: 344,898\n",
            "Trainable params: 344,898\n",
            "Non-trainable params: 0\n",
            "_________________________________________________________________\n"
          ],
          "name": "stdout"
        }
      ]
    },
    {
      "cell_type": "code",
      "metadata": {
        "id": "hIxk8Yp7wHBY",
        "colab_type": "code",
        "colab": {
          "base_uri": "https://localhost:8080/",
          "height": 422
        },
        "outputId": "4d3335ed-5e64-4e2e-a6b3-83ae85548c3b"
      },
      "source": [
        "from keras.utils.vis_utils import plot_model\n",
        "\n",
        "plot_model(model, show_shapes=True, show_layer_names=False)"
      ],
      "execution_count": null,
      "outputs": [
        {
          "output_type": "execute_result",
          "data": {
            "image/png": "[encoded data removed]",
            "text/plain": [
              "<IPython.core.display.Image object>"
            ]
          },
          "metadata": {
            "tags": []
          },
          "execution_count": 44
        }
      ]
    },
    {
      "cell_type": "code",
      "metadata": {
        "id": "4gbF3pyHjEQk",
        "colab_type": "code",
        "colab": {
          "base_uri": "https://localhost:8080/",
          "height": 408
        },
        "outputId": "2af2936f-56a8-4cc2-a5fd-e7584c1e4530"
      },
      "source": [
        "history = model.fit(X_train, y_train, epochs = 10, batch_size = 64, validation_split=0.2)"
      ],
      "execution_count": null,
      "outputs": [
        {
          "output_type": "stream",
          "text": [
            "/usr/local/lib/python3.6/dist-packages/tensorflow/python/framework/indexed_slices.py:434: UserWarning: Converting sparse IndexedSlices to a dense Tensor of unknown shape. This may consume a large amount of memory.\n",
            "  \"Converting sparse IndexedSlices to a dense Tensor of unknown shape. \"\n"
          ],
          "name": "stderr"
        },
        {
          "output_type": "stream",
          "text": [
            "Train on 3920 samples, validate on 980 samples\n",
            "Epoch 1/10\n",
            "3920/3920 [==============================] - 445s 113ms/step - loss: 0.6918 - accuracy: 0.5355 - val_loss: 0.6900 - val_accuracy: 0.5551\n",
            "Epoch 2/10\n",
            "3920/3920 [==============================] - 441s 113ms/step - loss: 0.6872 - accuracy: 0.5758 - val_loss: 0.6873 - val_accuracy: 0.5469\n",
            "Epoch 3/10\n",
            "3920/3920 [==============================] - 443s 113ms/step - loss: 0.6822 - accuracy: 0.5770 - val_loss: 0.6868 - val_accuracy: 0.5571\n",
            "Epoch 4/10\n",
            "3920/3920 [==============================] - 452s 115ms/step - loss: 0.6782 - accuracy: 0.5890 - val_loss: 0.6873 - val_accuracy: 0.5531\n",
            "Epoch 5/10\n",
            "3920/3920 [==============================] - 446s 114ms/step - loss: 0.6699 - accuracy: 0.5985 - val_loss: 0.6862 - val_accuracy: 0.5653\n",
            "Epoch 6/10\n",
            "3920/3920 [==============================] - 454s 116ms/step - loss: 0.6511 - accuracy: 0.6217 - val_loss: 0.7122 - val_accuracy: 0.5765\n",
            "Epoch 7/10\n",
            "3920/3920 [==============================] - 456s 116ms/step - loss: 0.6652 - accuracy: 0.6222 - val_loss: 0.6808 - val_accuracy: 0.5592\n",
            "Epoch 8/10\n",
            "3920/3920 [==============================] - 449s 115ms/step - loss: 0.6229 - accuracy: 0.6661 - val_loss: 0.7033 - val_accuracy: 0.5827\n",
            "Epoch 9/10\n",
            "3920/3920 [==============================] - 445s 114ms/step - loss: 0.5890 - accuracy: 0.6883 - val_loss: 0.6870 - val_accuracy: 0.5847\n",
            "Epoch 10/10\n",
            "3920/3920 [==============================] - 444s 113ms/step - loss: 0.5681 - accuracy: 0.7158 - val_loss: 0.7031 - val_accuracy: 0.5878\n"
          ],
          "name": "stdout"
        }
      ]
    },
    {
      "cell_type": "code",
      "metadata": {
        "id": "A2sf4-u84RnY",
        "colab_type": "code",
        "colab": {
          "base_uri": "https://localhost:8080/",
          "height": 68
        },
        "outputId": "ecac3eb3-3074-47a3-d717-b68ec8a5416b"
      },
      "source": [
        "print(model.metrics_names)\n",
        "model.evaluate(X_test, y_test, batch_size=64)"
      ],
      "execution_count": null,
      "outputs": [
        {
          "output_type": "stream",
          "text": [
            "['loss', 'accuracy']\n",
            "1342/1342 [==============================] - 17s 13ms/step\n"
          ],
          "name": "stdout"
        },
        {
          "output_type": "execute_result",
          "data": {
            "text/plain": [
              "[0.6920656826563635, 0.6058121919631958]"
            ]
          },
          "metadata": {
            "tags": []
          },
          "execution_count": 51
        }
      ]
    },
    {
      "cell_type": "code",
      "metadata": {
        "id": "0GP1N5RnCKXg",
        "colab_type": "code",
        "colab": {
          "base_uri": "https://localhost:8080/",
          "height": 204
        },
        "outputId": "4e6d6c03-a453-49b9-ee9d-9c523eda6b23"
      },
      "source": [
        "from sklearn.metrics import classification_report, roc_auc_score\n",
        "\n",
        "y_pred = model.predict(X_test, batch_size=64, verbose=1)\n",
        "y_pred = np.argmax(y_pred, axis=1)\n",
        "\n",
        "y_test_raw = df_test['READM_WITHIN_30']\n",
        "\n",
        "print(classification_report(y_test_raw, y_pred, digits=3))\n",
        "print(roc_auc_score(y_test_raw, y_pred))"
      ],
      "execution_count": null,
      "outputs": [
        {
          "output_type": "stream",
          "text": [
            "1342/1342 [==============================] - 17s 13ms/step\n",
            "              precision    recall  f1-score   support\n",
            "\n",
            "           0      0.603     0.620     0.611       671\n",
            "           1      0.609     0.592     0.600       671\n",
            "\n",
            "    accuracy                          0.606      1342\n",
            "   macro avg      0.606     0.606     0.606      1342\n",
            "weighted avg      0.606     0.606     0.606      1342\n",
            "\n",
            "0.605812220566319\n"
          ],
          "name": "stdout"
        }
      ]
    },
    {
      "cell_type": "code",
      "metadata": {
        "id": "SGWn_I8IAS_f",
        "colab_type": "code",
        "colab": {
          "base_uri": "https://localhost:8080/",
          "height": 292
        },
        "outputId": "8525928e-543d-4297-bb64-ff015f87430d"
      },
      "source": [
        "sns.set('talk', 'whitegrid', 'dark', font_scale=0.7,\n",
        "        rc={\"lines.linewidth\": 1, 'grid.linestyle': '--'})\n",
        "\n",
        "fig, ax = plt.subplots(nrows=1, ncols=2, figsize=(9, 4))\n",
        "\n",
        "ax[0].plot(history.history['accuracy'])\n",
        "ax[0].plot(history.history['val_accuracy'])\n",
        "ax[0].set_title('Model accuracy')\n",
        "ax[0].set_ylabel('Accuracy')\n",
        "ax[0].set_xlabel('Epoch')\n",
        "ax[0].legend(['Train', 'Test'], loc='upper left')\n",
        "\n",
        "ax[1].plot(history.history['loss'])\n",
        "ax[1].plot(history.history['val_loss'])\n",
        "ax[1].set_title('Model loss')\n",
        "ax[1].set_ylabel('Loss')\n",
        "ax[1].set_xlabel('Epoch')\n",
        "ax[1].legend(['Train', 'Test'], loc='upper left')\n",
        "\n",
        "fig.tight_layout()\n",
        "plt.show()"
      ],
      "execution_count": null,
      "outputs": [
        {
          "output_type": "display_data",
          "data": {
            "image/png": "[encoded data removed]",
            "text/plain": [
              "<Figure size 648x288 with 2 Axes>"
            ]
          },
          "metadata": {
            "tags": []
          }
        }
      ]
    }
  ]
}