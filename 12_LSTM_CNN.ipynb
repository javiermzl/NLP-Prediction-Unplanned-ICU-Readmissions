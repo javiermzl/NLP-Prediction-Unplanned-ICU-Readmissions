{
  "nbformat": 4,
  "nbformat_minor": 0,
  "metadata": {
    "language_info": {
      "name": "python",
      "codemirror_mode": {
        "name": "ipython",
        "version": 3
      },
      "version": "3.7.4-final"
    },
    "orig_nbformat": 2,
    "file_extension": ".py",
    "mimetype": "text/x-python",
    "name": "python",
    "npconvert_exporter": "python",
    "pygments_lexer": "ipython3",
    "version": 3,
    "kernelspec": {
      "name": "python37464bita07fc30724e44bf79f33747589a05ca4",
      "display_name": "Python 3.7.4 64-bit"
    },
    "colab": {
      "name": "LSTM-CNN.ipynb",
      "provenance": [],
      "collapsed_sections": []
    },
    "accelerator": "GPU"
  },
  "cells": [
    {
      "cell_type": "code",
      "metadata": {
        "id": "7OgnAuJpjEPQ",
        "colab_type": "code",
        "colab": {}
      },
      "source": [
        "import pandas as pd\n",
        "import numpy as np\n",
        "import re\n",
        "import datetime\n",
        "import seaborn as sns\n",
        "from matplotlib import pyplot as plt\n",
        "from google.colab import drive "
      ],
      "execution_count": null,
      "outputs": []
    },
    {
      "cell_type": "code",
      "metadata": {
        "id": "kua5IBPcjEPY",
        "colab_type": "code",
        "colab": {}
      },
      "source": [
        "drive.mount('/content/drive')\n",
        "DIR = \"drive/My Drive/Notebooks/Thesis/Readmissions/\""
      ],
      "execution_count": null,
      "outputs": []
    },
    {
      "cell_type": "code",
      "metadata": {
        "id": "mUya8neejEPe",
        "colab_type": "code",
        "colab": {}
      },
      "source": [
        "adm_notes = pd.read_csv(DIR + \"readmission.csv\", low_memory=False)"
      ],
      "execution_count": null,
      "outputs": []
    },
    {
      "cell_type": "code",
      "metadata": {
        "id": "rGtwqHKGpH5O",
        "colab_type": "code",
        "colab": {
          "base_uri": "https://localhost:8080/",
          "height": 357
        },
        "outputId": "0a204c7d-f95f-4b58-adec-97f399f6a408"
      },
      "source": [
        "!nvidia-smi"
      ],
      "execution_count": null,
      "outputs": [
        {
          "output_type": "stream",
          "text": [
            "Mon Jun 29 17:18:50 2020       \n",
            "+-----------------------------------------------------------------------------+\n",
            "| NVIDIA-SMI 450.36.06    Driver Version: 418.67       CUDA Version: 10.1     |\n",
            "|-------------------------------+----------------------+----------------------+\n",
            "| GPU  Name        Persistence-M| Bus-Id        Disp.A | Volatile Uncorr. ECC |\n",
            "| Fan  Temp  Perf  Pwr:Usage/Cap|         Memory-Usage | GPU-Util  Compute M. |\n",
            "|                               |                      |               MIG M. |\n",
            "|===============================+======================+======================|\n",
            "|   0  Tesla P100-PCIE...  Off  | 00000000:00:04.0 Off |                    0 |\n",
            "| N/A   34C    P0    26W / 250W |      0MiB / 16280MiB |      0%      Default |\n",
            "|                               |                      |                 ERR! |\n",
            "+-------------------------------+----------------------+----------------------+\n",
            "                                                                               \n",
            "+-----------------------------------------------------------------------------+\n",
            "| Processes:                                                                  |\n",
            "|  GPU   GI   CI        PID   Type   Process name                  GPU Memory |\n",
            "|        ID   ID                                                   Usage      |\n",
            "|=============================================================================|\n",
            "|  No running processes found                                                 |\n",
            "+-----------------------------------------------------------------------------+\n"
          ],
          "name": "stdout"
        }
      ]
    },
    {
      "cell_type": "markdown",
      "metadata": {
        "id": "wVGx2JTOjEPi",
        "colab_type": "text"
      },
      "source": [
        "# Natural Language"
      ]
    },
    {
      "cell_type": "code",
      "metadata": {
        "id": "-eSp2rKYjEPj",
        "colab_type": "code",
        "colab": {}
      },
      "source": [
        "import string\n",
        "import nltk\n",
        "from nltk import word_tokenize\n",
        "from nltk.stem.porter import PorterStemmer\n",
        "from nltk.corpus import stopwords"
      ],
      "execution_count": null,
      "outputs": []
    },
    {
      "cell_type": "code",
      "metadata": {
        "id": "5rxvNB8QjEPo",
        "colab_type": "code",
        "colab": {}
      },
      "source": [
        "def clean_text(texts):\n",
        "    texts = texts.fillna(' ')\n",
        "    texts = texts.str.replace('\\n',' ')\n",
        "    texts = texts.str.replace('\\r',' ')\n",
        "\n",
        "    table = str.maketrans('', '', string.punctuation + '0123456789')\n",
        "    texts = [text.lower().translate(table) for text in texts]\n",
        "\n",
        "    return texts"
      ],
      "execution_count": null,
      "outputs": []
    },
    {
      "cell_type": "code",
      "metadata": {
        "id": "21E4eXpFjEPt",
        "colab_type": "code",
        "colab": {}
      },
      "source": [
        "adm_notes['TEXT'] = clean_text(adm_notes['TEXT'])"
      ],
      "execution_count": null,
      "outputs": []
    },
    {
      "cell_type": "code",
      "metadata": {
        "id": "VWRV-T4ewLvK",
        "colab_type": "code",
        "colab": {
          "base_uri": "https://localhost:8080/",
          "height": 102
        },
        "outputId": "b4eec674-ec5f-4a56-aa7c-149cff169b83"
      },
      "source": [
        "nltk.download('punkt')\n",
        "nltk.download('stopwords')"
      ],
      "execution_count": null,
      "outputs": [
        {
          "output_type": "stream",
          "text": [
            "[nltk_data] Downloading package punkt to /root/nltk_data...\n",
            "[nltk_data]   Unzipping tokenizers/punkt.zip.\n",
            "[nltk_data] Downloading package stopwords to /root/nltk_data...\n",
            "[nltk_data]   Unzipping corpora/stopwords.zip.\n"
          ],
          "name": "stdout"
        },
        {
          "output_type": "execute_result",
          "data": {
            "text/plain": [
              "True"
            ]
          },
          "metadata": {
            "tags": []
          },
          "execution_count": 8
        }
      ]
    },
    {
      "cell_type": "code",
      "metadata": {
        "id": "G3JaQ3fJjEPx",
        "colab_type": "code",
        "colab": {}
      },
      "source": [
        "stop_words = stopwords.words('english')\n",
        "stop_words = stop_words + ['patient', 'date', 'admission', 'discharge', 'lastname', 'firstname', 'sex']"
      ],
      "execution_count": null,
      "outputs": []
    },
    {
      "cell_type": "code",
      "metadata": {
        "id": "A12dNl0djEP2",
        "colab_type": "code",
        "colab": {}
      },
      "source": [
        "porter = PorterStemmer()"
      ],
      "execution_count": null,
      "outputs": []
    },
    {
      "cell_type": "code",
      "metadata": {
        "id": "ngzwTfGejEP6",
        "colab_type": "code",
        "colab": {}
      },
      "source": [
        "def tokenize_stem(text):\n",
        "    words = word_tokenize(text)\n",
        "    words = [word for word in words if word not in stop_words]\n",
        "    words = [porter.stem(word) for word in words]\n",
        "    return words"
      ],
      "execution_count": null,
      "outputs": []
    },
    {
      "cell_type": "code",
      "metadata": {
        "id": "gt9quJSrB3zn",
        "colab_type": "code",
        "colab": {}
      },
      "source": [
        "for i, text in enumerate(adm_notes['TEXT']):\n",
        "   adm_notes.loc[i, 'TEXT'] = (' ').join(tokenize_stem(adm_notes['TEXT'][i]))"
      ],
      "execution_count": null,
      "outputs": []
    },
    {
      "cell_type": "markdown",
      "metadata": {
        "id": "UCpZCmD0jEP-",
        "colab_type": "text"
      },
      "source": [
        "# Model\n",
        "## Words, Train and Test"
      ]
    },
    {
      "cell_type": "code",
      "metadata": {
        "id": "ehkOkbR-jEP_",
        "colab_type": "code",
        "colab": {}
      },
      "source": [
        "from sklearn.feature_extraction.text import CountVectorizer\n",
        "from sklearn.model_selection import train_test_split"
      ],
      "execution_count": null,
      "outputs": []
    },
    {
      "cell_type": "markdown",
      "metadata": {
        "id": "EKUfyfFLjEQD",
        "colab_type": "text"
      },
      "source": [
        "Repartition data"
      ]
    },
    {
      "cell_type": "code",
      "metadata": {
        "id": "LGDUXsUcjEQE",
        "colab_type": "code",
        "colab": {}
      },
      "source": [
        "df_train, df_test = train_test_split(adm_notes, test_size=0.2, random_state=42)"
      ],
      "execution_count": null,
      "outputs": []
    },
    {
      "cell_type": "markdown",
      "metadata": {
        "id": "ADSXuj_wjEQI",
        "colab_type": "text"
      },
      "source": [
        "Subsample non-readmitted patients to match size of readmitted ones"
      ]
    },
    {
      "cell_type": "code",
      "metadata": {
        "id": "90ZfPmgcjEQJ",
        "colab_type": "code",
        "colab": {}
      },
      "source": [
        "rows_pos = df_train['READM_WITHIN_30'] == 1\n",
        "df_train_pos = df_train.loc[rows_pos]\n",
        "df_train_neg = df_train.loc[~rows_pos]\n",
        "\n",
        "df_train = pd.concat([df_train_pos, df_train_neg.sample(n = len(df_train_pos))], axis = 0)\n",
        "df_train = df_train.sample(n = len(df_train)).reset_index(drop = True)"
      ],
      "execution_count": null,
      "outputs": []
    },
    {
      "cell_type": "code",
      "metadata": {
        "id": "xKRSSvW6jEQN",
        "colab_type": "code",
        "colab": {}
      },
      "source": [
        "rows_pos = df_test['READM_WITHIN_30'] == 1\n",
        "df_test_pos = df_test.loc[rows_pos]\n",
        "df_test_neg = df_test.loc[~rows_pos]\n",
        "\n",
        "df_test = pd.concat([df_test_pos, df_test_neg.sample(n = len(df_test_pos))], axis = 0)\n",
        "df_test = df_test.sample(n = len(df_test)).reset_index(drop = True)"
      ],
      "execution_count": null,
      "outputs": []
    },
    {
      "cell_type": "code",
      "metadata": {
        "id": "UT6P7kmvjEQR",
        "colab_type": "code",
        "colab": {
          "base_uri": "https://localhost:8080/",
          "height": 51
        },
        "outputId": "471c45d2-786f-4d4e-cf8a-60f2c5caa16e"
      },
      "source": [
        "print(df_train.shape)\n",
        "print(df_test.shape)"
      ],
      "execution_count": null,
      "outputs": [
        {
          "output_type": "stream",
          "text": [
            "(4900, 10)\n",
            "(1342, 10)\n"
          ],
          "name": "stdout"
        }
      ]
    },
    {
      "cell_type": "markdown",
      "metadata": {
        "id": "hs4rAD9djEQW",
        "colab_type": "text"
      },
      "source": [
        "Sparse Matrix with word count"
      ]
    },
    {
      "cell_type": "markdown",
      "metadata": {
        "id": "kr1gCKmGjEQa",
        "colab_type": "text"
      },
      "source": [
        "# Recurrent Neural Network"
      ]
    },
    {
      "cell_type": "code",
      "metadata": {
        "id": "qCin9gZFjEQb",
        "colab_type": "code",
        "colab": {
          "base_uri": "https://localhost:8080/",
          "height": 34
        },
        "outputId": "7faca848-b1ac-4979-e24f-fc9566f30a00"
      },
      "source": [
        "from keras.models import Sequential, load_model\n",
        "from keras.layers import LSTM, Dense, Dropout, Embedding, Conv1D, MaxPooling1D, SpatialDropout1D\n",
        "from keras.optimizers import RMSprop, Adam\n",
        "from keras.utils import to_categorical\n",
        "from keras.callbacks import ModelCheckpoint\n",
        "from keras.preprocessing.text import Tokenizer\n",
        "from keras.preprocessing.sequence import pad_sequences\n",
        "\n",
        "import tensorflow as tf"
      ],
      "execution_count": null,
      "outputs": [
        {
          "output_type": "stream",
          "text": [
            "Using TensorFlow backend.\n"
          ],
          "name": "stderr"
        }
      ]
    },
    {
      "cell_type": "code",
      "metadata": {
        "id": "az3bfsS_-FOr",
        "colab_type": "code",
        "colab": {}
      },
      "source": [
        "NUMBER_WORDS = 5000\n",
        "\n",
        "tokenizer = Tokenizer(num_words=NUMBER_WORDS)\n",
        "tokenizer.fit_on_texts(df_train['TEXT'])\n",
        "sequences_train = tokenizer.texts_to_sequences(df_train['TEXT'])\n",
        "sequences_test = tokenizer.texts_to_sequences(df_test['TEXT'])\n",
        "\n",
        "X_train = pad_sequences(sequences_train, maxlen=NUMBER_WORDS)\n",
        "X_test = pad_sequences(sequences_test, maxlen=NUMBER_WORDS)"
      ],
      "execution_count": null,
      "outputs": []
    },
    {
      "cell_type": "code",
      "metadata": {
        "id": "AZo6vNQAN5mQ",
        "colab_type": "code",
        "colab": {}
      },
      "source": [
        "y_train = to_categorical(df_train['READM_WITHIN_30'])\n",
        "y_test = to_categorical(df_test['READM_WITHIN_30'])"
      ],
      "execution_count": null,
      "outputs": []
    },
    {
      "cell_type": "code",
      "metadata": {
        "id": "ewiT3ZwjNNft",
        "colab_type": "code",
        "colab": {}
      },
      "source": [
        "adam = Adam(learning_rate=0.00001)"
      ],
      "execution_count": null,
      "outputs": []
    },
    {
      "cell_type": "code",
      "metadata": {
        "id": "EEbedM5MjEQg",
        "colab_type": "code",
        "colab": {
          "base_uri": "https://localhost:8080/",
          "height": 323
        },
        "outputId": "c381a7b1-d434-488d-b95b-5d28384b6942"
      },
      "source": [
        "model = Sequential()\n",
        "model.add(Embedding(X_train.shape[1], 64, input_length=X_train.shape[1]))\n",
        "model.add(Conv1D(64, 5, padding='valid', activation='relu', strides=1))\n",
        "model.add(MaxPooling1D(pool_size=4))\n",
        "model.add(LSTM(128, dropout=0.2, recurrent_dropout=0.2))\n",
        "model.add(Dense(2, activation='sigmoid'))\n",
        "model.compile(loss='categorical_crossentropy', optimizer=adam, metrics=['accuracy'])\n",
        "\n",
        "model.summary()"
      ],
      "execution_count": null,
      "outputs": [
        {
          "output_type": "stream",
          "text": [
            "Model: \"sequential_1\"\n",
            "_________________________________________________________________\n",
            "Layer (type)                 Output Shape              Param #   \n",
            "=================================================================\n",
            "embedding_1 (Embedding)      (None, 5000, 64)          320000    \n",
            "_________________________________________________________________\n",
            "conv1d_1 (Conv1D)            (None, 4996, 64)          20544     \n",
            "_________________________________________________________________\n",
            "max_pooling1d_1 (MaxPooling1 (None, 1249, 64)          0         \n",
            "_________________________________________________________________\n",
            "lstm_1 (LSTM)                (None, 128)               98816     \n",
            "_________________________________________________________________\n",
            "dense_1 (Dense)              (None, 2)                 258       \n",
            "=================================================================\n",
            "Total params: 439,618\n",
            "Trainable params: 439,618\n",
            "Non-trainable params: 0\n",
            "_________________________________________________________________\n"
          ],
          "name": "stdout"
        }
      ]
    },
    {
      "cell_type": "code",
      "metadata": {
        "id": "xrJGUu_-dRJG",
        "colab_type": "code",
        "colab": {
          "base_uri": "https://localhost:8080/",
          "height": 644
        },
        "outputId": "14149827-88d0-46ba-f6cc-aa2eeaa86b75"
      },
      "source": [
        "from keras.utils.vis_utils import plot_model\n",
        "\n",
        "plot_model(model, show_shapes=True, show_layer_names=False)"
      ],
      "execution_count": null,
      "outputs": [
        {
          "output_type": "execute_result",
          "data": {
            "image/png": "[encoded data removed]",
            "text/plain": [
              "<IPython.core.display.Image object>"
            ]
          },
          "metadata": {
            "tags": []
          },
          "execution_count": 23
        }
      ]
    },
    {
      "cell_type": "code",
      "metadata": {
        "id": "4gbF3pyHjEQk",
        "colab_type": "code",
        "colab": {
          "base_uri": "https://localhost:8080/",
          "height": 1000
        },
        "outputId": "30b57ae0-ef13-4d37-d040-39092bdb5e24"
      },
      "source": [
        "history = model.fit(X_train, y_train, epochs = 100, batch_size = 64, validation_split=0.2)"
      ],
      "execution_count": null,
      "outputs": [
        {
          "output_type": "stream",
          "text": [
            "/usr/local/lib/python3.6/dist-packages/tensorflow/python/framework/indexed_slices.py:434: UserWarning: Converting sparse IndexedSlices to a dense Tensor of unknown shape. This may consume a large amount of memory.\n",
            "  \"Converting sparse IndexedSlices to a dense Tensor of unknown shape. \"\n"
          ],
          "name": "stderr"
        },
        {
          "output_type": "stream",
          "text": [
            "Train on 3920 samples, validate on 980 samples\n",
            "Epoch 1/100\n",
            "3920/3920 [==============================] - 148s 38ms/step - loss: 0.6930 - accuracy: 0.5110 - val_loss: 0.6931 - val_accuracy: 0.5071\n",
            "Epoch 2/100\n",
            "3920/3920 [==============================] - 142s 36ms/step - loss: 0.6931 - accuracy: 0.5092 - val_loss: 0.6930 - val_accuracy: 0.5163\n",
            "Epoch 3/100\n",
            "3920/3920 [==============================] - 142s 36ms/step - loss: 0.6930 - accuracy: 0.5181 - val_loss: 0.6930 - val_accuracy: 0.5235\n",
            "Epoch 4/100\n",
            "3920/3920 [==============================] - 141s 36ms/step - loss: 0.6929 - accuracy: 0.5217 - val_loss: 0.6929 - val_accuracy: 0.5367\n",
            "Epoch 5/100\n",
            "3920/3920 [==============================] - 142s 36ms/step - loss: 0.6927 - accuracy: 0.5306 - val_loss: 0.6929 - val_accuracy: 0.5337\n",
            "Epoch 6/100\n",
            "3920/3920 [==============================] - 141s 36ms/step - loss: 0.6927 - accuracy: 0.5316 - val_loss: 0.6928 - val_accuracy: 0.5378\n",
            "Epoch 7/100\n",
            "3920/3920 [==============================] - 139s 36ms/step - loss: 0.6929 - accuracy: 0.5204 - val_loss: 0.6928 - val_accuracy: 0.5418\n",
            "Epoch 8/100\n",
            "3920/3920 [==============================] - 140s 36ms/step - loss: 0.6926 - accuracy: 0.5324 - val_loss: 0.6927 - val_accuracy: 0.5398\n",
            "Epoch 9/100\n",
            "3920/3920 [==============================] - 139s 36ms/step - loss: 0.6925 - accuracy: 0.5421 - val_loss: 0.6926 - val_accuracy: 0.5449\n",
            "Epoch 10/100\n",
            "3920/3920 [==============================] - 140s 36ms/step - loss: 0.6924 - accuracy: 0.5444 - val_loss: 0.6926 - val_accuracy: 0.5388\n",
            "Epoch 11/100\n",
            "3920/3920 [==============================] - 141s 36ms/step - loss: 0.6924 - accuracy: 0.5380 - val_loss: 0.6925 - val_accuracy: 0.5418\n",
            "Epoch 12/100\n",
            "3920/3920 [==============================] - 142s 36ms/step - loss: 0.6923 - accuracy: 0.5395 - val_loss: 0.6924 - val_accuracy: 0.5500\n",
            "Epoch 13/100\n",
            "3920/3920 [==============================] - 142s 36ms/step - loss: 0.6924 - accuracy: 0.5411 - val_loss: 0.6924 - val_accuracy: 0.5459\n",
            "Epoch 14/100\n",
            "3920/3920 [==============================] - 141s 36ms/step - loss: 0.6920 - accuracy: 0.5551 - val_loss: 0.6923 - val_accuracy: 0.5459\n",
            "Epoch 15/100\n",
            "3920/3920 [==============================] - 142s 36ms/step - loss: 0.6920 - accuracy: 0.5503 - val_loss: 0.6922 - val_accuracy: 0.5459\n",
            "Epoch 16/100\n",
            "3920/3920 [==============================] - 141s 36ms/step - loss: 0.6919 - accuracy: 0.5564 - val_loss: 0.6921 - val_accuracy: 0.5510\n",
            "Epoch 17/100\n",
            "3920/3920 [==============================] - 140s 36ms/step - loss: 0.6919 - accuracy: 0.5574 - val_loss: 0.6920 - val_accuracy: 0.5480\n",
            "Epoch 18/100\n",
            "3920/3920 [==============================] - 140s 36ms/step - loss: 0.6917 - accuracy: 0.5656 - val_loss: 0.6919 - val_accuracy: 0.5449\n",
            "Epoch 19/100\n",
            "3920/3920 [==============================] - 141s 36ms/step - loss: 0.6914 - accuracy: 0.5651 - val_loss: 0.6918 - val_accuracy: 0.5490\n",
            "Epoch 20/100\n",
            "3920/3920 [==============================] - 140s 36ms/step - loss: 0.6911 - accuracy: 0.5740 - val_loss: 0.6916 - val_accuracy: 0.5531\n",
            "Epoch 21/100\n",
            "3920/3920 [==============================] - 140s 36ms/step - loss: 0.6909 - accuracy: 0.5750 - val_loss: 0.6914 - val_accuracy: 0.5561\n",
            "Epoch 22/100\n",
            "3920/3920 [==============================] - 140s 36ms/step - loss: 0.6907 - accuracy: 0.5844 - val_loss: 0.6912 - val_accuracy: 0.5551\n",
            "Epoch 23/100\n",
            "3920/3920 [==============================] - 139s 35ms/step - loss: 0.6906 - accuracy: 0.5786 - val_loss: 0.6910 - val_accuracy: 0.5582\n",
            "Epoch 24/100\n",
            "3920/3920 [==============================] - 138s 35ms/step - loss: 0.6899 - accuracy: 0.5878 - val_loss: 0.6908 - val_accuracy: 0.5541\n",
            "Epoch 25/100\n",
            "3920/3920 [==============================] - 141s 36ms/step - loss: 0.6899 - accuracy: 0.5747 - val_loss: 0.6905 - val_accuracy: 0.5612\n",
            "Epoch 26/100\n",
            "3920/3920 [==============================] - 139s 35ms/step - loss: 0.6893 - accuracy: 0.5714 - val_loss: 0.6902 - val_accuracy: 0.5643\n",
            "Epoch 27/100\n",
            "3920/3920 [==============================] - 140s 36ms/step - loss: 0.6888 - accuracy: 0.5883 - val_loss: 0.6898 - val_accuracy: 0.5684\n",
            "Epoch 28/100\n",
            "3920/3920 [==============================] - 141s 36ms/step - loss: 0.6885 - accuracy: 0.5811 - val_loss: 0.6893 - val_accuracy: 0.5643\n",
            "Epoch 29/100\n",
            "3920/3920 [==============================] - 141s 36ms/step - loss: 0.6875 - accuracy: 0.5862 - val_loss: 0.6887 - val_accuracy: 0.5643\n",
            "Epoch 30/100\n",
            "3920/3920 [==============================] - 140s 36ms/step - loss: 0.6861 - accuracy: 0.5842 - val_loss: 0.6879 - val_accuracy: 0.5541\n",
            "Epoch 31/100\n",
            "3920/3920 [==============================] - 140s 36ms/step - loss: 0.6850 - accuracy: 0.5865 - val_loss: 0.6871 - val_accuracy: 0.5633\n",
            "Epoch 32/100\n",
            "3920/3920 [==============================] - 140s 36ms/step - loss: 0.6835 - accuracy: 0.5890 - val_loss: 0.6862 - val_accuracy: 0.5622\n",
            "Epoch 33/100\n",
            "3920/3920 [==============================] - 140s 36ms/step - loss: 0.6819 - accuracy: 0.5946 - val_loss: 0.6852 - val_accuracy: 0.5622\n",
            "Epoch 34/100\n",
            "3920/3920 [==============================] - 141s 36ms/step - loss: 0.6817 - accuracy: 0.5834 - val_loss: 0.6843 - val_accuracy: 0.5684\n",
            "Epoch 35/100\n",
            "3920/3920 [==============================] - 140s 36ms/step - loss: 0.6792 - accuracy: 0.5959 - val_loss: 0.6836 - val_accuracy: 0.5714\n",
            "Epoch 36/100\n",
            "3920/3920 [==============================] - 141s 36ms/step - loss: 0.6786 - accuracy: 0.5857 - val_loss: 0.6826 - val_accuracy: 0.5694\n",
            "Epoch 37/100\n",
            "3920/3920 [==============================] - 141s 36ms/step - loss: 0.6759 - accuracy: 0.6020 - val_loss: 0.6813 - val_accuracy: 0.5684\n",
            "Epoch 38/100\n",
            "3920/3920 [==============================] - 141s 36ms/step - loss: 0.6748 - accuracy: 0.5954 - val_loss: 0.6800 - val_accuracy: 0.5765\n",
            "Epoch 39/100\n",
            "3920/3920 [==============================] - 140s 36ms/step - loss: 0.6765 - accuracy: 0.5967 - val_loss: 0.6796 - val_accuracy: 0.5673\n",
            "Epoch 40/100\n",
            "3920/3920 [==============================] - 140s 36ms/step - loss: 0.6745 - accuracy: 0.6028 - val_loss: 0.6791 - val_accuracy: 0.5724\n",
            "Epoch 41/100\n",
            "3920/3920 [==============================] - 140s 36ms/step - loss: 0.6710 - accuracy: 0.6107 - val_loss: 0.6779 - val_accuracy: 0.5724\n",
            "Epoch 42/100\n",
            "3920/3920 [==============================] - 139s 35ms/step - loss: 0.6701 - accuracy: 0.6184 - val_loss: 0.6768 - val_accuracy: 0.5847\n",
            "Epoch 43/100\n",
            "3920/3920 [==============================] - 141s 36ms/step - loss: 0.6660 - accuracy: 0.6112 - val_loss: 0.6756 - val_accuracy: 0.5765\n",
            "Epoch 44/100\n",
            "3920/3920 [==============================] - 140s 36ms/step - loss: 0.6691 - accuracy: 0.6013 - val_loss: 0.6746 - val_accuracy: 0.5878\n",
            "Epoch 45/100\n",
            "3920/3920 [==============================] - 141s 36ms/step - loss: 0.6656 - accuracy: 0.6224 - val_loss: 0.6741 - val_accuracy: 0.5939\n",
            "Epoch 46/100\n",
            "3920/3920 [==============================] - 140s 36ms/step - loss: 0.6653 - accuracy: 0.6196 - val_loss: 0.6739 - val_accuracy: 0.5878\n",
            "Epoch 47/100\n",
            "3920/3920 [==============================] - 140s 36ms/step - loss: 0.6617 - accuracy: 0.6191 - val_loss: 0.6720 - val_accuracy: 0.5888\n",
            "Epoch 48/100\n",
            "3920/3920 [==============================] - 141s 36ms/step - loss: 0.6632 - accuracy: 0.6212 - val_loss: 0.6710 - val_accuracy: 0.5867\n",
            "Epoch 49/100\n",
            "3920/3920 [==============================] - 140s 36ms/step - loss: 0.6599 - accuracy: 0.6255 - val_loss: 0.6708 - val_accuracy: 0.5918\n",
            "Epoch 50/100\n",
            "3920/3920 [==============================] - 140s 36ms/step - loss: 0.6588 - accuracy: 0.6156 - val_loss: 0.6696 - val_accuracy: 0.5908\n",
            "Epoch 51/100\n",
            "3920/3920 [==============================] - 139s 35ms/step - loss: 0.6553 - accuracy: 0.6260 - val_loss: 0.6689 - val_accuracy: 0.5918\n",
            "Epoch 52/100\n",
            "3920/3920 [==============================] - 140s 36ms/step - loss: 0.6570 - accuracy: 0.6268 - val_loss: 0.6684 - val_accuracy: 0.5837\n",
            "Epoch 53/100\n",
            "3920/3920 [==============================] - 140s 36ms/step - loss: 0.6561 - accuracy: 0.6367 - val_loss: 0.6677 - val_accuracy: 0.5857\n",
            "Epoch 54/100\n",
            "3920/3920 [==============================] - 140s 36ms/step - loss: 0.6519 - accuracy: 0.6316 - val_loss: 0.6667 - val_accuracy: 0.5888\n",
            "Epoch 55/100\n",
            "3920/3920 [==============================] - 140s 36ms/step - loss: 0.6518 - accuracy: 0.6270 - val_loss: 0.6658 - val_accuracy: 0.5857\n",
            "Epoch 56/100\n",
            "3920/3920 [==============================] - 139s 35ms/step - loss: 0.6516 - accuracy: 0.6342 - val_loss: 0.6661 - val_accuracy: 0.5980\n",
            "Epoch 57/100\n",
            "3920/3920 [==============================] - 142s 36ms/step - loss: 0.6499 - accuracy: 0.6372 - val_loss: 0.6656 - val_accuracy: 0.5898\n",
            "Epoch 58/100\n",
            "3920/3920 [==============================] - 139s 36ms/step - loss: 0.6494 - accuracy: 0.6446 - val_loss: 0.6644 - val_accuracy: 0.5949\n",
            "Epoch 59/100\n",
            "3920/3920 [==============================] - 140s 36ms/step - loss: 0.6473 - accuracy: 0.6459 - val_loss: 0.6636 - val_accuracy: 0.5898\n",
            "Epoch 60/100\n",
            "3920/3920 [==============================] - 141s 36ms/step - loss: 0.6451 - accuracy: 0.6431 - val_loss: 0.6630 - val_accuracy: 0.5888\n",
            "Epoch 61/100\n",
            "3920/3920 [==============================] - 141s 36ms/step - loss: 0.6439 - accuracy: 0.6464 - val_loss: 0.6619 - val_accuracy: 0.5939\n",
            "Epoch 62/100\n",
            "3920/3920 [==============================] - 140s 36ms/step - loss: 0.6393 - accuracy: 0.6474 - val_loss: 0.6615 - val_accuracy: 0.5939\n",
            "Epoch 63/100\n",
            "3920/3920 [==============================] - 141s 36ms/step - loss: 0.6441 - accuracy: 0.6413 - val_loss: 0.6619 - val_accuracy: 0.5929\n",
            "Epoch 64/100\n",
            "3920/3920 [==============================] - 140s 36ms/step - loss: 0.6420 - accuracy: 0.6472 - val_loss: 0.6614 - val_accuracy: 0.5959\n",
            "Epoch 65/100\n",
            "3920/3920 [==============================] - 140s 36ms/step - loss: 0.6392 - accuracy: 0.6487 - val_loss: 0.6609 - val_accuracy: 0.5959\n",
            "Epoch 66/100\n",
            "3920/3920 [==============================] - 141s 36ms/step - loss: 0.6393 - accuracy: 0.6497 - val_loss: 0.6607 - val_accuracy: 0.6000\n",
            "Epoch 67/100\n",
            "3920/3920 [==============================] - 140s 36ms/step - loss: 0.6448 - accuracy: 0.6434 - val_loss: 0.6600 - val_accuracy: 0.6020\n",
            "Epoch 68/100\n",
            "3920/3920 [==============================] - 140s 36ms/step - loss: 0.6356 - accuracy: 0.6492 - val_loss: 0.6587 - val_accuracy: 0.6071\n",
            "Epoch 69/100\n",
            "3920/3920 [==============================] - 139s 36ms/step - loss: 0.6373 - accuracy: 0.6490 - val_loss: 0.6585 - val_accuracy: 0.6122\n",
            "Epoch 70/100\n",
            "3920/3920 [==============================] - 141s 36ms/step - loss: 0.6360 - accuracy: 0.6482 - val_loss: 0.6589 - val_accuracy: 0.5980\n",
            "Epoch 71/100\n",
            "3920/3920 [==============================] - 141s 36ms/step - loss: 0.6373 - accuracy: 0.6564 - val_loss: 0.6591 - val_accuracy: 0.6051\n",
            "Epoch 72/100\n",
            "3920/3920 [==============================] - 142s 36ms/step - loss: 0.6368 - accuracy: 0.6513 - val_loss: 0.6581 - val_accuracy: 0.6031\n",
            "Epoch 73/100\n",
            "3920/3920 [==============================] - 139s 36ms/step - loss: 0.6262 - accuracy: 0.6615 - val_loss: 0.6575 - val_accuracy: 0.6071\n",
            "Epoch 74/100\n",
            "3920/3920 [==============================] - 141s 36ms/step - loss: 0.6356 - accuracy: 0.6538 - val_loss: 0.6576 - val_accuracy: 0.6092\n",
            "Epoch 75/100\n",
            "3920/3920 [==============================] - 140s 36ms/step - loss: 0.6331 - accuracy: 0.6551 - val_loss: 0.6574 - val_accuracy: 0.6082\n",
            "Epoch 76/100\n",
            "3920/3920 [==============================] - 141s 36ms/step - loss: 0.6252 - accuracy: 0.6696 - val_loss: 0.6559 - val_accuracy: 0.6092\n",
            "Epoch 77/100\n",
            "3920/3920 [==============================] - 141s 36ms/step - loss: 0.6317 - accuracy: 0.6605 - val_loss: 0.6567 - val_accuracy: 0.6184\n",
            "Epoch 78/100\n",
            "3920/3920 [==============================] - 141s 36ms/step - loss: 0.6254 - accuracy: 0.6648 - val_loss: 0.6570 - val_accuracy: 0.6173\n",
            "Epoch 79/100\n",
            "3920/3920 [==============================] - 142s 36ms/step - loss: 0.6283 - accuracy: 0.6602 - val_loss: 0.6555 - val_accuracy: 0.6194\n",
            "Epoch 80/100\n",
            "3920/3920 [==============================] - 142s 36ms/step - loss: 0.6222 - accuracy: 0.6597 - val_loss: 0.6549 - val_accuracy: 0.6163\n",
            "Epoch 81/100\n",
            "3920/3920 [==============================] - 142s 36ms/step - loss: 0.6247 - accuracy: 0.6661 - val_loss: 0.6548 - val_accuracy: 0.6173\n",
            "Epoch 82/100\n",
            "3920/3920 [==============================] - 142s 36ms/step - loss: 0.6253 - accuracy: 0.6686 - val_loss: 0.6551 - val_accuracy: 0.6204\n",
            "Epoch 83/100\n",
            "3920/3920 [==============================] - 142s 36ms/step - loss: 0.6233 - accuracy: 0.6638 - val_loss: 0.6548 - val_accuracy: 0.6163\n",
            "Epoch 84/100\n",
            "3920/3920 [==============================] - 142s 36ms/step - loss: 0.6226 - accuracy: 0.6656 - val_loss: 0.6557 - val_accuracy: 0.6112\n",
            "Epoch 85/100\n",
            "3920/3920 [==============================] - 140s 36ms/step - loss: 0.6268 - accuracy: 0.6622 - val_loss: 0.6546 - val_accuracy: 0.6214\n",
            "Epoch 86/100\n",
            "3920/3920 [==============================] - 141s 36ms/step - loss: 0.6190 - accuracy: 0.6704 - val_loss: 0.6538 - val_accuracy: 0.6133\n",
            "Epoch 87/100\n",
            "3920/3920 [==============================] - 140s 36ms/step - loss: 0.6170 - accuracy: 0.6735 - val_loss: 0.6530 - val_accuracy: 0.6153\n",
            "Epoch 88/100\n",
            "3920/3920 [==============================] - 141s 36ms/step - loss: 0.6200 - accuracy: 0.6679 - val_loss: 0.6534 - val_accuracy: 0.6184\n",
            "Epoch 89/100\n",
            "3920/3920 [==============================] - 141s 36ms/step - loss: 0.6224 - accuracy: 0.6635 - val_loss: 0.6535 - val_accuracy: 0.6163\n",
            "Epoch 90/100\n",
            "3920/3920 [==============================] - 142s 36ms/step - loss: 0.6154 - accuracy: 0.6745 - val_loss: 0.6534 - val_accuracy: 0.6163\n",
            "Epoch 91/100\n",
            "3920/3920 [==============================] - 141s 36ms/step - loss: 0.6174 - accuracy: 0.6717 - val_loss: 0.6527 - val_accuracy: 0.6173\n",
            "Epoch 92/100\n",
            "3920/3920 [==============================] - 142s 36ms/step - loss: 0.6166 - accuracy: 0.6735 - val_loss: 0.6526 - val_accuracy: 0.6163\n",
            "Epoch 93/100\n",
            "3920/3920 [==============================] - 141s 36ms/step - loss: 0.6137 - accuracy: 0.6717 - val_loss: 0.6521 - val_accuracy: 0.6153\n",
            "Epoch 94/100\n",
            "3920/3920 [==============================] - 142s 36ms/step - loss: 0.6165 - accuracy: 0.6753 - val_loss: 0.6524 - val_accuracy: 0.6133\n",
            "Epoch 95/100\n",
            "3920/3920 [==============================] - 143s 36ms/step - loss: 0.6142 - accuracy: 0.6801 - val_loss: 0.6527 - val_accuracy: 0.6112\n",
            "Epoch 96/100\n",
            "3920/3920 [==============================] - 141s 36ms/step - loss: 0.6095 - accuracy: 0.6747 - val_loss: 0.6521 - val_accuracy: 0.6173\n",
            "Epoch 97/100\n",
            "3920/3920 [==============================] - 140s 36ms/step - loss: 0.6076 - accuracy: 0.6857 - val_loss: 0.6524 - val_accuracy: 0.6194\n",
            "Epoch 98/100\n",
            "3920/3920 [==============================] - 141s 36ms/step - loss: 0.6084 - accuracy: 0.6773 - val_loss: 0.6526 - val_accuracy: 0.6173\n",
            "Epoch 99/100\n",
            "3920/3920 [==============================] - 140s 36ms/step - loss: 0.6093 - accuracy: 0.6712 - val_loss: 0.6531 - val_accuracy: 0.6163\n",
            "Epoch 100/100\n",
            "3920/3920 [==============================] - 141s 36ms/step - loss: 0.6108 - accuracy: 0.6732 - val_loss: 0.6535 - val_accuracy: 0.6184\n"
          ],
          "name": "stdout"
        }
      ]
    },
    {
      "cell_type": "code",
      "metadata": {
        "id": "A2sf4-u84RnY",
        "colab_type": "code",
        "colab": {
          "base_uri": "https://localhost:8080/",
          "height": 68
        },
        "outputId": "68987a80-f1f9-4f91-ce01-b2e0b7687446"
      },
      "source": [
        "  print(model.metrics_names)\n",
        "model.evaluate(X_test, y_test, batch_size=64)"
      ],
      "execution_count": null,
      "outputs": [
        {
          "output_type": "stream",
          "text": [
            "['loss', 'accuracy']\n",
            "1342/1342 [==============================] - 4s 3ms/step\n"
          ],
          "name": "stdout"
        },
        {
          "output_type": "execute_result",
          "data": {
            "text/plain": [
              "[0.6477374088035788, 0.628166913986206]"
            ]
          },
          "metadata": {
            "tags": []
          },
          "execution_count": 25
        }
      ]
    },
    {
      "cell_type": "code",
      "metadata": {
        "id": "Hbh1kpApb622",
        "colab_type": "code",
        "colab": {
          "base_uri": "https://localhost:8080/",
          "height": 204
        },
        "outputId": "c120c5d9-bcd4-457d-e3f3-7c7c67cad621"
      },
      "source": [
        "from sklearn.metrics import classification_report, roc_auc_score\n",
        "\n",
        "y_pred = model.predict(X_test, batch_size=64, verbose=1)\n",
        "y_pred = np.argmax(y_pred, axis=1)\n",
        "\n",
        "y_test_raw = df_test['READM_WITHIN_30']\n",
        "\n",
        "print(classification_report(y_test_raw, y_pred, digits=3))\n",
        "print(roc_auc_score(y_test_raw, y_pred))"
      ],
      "execution_count": null,
      "outputs": [
        {
          "output_type": "stream",
          "text": [
            "1342/1342 [==============================] - 4s 3ms/step\n",
            "              precision    recall  f1-score   support\n",
            "\n",
            "           0      0.647     0.563     0.602       671\n",
            "           1      0.613     0.693     0.651       671\n",
            "\n",
            "    accuracy                          0.628      1342\n",
            "   macro avg      0.630     0.628     0.627      1342\n",
            "weighted avg      0.630     0.628     0.627      1342\n",
            "\n",
            "0.6281669150521609\n"
          ],
          "name": "stdout"
        }
      ]
    },
    {
      "cell_type": "code",
      "metadata": {
        "id": "SGWn_I8IAS_f",
        "colab_type": "code",
        "colab": {
          "base_uri": "https://localhost:8080/",
          "height": 292
        },
        "outputId": "6810f964-7fb9-493e-e44a-691c790cb307"
      },
      "source": [
        "sns.set('talk', 'whitegrid', 'dark', font_scale=0.7,\n",
        "        rc={\"lines.linewidth\": 1, 'grid.linestyle': '--'})\n",
        "\n",
        "fig, ax = plt.subplots(nrows=1, ncols=2, figsize=(9, 4))\n",
        "\n",
        "ax[0].plot(history.history['accuracy'])\n",
        "ax[0].plot(history.history['val_accuracy'])\n",
        "ax[0].set_title('Model accuracy')\n",
        "ax[0].set_ylabel('Accuracy')\n",
        "ax[0].set_xlabel('Epoch')\n",
        "ax[0].legend(['Train', 'Test'], loc='upper left')\n",
        "\n",
        "ax[1].plot(history.history['loss'])\n",
        "ax[1].plot(history.history['val_loss'])\n",
        "ax[1].set_title('Model loss')\n",
        "ax[1].set_ylabel('Loss')\n",
        "ax[1].set_xlabel('Epoch')\n",
        "ax[1].legend(['Train', 'Test'], loc='upper left')\n",
        "\n",
        "fig.tight_layout()\n",
        "plt.show()"
      ],
      "execution_count": null,
      "outputs": [
        {
          "output_type": "display_data",
          "data": {
            "image/png": "[encoded data removed]",
            "text/plain": [
              "<Figure size 648x288 with 2 Axes>"
            ]
          },
          "metadata": {
            "tags": []
          }
        }
      ]
    }
  ]
}