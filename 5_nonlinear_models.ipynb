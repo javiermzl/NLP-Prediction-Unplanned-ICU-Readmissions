{
 "nbformat": 4,
 "nbformat_minor": 2,
 "metadata": {
  "language_info": {
   "name": "python",
   "codemirror_mode": {
    "name": "ipython",
    "version": 3
   },
   "version": "3.7.4-final"
  },
  "orig_nbformat": 2,
  "file_extension": ".py",
  "mimetype": "text/x-python",
  "name": "python",
  "npconvert_exporter": "python",
  "pygments_lexer": "ipython3",
  "version": 3,
  "kernelspec": {
   "name": "python37464bita07fc30724e44bf79f33747589a05ca4",
   "display_name": "Python 3.7.4 64-bit"
  }
 },
 "cells": [
  {
   "cell_type": "code",
   "execution_count": 1,
   "metadata": {},
   "outputs": [],
   "source": [
    "import pandas as pd\n",
    "import numpy as np\n",
    "import re\n",
    "import datetime\n",
    "import seaborn as sns\n",
    "import matplotlib.pyplot as plt"
   ]
  },
  {
   "cell_type": "code",
   "execution_count": 2,
   "metadata": {},
   "outputs": [],
   "source": [
    "DIR_ = \"C:/Users/javie/Documents/Workspace/MIMIC DATA/mimic-iii-clinical-database-1.4/\"\n",
    "DIR = \"D:/Workspace/MIMIC DATA/mimic-iii-clinical-database-1.4/\""
   ]
  },
  {
   "cell_type": "code",
   "execution_count": 3,
   "metadata": {},
   "outputs": [],
   "source": [
    "adm_notes = pd.read_csv(DIR + \"readmission.csv\", low_memory=False)"
   ]
  },
  {
   "cell_type": "markdown",
   "metadata": {},
   "source": [
    "# Natural Language"
   ]
  },
  {
   "cell_type": "code",
   "execution_count": 4,
   "metadata": {},
   "outputs": [],
   "source": [
    "import string\n",
    "import nltk\n",
    "from nltk import word_tokenize\n",
    "from nltk.stem.porter import PorterStemmer\n",
    "from nltk.corpus import stopwords"
   ]
  },
  {
   "cell_type": "code",
   "execution_count": 5,
   "metadata": {},
   "outputs": [],
   "source": [
    "def clean_text(texts):\n",
    "    texts = texts.fillna(' ')\n",
    "    texts = texts.str.replace('\\n',' ')\n",
    "    texts = texts.str.replace('\\r',' ')\n",
    "\n",
    "    table = str.maketrans('', '', string.punctuation + '0123456789')\n",
    "    texts = [text.lower().translate(table) for text in texts]\n",
    "\n",
    "    return texts"
   ]
  },
  {
   "cell_type": "code",
   "execution_count": 6,
   "metadata": {},
   "outputs": [],
   "source": [
    "adm_notes['TEXT'] = clean_text(adm_notes['TEXT'])"
   ]
  },
  {
   "cell_type": "code",
   "execution_count": 7,
   "metadata": {},
   "outputs": [],
   "source": [
    "stop_words = stopwords.words('english')\n",
    "stop_words = stop_words + ['patient', 'date', 'admission', 'discharge', 'lastname', 'firstname', 'sex']"
   ]
  },
  {
   "cell_type": "code",
   "execution_count": 8,
   "metadata": {},
   "outputs": [],
   "source": [
    "porter = PorterStemmer()"
   ]
  },
  {
   "cell_type": "code",
   "execution_count": 9,
   "metadata": {},
   "outputs": [],
   "source": [
    "def tokenize_stem(text):\n",
    "    words = word_tokenize(text)\n",
    "    words = [word for word in words if word not in stop_words]\n",
    "    words = [porter.stem(word) for word in words]\n",
    "    return words"
   ]
  },
  {
   "cell_type": "markdown",
   "metadata": {},
   "source": [
    "# Model\n",
    "## Words, Train and Test"
   ]
  },
  {
   "cell_type": "code",
   "execution_count": 10,
   "metadata": {},
   "outputs": [],
   "source": [
    "from sklearn import metrics\n",
    "from sklearn.feature_extraction.text import CountVectorizer\n",
    "from sklearn.linear_model import LogisticRegression, Ridge, Lasso, ElasticNet\n",
    "from sklearn.svm import SVC\n",
    "from sklearn.naive_bayes import MultinomialNB\n",
    "from sklearn.ensemble import RandomForestClassifier\n",
    "from sklearn.neural_network import MLPClassifier\n",
    "from sklearn.model_selection import GridSearchCV, train_test_split\n",
    "from xgboost import XGBClassifier"
   ]
  },
  {
   "cell_type": "markdown",
   "metadata": {},
   "source": [
    "Repartition data"
   ]
  },
  {
   "cell_type": "code",
   "execution_count": 11,
   "metadata": {},
   "outputs": [],
   "source": [
    "df_train, df_test = train_test_split(adm_notes, test_size=0.1)"
   ]
  },
  {
   "cell_type": "markdown",
   "metadata": {},
   "source": [
    "Subsample non-readmitted patients to match size of readmitted ones"
   ]
  },
  {
   "cell_type": "code",
   "execution_count": 12,
   "metadata": {},
   "outputs": [],
   "source": [
    "rows_pos = df_train['READM_WITHIN_30'] == 1\n",
    "df_train_pos = df_train.loc[rows_pos]\n",
    "df_train_neg = df_train.loc[~rows_pos]\n",
    "\n",
    "df_train = pd.concat([df_train_pos, df_train_neg.sample(n = len(df_train_pos))], axis = 0)\n",
    "df_train = df_train.sample(n = len(df_train)).reset_index(drop = True)"
   ]
  },
  {
   "cell_type": "markdown",
   "metadata": {},
   "source": [
    "Sparse Matrix with word count"
   ]
  },
  {
   "cell_type": "code",
   "execution_count": 13,
   "metadata": {},
   "outputs": [],
   "source": [
    "vect = CountVectorizer(lowercase = True, max_features = 3000, tokenizer = tokenize_stem)\n",
    "vect.fit(df_train['TEXT'].values)\n",
    "\n",
    "X_train_tf = vect.transform(df_train['TEXT'].values)\n",
    "X_test_tf = vect.transform(df_test['TEXT'].values)\n",
    "\n",
    "y_train = df_train['READM_WITHIN_30']\n",
    "y_test = df_test['READM_WITHIN_30']"
   ]
  },
  {
   "cell_type": "markdown",
   "metadata": {},
   "source": [
    "## Support Vector Machine"
   ]
  },
  {
   "cell_type": "code",
   "execution_count": 14,
   "metadata": {},
   "outputs": [],
   "source": [
    "grid = {\n",
    "    'kernel': ['linear', 'poly', 'rbf'],\n",
    "    'C': [0.1, 1, 2]\n",
    "}\n",
    "\n",
    "model_svm = GridSearchCV(SVC(), param_grid=grid)"
   ]
  },
  {
   "cell_type": "code",
   "execution_count": 15,
   "metadata": {},
   "outputs": [
    {
     "output_type": "execute_result",
     "data": {
      "text/plain": "GridSearchCV(cv=None, error_score=nan,\n             estimator=SVC(C=1.0, break_ties=False, cache_size=200,\n                           class_weight=None, coef0=0.0,\n                           decision_function_shape='ovr', degree=3,\n                           gamma='scale', kernel='rbf', max_iter=-1,\n                           probability=False, random_state=None, shrinking=True,\n                           tol=0.001, verbose=False),\n             iid='deprecated', n_jobs=None,\n             param_grid={'C': [0.1, 1, 2], 'kernel': ['linear', 'poly', 'rbf']},\n             pre_dispatch='2*n_jobs', refit=True, return_train_score=False,\n             scoring=None, verbose=0)"
     },
     "metadata": {},
     "execution_count": 15
    }
   ],
   "source": [
    "model_svm.fit(X_train_tf, y_train)"
   ]
  },
  {
   "cell_type": "code",
   "execution_count": 16,
   "metadata": {},
   "outputs": [
    {
     "output_type": "execute_result",
     "data": {
      "text/plain": "{'C': 2, 'kernel': 'rbf'}"
     },
     "metadata": {},
     "execution_count": 16
    }
   ],
   "source": [
    "model_svm.best_params_"
   ]
  },
  {
   "cell_type": "code",
   "execution_count": 17,
   "metadata": {},
   "outputs": [],
   "source": [
    "y_train_preds = model_svm.predict(X_train_tf)\n",
    "y_test_preds = model_svm.predict(X_test_tf)"
   ]
  },
  {
   "cell_type": "code",
   "execution_count": 18,
   "metadata": {},
   "outputs": [],
   "source": [
    "fpr, tpr, thresholds = metrics.roc_curve(y_train, y_train_preds)\n",
    "fprt, tprt, thresholds = metrics.roc_curve(y_test, y_test_preds)\n",
    "\n",
    "auc_train = metrics.auc(fpr, tpr)\n",
    "auc_test = metrics.auc(fprt, tprt)\n",
    "\n",
    "acc_train = metrics.accuracy_score(y_train, y_train_preds)\n",
    "acc_test = metrics.accuracy_score(y_test, y_test_preds)\n",
    "\n",
    "prec_train = metrics.precision_score(y_train, y_train_preds)\n",
    "prec_test = metrics.precision_score(y_test, y_test_preds)\n",
    "\n",
    "rec_train = metrics.recall_score(y_train, y_train_preds)\n",
    "rec_test = metrics.recall_score(y_test, y_test_preds)"
   ]
  },
  {
   "cell_type": "code",
   "execution_count": 19,
   "metadata": {},
   "outputs": [
    {
     "output_type": "stream",
     "name": "stdout",
     "text": "Set\t\t Train\t\t    Test\nAUC\t\t 0.8610121168923734 0.6326717695138747\nAccuracy\t 0.8610121168923734 0.6088682991396426\nPrecission\t 0.856439127375088 0.11099252934898612\nRecall\t\t 0.8674269422665716 0.6603174603174603\n"
    }
   ],
   "source": [
    "print('Set\\t\\t', 'Train\\t\\t', '   Test')\n",
    "print('AUC\\t\\t', auc_train, auc_test)\n",
    "print('Accuracy\\t', acc_train, acc_test)\n",
    "print('Precission\\t', prec_train, prec_test)\n",
    "print('Recall\\t\\t', rec_train, rec_test)"
   ]
  },
  {
   "cell_type": "markdown",
   "metadata": {},
   "source": [
    "## Multi-layer Perceptron"
   ]
  },
  {
   "cell_type": "code",
   "execution_count": 20,
   "metadata": {},
   "outputs": [],
   "source": [
    "grid = {\n",
    "    'alpha': [1e-1, 1e-2, 1e-3, 1e-4, 1e-5],\n",
    "    'solver': ['adam', 'sgd', 'lbfgs'],\n",
    "    'learning_rate_init': [0.01,0.001,0.0001]\n",
    "}\n",
    "\n",
    "model_mlp = GridSearchCV(MLPClassifier(hidden_layer_sizes=(10, 2)), param_grid=grid)"
   ]
  },
  {
   "cell_type": "code",
   "execution_count": 21,
   "metadata": {},
   "outputs": [
    {
     "output_type": "execute_result",
     "data": {
      "text/plain": "GridSearchCV(cv=None, error_score=nan,\n             estimator=MLPClassifier(activation='relu', alpha=0.0001,\n                                     batch_size='auto', beta_1=0.9,\n                                     beta_2=0.999, early_stopping=False,\n                                     epsilon=1e-08, hidden_layer_sizes=(10, 2),\n                                     learning_rate='constant',\n                                     learning_rate_init=0.001, max_fun=15000,\n                                     max_iter=200, momentum=0.9,\n                                     n_iter_no_change=10,\n                                     nesterovs_momentum=True, power_t=0.5,\n                                     random_state=None, shuffle=True,\n                                     solver='adam', tol=0.0001,\n                                     validation_fraction=0.1, verbose=False,\n                                     warm_start=False),\n             iid='deprecated', n_jobs=None,\n             param_grid={'alpha': [0.1, 0.01, 0.001, 0.0001, 1e-05],\n                         'learning_rate_init': [0.01, 0.001, 0.0001],\n                         'solver': ['adam', 'sgd', 'lbfgs']},\n             pre_dispatch='2*n_jobs', refit=True, return_train_score=False,\n             scoring=None, verbose=0)"
     },
     "metadata": {},
     "execution_count": 21
    }
   ],
   "source": [
    "model_mlp.fit(X_train_tf, y_train)"
   ]
  },
  {
   "cell_type": "code",
   "execution_count": 22,
   "metadata": {},
   "outputs": [
    {
     "output_type": "execute_result",
     "data": {
      "text/plain": "{'alpha': 0.0001, 'learning_rate_init': 0.0001, 'solver': 'sgd'}"
     },
     "metadata": {},
     "execution_count": 22
    }
   ],
   "source": [
    "model_mlp.best_params_"
   ]
  },
  {
   "cell_type": "code",
   "execution_count": 23,
   "metadata": {},
   "outputs": [],
   "source": [
    "y_train_preds = model_mlp.predict(X_train_tf)\n",
    "y_test_preds = model_mlp.predict(X_test_tf)"
   ]
  },
  {
   "cell_type": "code",
   "execution_count": 24,
   "metadata": {},
   "outputs": [],
   "source": [
    "fpr, tpr, thresholds = metrics.roc_curve(y_train, y_train_preds)\n",
    "fprt, tprt, thresholds = metrics.roc_curve(y_test, y_test_preds)\n",
    "\n",
    "auc_train = metrics.auc(fpr, tpr)\n",
    "auc_test = metrics.auc(fprt, tprt)\n",
    "\n",
    "acc_train = metrics.accuracy_score(y_train, y_train_preds)\n",
    "acc_test = metrics.accuracy_score(y_test, y_test_preds)\n",
    "\n",
    "prec_train = metrics.precision_score(y_train, y_train_preds)\n",
    "prec_test = metrics.precision_score(y_test, y_test_preds)\n",
    "\n",
    "rec_train = metrics.recall_score(y_train, y_train_preds)\n",
    "rec_test = metrics.recall_score(y_test, y_test_preds)"
   ]
  },
  {
   "cell_type": "code",
   "execution_count": 25,
   "metadata": {},
   "outputs": [
    {
     "output_type": "stream",
     "name": "stdout",
     "text": "Set\t\t Train\t\t    Test\nAUC\t\t 0.682287954383464 0.6133294949084422\nAccuracy\t 0.682287954383464 0.5810721376571807\nPrecission\t 0.6730964467005076 0.10280842527582748\nRecall\t\t 0.7088382038488952 0.6507936507936508\n"
    }
   ],
   "source": [
    "print('Set\\t\\t', 'Train\\t\\t', '   Test')\n",
    "print('AUC\\t\\t', auc_train, auc_test)\n",
    "print('Accuracy\\t', acc_train, acc_test)\n",
    "print('Precission\\t', prec_train, prec_test)\n",
    "print('Recall\\t\\t', rec_train, rec_test)"
   ]
  },
  {
   "cell_type": "markdown",
   "metadata": {},
   "source": [
    "## Random Forest"
   ]
  },
  {
   "cell_type": "code",
   "execution_count": 26,
   "metadata": {},
   "outputs": [],
   "source": [
    "grid = {\n",
    "    'max_depth': [10, 20, 30, 40],\n",
    "    'max_features': ['auto', 'sqrt'],\n",
    "    'min_samples_leaf': [1, 2],\n",
    "    'min_samples_split': [2, 5],\n",
    "    'n_estimators': [100, 200, 300]\n",
    "}\n",
    "model_rf = GridSearchCV(RandomForestClassifier(bootstrap=False), param_grid=grid)"
   ]
  },
  {
   "cell_type": "code",
   "execution_count": 27,
   "metadata": {},
   "outputs": [
    {
     "output_type": "execute_result",
     "data": {
      "text/plain": "GridSearchCV(cv=None, error_score=nan,\n             estimator=RandomForestClassifier(bootstrap=False, ccp_alpha=0.0,\n                                              class_weight=None,\n                                              criterion='gini', max_depth=None,\n                                              max_features='auto',\n                                              max_leaf_nodes=None,\n                                              max_samples=None,\n                                              min_impurity_decrease=0.0,\n                                              min_impurity_split=None,\n                                              min_samples_leaf=1,\n                                              min_samples_split=2,\n                                              min_weight_fraction_leaf=0.0,\n                                              n_estimators=100, n_jobs=None,\n                                              oob_score=False,\n                                              random_state=None, verbose=0,\n                                              warm_start=False),\n             iid='deprecated', n_jobs=None,\n             param_grid={'max_depth': [10, 20, 30, 40],\n                         'max_features': ['auto', 'sqrt'],\n                         'min_samples_leaf': [1, 2],\n                         'min_samples_split': [2, 5],\n                         'n_estimators': [100, 200, 300]},\n             pre_dispatch='2*n_jobs', refit=True, return_train_score=False,\n             scoring=None, verbose=0)"
     },
     "metadata": {},
     "execution_count": 27
    }
   ],
   "source": [
    "model_rf.fit(X_train_tf, y_train)"
   ]
  },
  {
   "cell_type": "code",
   "execution_count": 28,
   "metadata": {},
   "outputs": [
    {
     "output_type": "execute_result",
     "data": {
      "text/plain": "{'max_depth': 40,\n 'max_features': 'sqrt',\n 'min_samples_leaf': 1,\n 'min_samples_split': 5,\n 'n_estimators': 200}"
     },
     "metadata": {},
     "execution_count": 28
    }
   ],
   "source": [
    "model_rf.best_params_"
   ]
  },
  {
   "cell_type": "code",
   "execution_count": 29,
   "metadata": {},
   "outputs": [],
   "source": [
    "y_train_preds = model_rf.predict(X_train_tf)\n",
    "y_test_preds = model_rf.predict(X_test_tf)"
   ]
  },
  {
   "cell_type": "code",
   "execution_count": 30,
   "metadata": {},
   "outputs": [],
   "source": [
    "fpr, tpr, thresholds = metrics.roc_curve(y_train, y_train_preds)\n",
    "fprt, tprt, thresholds = metrics.roc_curve(y_test, y_test_preds)\n",
    "\n",
    "auc_train = metrics.auc(fpr, tpr)\n",
    "auc_test = metrics.auc(fprt, tprt)\n",
    "\n",
    "acc_train = metrics.accuracy_score(y_train, y_train_preds)\n",
    "acc_test = metrics.accuracy_score(y_test, y_test_preds)\n",
    "\n",
    "prec_train = metrics.precision_score(y_train, y_train_preds)\n",
    "prec_test = metrics.precision_score(y_test, y_test_preds)\n",
    "\n",
    "rec_train = metrics.recall_score(y_train, y_train_preds)\n",
    "rec_test = metrics.recall_score(y_test, y_test_preds)"
   ]
  },
  {
   "cell_type": "code",
   "execution_count": 31,
   "metadata": {},
   "outputs": [
    {
     "output_type": "stream",
     "name": "stdout",
     "text": "Set\t\t Train\t\t    Test\nAUC\t\t 0.9871703492516036 0.6346463004357741\nAccuracy\t 0.9871703492516037 0.628943304654754\nPrecission\t 0.9989051094890511 0.11405985319028797\nRecall\t\t 0.9754098360655737 0.6412698412698413\n"
    }
   ],
   "source": [
    "print('Set\\t\\t', 'Train\\t\\t', '   Test')\n",
    "print('AUC\\t\\t', auc_train, auc_test)\n",
    "print('Accuracy\\t', acc_train, acc_test)\n",
    "print('Precission\\t', prec_train, prec_test)\n",
    "print('Recall\\t\\t', rec_train, rec_test)"
   ]
  },
  {
   "cell_type": "markdown",
   "metadata": {},
   "source": [
    "## Naive Bayes"
   ]
  },
  {
   "cell_type": "code",
   "execution_count": 32,
   "metadata": {},
   "outputs": [],
   "source": [
    "grid = {'alpha': [10, 1, 0, 0.1, 0.01, 0.001]}\n",
    "\n",
    "model_nb = GridSearchCV(MultinomialNB(), param_grid=grid)"
   ]
  },
  {
   "cell_type": "code",
   "execution_count": 33,
   "metadata": {},
   "outputs": [
    {
     "output_type": "execute_result",
     "data": {
      "text/plain": "GridSearchCV(cv=None, error_score=nan,\n             estimator=MultinomialNB(alpha=1.0, class_prior=None,\n                                     fit_prior=True),\n             iid='deprecated', n_jobs=None,\n             param_grid={'alpha': [10, 1, 0, 0.1, 0.01, 0.001]},\n             pre_dispatch='2*n_jobs', refit=True, return_train_score=False,\n             scoring=None, verbose=0)"
     },
     "metadata": {},
     "execution_count": 33
    }
   ],
   "source": [
    "model_nb.fit(X_train_tf, y_train)"
   ]
  },
  {
   "cell_type": "code",
   "execution_count": 34,
   "metadata": {},
   "outputs": [
    {
     "output_type": "execute_result",
     "data": {
      "text/plain": "{'alpha': 1}"
     },
     "metadata": {},
     "execution_count": 34
    }
   ],
   "source": [
    "model_nb.best_params_"
   ]
  },
  {
   "cell_type": "code",
   "execution_count": 35,
   "metadata": {},
   "outputs": [],
   "source": [
    "y_train_preds = model_nb.predict(X_train_tf)\n",
    "y_test_preds = model_nb.predict(X_test_tf)"
   ]
  },
  {
   "cell_type": "code",
   "execution_count": 36,
   "metadata": {},
   "outputs": [],
   "source": [
    "fpr, tpr, thresholds = metrics.roc_curve(y_train, y_train_preds)\n",
    "fprt, tprt, thresholds = metrics.roc_curve(y_test, y_test_preds)\n",
    "\n",
    "auc_train = metrics.auc(fpr, tpr)\n",
    "auc_test = metrics.auc(fprt, tprt)\n",
    "\n",
    "acc_train = metrics.accuracy_score(y_train, y_train_preds)\n",
    "acc_test = metrics.accuracy_score(y_test, y_test_preds)\n",
    "\n",
    "prec_train = metrics.precision_score(y_train, y_train_preds)\n",
    "prec_test = metrics.precision_score(y_test, y_test_preds)\n",
    "\n",
    "rec_train = metrics.recall_score(y_train, y_train_preds)\n",
    "rec_test = metrics.recall_score(y_test, y_test_preds)"
   ]
  },
  {
   "cell_type": "code",
   "execution_count": 37,
   "metadata": {},
   "outputs": [
    {
     "output_type": "stream",
     "name": "stdout",
     "text": "Set\t\t Train\t\t    Test\nAUC\t\t 0.6457590876692801 0.6232744022217707\nAccuracy\t 0.6457590876692801 0.6843150231634679\nPrecission\t 0.6661251015434606 0.11885245901639344\nRecall\t\t 0.5844618674269423 0.5523809523809524\n"
    }
   ],
   "source": [
    "print('Set\\t\\t', 'Train\\t\\t', '   Test')\n",
    "print('AUC\\t\\t', auc_train, auc_test)\n",
    "print('Accuracy\\t', acc_train, acc_test)\n",
    "print('Precission\\t', prec_train, prec_test)\n",
    "print('Recall\\t\\t', rec_train, rec_test)"
   ]
  },
  {
   "cell_type": "markdown",
   "metadata": {},
   "source": [
    "There is no improvement when using the whole Dataset with ComplementNB, same scores on test"
   ]
  },
  {
   "cell_type": "markdown",
   "metadata": {},
   "source": [
    "## XGBoost"
   ]
  },
  {
   "cell_type": "code",
   "execution_count": 43,
   "metadata": {},
   "outputs": [],
   "source": [
    "params = {\n",
    "    'min_child_weight': [1, 5, 10],\n",
    "    'gamma': [0.5, 1, 1.5, 2, 5],\n",
    "    'subsample': [0.6, 0.8, 1.0],\n",
    "    'colsample_bytree': [0.6, 0.8, 1.0],\n",
    "    'max_depth': [3, 4, 5],\n",
    "    'eta': [0.1,0.01,0.001,0.0001]\n",
    "}\n",
    "\n",
    "model_xgb = GridSearchCV(XGBClassifier(), param_grid=grid)"
   ]
  },
  {
   "cell_type": "code",
   "execution_count": 44,
   "metadata": {},
   "outputs": [
    {
     "output_type": "execute_result",
     "data": {
      "text/plain": "GridSearchCV(cv=None, error_score=nan,\n             estimator=XGBClassifier(base_score=None, booster=None,\n                                     colsample_bylevel=None,\n                                     colsample_bynode=None,\n                                     colsample_bytree=None, gamma=None,\n                                     gpu_id=None, importance_type='gain',\n                                     interaction_constraints=None,\n                                     learning_rate=None, max_delta_step=None,\n                                     max_depth=None, min_child_weight=None,\n                                     missing=nan, monotone_constraints=None,\n                                     n_es...\n                                     num_parallel_tree=None,\n                                     objective='binary:logistic',\n                                     random_state=None, reg_alpha=None,\n                                     reg_lambda=None, scale_pos_weight=None,\n                                     subsample=None, tree_method=None,\n                                     validate_parameters=False,\n                                     verbosity=None),\n             iid='deprecated', n_jobs=None,\n             param_grid={'alpha': [10, 1, 0, 0.1, 0.01, 0.001]},\n             pre_dispatch='2*n_jobs', refit=True, return_train_score=False,\n             scoring=None, verbose=0)"
     },
     "metadata": {},
     "execution_count": 44
    }
   ],
   "source": [
    "model_xgb.fit(X_train_tf, y_train)"
   ]
  },
  {
   "cell_type": "code",
   "execution_count": 45,
   "metadata": {},
   "outputs": [],
   "source": [
    "y_train_preds = model_xgb.predict(X_train_tf)\n",
    "y_test_preds = model_xgb.predict(X_test_tf)"
   ]
  },
  {
   "cell_type": "code",
   "execution_count": 46,
   "metadata": {},
   "outputs": [],
   "source": [
    "fpr, tpr, thresholds = metrics.roc_curve(y_train, y_train_preds)\n",
    "fprt, tprt, thresholds = metrics.roc_curve(y_test, y_test_preds)\n",
    "\n",
    "auc_train = metrics.auc(fpr, tpr)\n",
    "auc_test = metrics.auc(fprt, tprt)\n",
    "\n",
    "acc_train = metrics.accuracy_score(y_train, y_train_preds)\n",
    "acc_test = metrics.accuracy_score(y_test, y_test_preds)\n",
    "\n",
    "prec_train = metrics.precision_score(y_train, y_train_preds)\n",
    "prec_test = metrics.precision_score(y_test, y_test_preds)\n",
    "\n",
    "rec_train = metrics.recall_score(y_train, y_train_preds)\n",
    "rec_test = metrics.recall_score(y_test, y_test_preds)"
   ]
  },
  {
   "cell_type": "code",
   "execution_count": 47,
   "metadata": {},
   "outputs": [
    {
     "output_type": "stream",
     "name": "stdout",
     "text": "Set\t\t Train\t\t    Test\nAUC\t\t 0.9754098360655739 0.6292916977127504\nAccuracy\t 0.9754098360655737 0.6271784690050739\nPrecission\t 0.9872169466764061 0.11223914269599548\nRecall\t\t 0.9632929436920884 0.6317460317460317\n"
    }
   ],
   "source": [
    "print('Set\\t\\t', 'Train\\t\\t', '   Test')\n",
    "print('AUC\\t\\t', auc_train, auc_test)\n",
    "print('Accuracy\\t', acc_train, acc_test)\n",
    "print('Precission\\t', prec_train, prec_test)\n",
    "print('Recall\\t\\t', rec_train, rec_test)"
   ]
  },
  {
   "cell_type": "code",
   "execution_count": null,
   "metadata": {},
   "outputs": [],
   "source": []
  }
 ]
}